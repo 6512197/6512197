{
 "cells": [
  {
   "cell_type": "markdown",
   "id": "29738fe6",
   "metadata": {
    "papermill": {
     "duration": 0.025355,
     "end_time": "2024-02-26T19:25:59.835061",
     "exception": false,
     "start_time": "2024-02-26T19:25:59.809706",
     "status": "completed"
    },
    "tags": []
   },
   "source": [
    "![image](https://external-content.duckduckgo.com/iu/?u=https%3A%2F%2Ftse1.mm.bing.net%2Fth%3Fid%3DOIP.JaaC1fPXkZubAc5nmOdkhQHaGB%26pid%3DApi&f=1&ipt=8aa4f55c9ca2f0e547428837fecc4750617f1f8d166a11770be62eb13c7a3c82&ipo=images)"
   ]
  },
  {
   "cell_type": "markdown",
   "id": "e6f8bc6a",
   "metadata": {
    "papermill": {
     "duration": 0.024179,
     "end_time": "2024-02-26T19:25:59.884765",
     "exception": false,
     "start_time": "2024-02-26T19:25:59.860586",
     "status": "completed"
    },
    "tags": []
   },
   "source": [
    "# <div style=\"color:blue;display:inline-block;border-radius:5px;background-image: url(https://external-content.duckduckgo.com/iu/?u=https%3A%2F%2Ftse1.mm.bing.net%2Fth%3Fid%3DOIP.T71QG7lnlfjbp5iQEMBitQHaH_%26pid%3DApi&f=1&ipt=aabf93b0761df5853c2d2ca660ac292da379e7956f55f3968bfa026ed4e9c386&ipo=images);font-family:Nexa;overflow:hidden\"><p style=\"padding:15px;color:black;overflow:hidden;font-size:95%;letter-spacing:0.5px;margin:0\"><b>🏥</b>Introduction</p></div>\n",
    "\n",
    "\n",
    "1-Este conjunto de datos sobre enfermedades cardíacas, obtenido de un hospital multispecializado , abarca una amplia gama de información que incluye 14 características comunes, convirtiéndolo en un recurso valioso para la investigación cardiovascular. Con una cohorte de 1000 sujetos y 12 características distintas, este conjunto de datos sirve como una herramienta fundamental para desarrollar métodos de detección temprana de enfermedades cardíacas y construir modelos predictivos de aprendizaje automático. Su naturaleza diversa y completa lo posiciona como un activo significativo en el avance de los esfuerzos de investigación destinados a comprender y mitigar los riesgos cardiovasculares."
   ]
  },
  {
   "cell_type": "markdown",
   "id": "bd6aa0b6",
   "metadata": {
    "papermill": {
     "duration": 0.024385,
     "end_time": "2024-02-26T19:25:59.937829",
     "exception": false,
     "start_time": "2024-02-26T19:25:59.913444",
     "status": "completed"
    },
    "tags": []
   },
   "source": [
    "<h2 style='border:0; border-radius: 15px; font-weight: 150; color:#FFFF; font-size:250%'><center> Cardioresoiratory  Dataset Description\n",
    "</center></h2>\n",
    "\n",
    "|S.No|Attribute|Explain|Unit|Type of Data|\n",
    "|----|---------|-------|----|------------|\n",
    "|1|**Patient Identification Number**|patientid|Numeric|Number|\n",
    "|2|**edad**|age|Numeric|In Years|\n",
    "|3|**Género**|gender|Binary|0 (female) / 1 (male)|\n",
    "|4|**Presión Arterial en Reposo**|restingBP|Numeric|94-200 (in mm HG)|\n",
    "|5|**Serum cholesterol**|serumcholestrol|Numeric|126-564 (in mg/dl)|\n",
    "|6|**Nivel de Azúcar en Sangre en Ayunas**|fastingbloodsugar|Binary|0 (false) / 1 (true) > 120 mg/dl|\n",
    "|7|**Tipo de Dolor de Pecho**|chestpain|Nominal|0 (typical angina), 1 (atypical angina), 2 (non-anginal pain), 3 (asymptomatic)|\n",
    "|8|**Resting electrocardiogram results**|restingelectro|Nominal|0 (normal), 1 (ST-T wave abnormality), 2 (probable or definite left ventricular hypertrophy)|\n",
    "|9|**Ritmo Cardíaco Máximo**|maxheartrate|Numeric|71-202|\n",
    "|10|**Angina de Ejercicio**|exerciseangina|Binary|0 (no) / 1 (yes)|\n",
    "|11|**Depresión del Segmento ST**|oldpeak|Numeric|0-6.2|\n",
    "|12|**Slope of the peak exercise ST segment**|slope|Nominal|1 (upsloping), 2 (flat), 3 (downsloping)|\n",
    "|13|**Número de Vasos Principales**|noofmajorvessels|Numeric|0, 1, 2, 3|\n",
    "|14|**Classification (Objetivo)**|target|Binary|0 (Absence of Heart Disease), 1 (Presence of Heart Disease)|\n"
   ]
  },
  {
   "cell_type": "markdown",
   "id": "8b5ee479",
   "metadata": {
    "papermill": {
     "duration": 0.026773,
     "end_time": "2024-02-26T19:25:59.991838",
     "exception": false,
     "start_time": "2024-02-26T19:25:59.965065",
     "status": "completed"
    },
    "tags": []
   },
   "source": [
    "\n",
    "2-Fuente del conjunto de datos: [Healthcare Dataset Stroke Data](https://www.kaggle.com/asaumya/healthcare-dataset-stroke-data) from Kaggle.\n",
    "\n",
    "Este conjunto de datos se utiliza para predecir si un paciente tiene probabilidades de sufrir un accidente cerebrovascular basado en parámetros como género, edad y diversas enfermedades, así como en el estado de fumador. Se ha tomado un subconjunto de los datos originales de entrenamiento utilizando el método de filtrado con fines de aprendizaje automático y visualización de datos.\n",
    "\n",
    "Acerca de los datos:\n",
    "Cada fila en los datos proporciona información relevante sobre una persona, por ejemplo: edad, género, estado de fumador, ocurrencia de accidente cerebrovascular, además de otra información.\n",
    "'Unknown' en el estado de fumador significa que la información no está disponible.\n",
    "'N/A' en otros campos de entrada implica que no es aplicable. [12*5111]"
   ]
  },
  {
   "cell_type": "markdown",
   "id": "e1e8bfa1",
   "metadata": {
    "papermill": {
     "duration": 0.024544,
     "end_time": "2024-02-26T19:26:00.042600",
     "exception": false,
     "start_time": "2024-02-26T19:26:00.018056",
     "status": "completed"
    },
    "tags": []
   },
   "source": [
    "<h2 style='border:0; border-radius: 15px; font-weight: 150; color:#FFFF; font-size:250%'><center> healthcare-dataset-stroke  Dataset Description\n",
    "</center></h2>\n",
    "\n",
    "|S.No|Attribute|Explain|Unit|Type of Data|\n",
    "|----|---------|-------|----|------------|\n",
    "|1|**Patient Identification Number**|id|Numeric|Number|\n",
    "|2|**edad**|age|Numeric|In Years|\n",
    "|3|**Género**|gender|object | (female) /  (male)|\n",
    "|4|**hipertensión**|hypertension|int64| (in mm HG)|\n",
    "|5|**heart_disease**|heart_disease|Numeric|126-564 (in mg/dl)|\n",
    "|6|**si estan casados**|ever_married|object| Yes (si) / No (no)|\n",
    "|7|**Tipo de trabajo**|work_type|object|( employed) , (Private), (Self-employed),(Govt_job)|\n",
    "|8|**Donde residen**|Residence_type |object| (rural),(urban)|\n",
    "|9|**avg_glucose_level**|avg_glucose_level|float64|55.12-271.74|\n",
    "|10|**bmi**|bmi  |float64| num|\n",
    "|11|**estados de fumadores**|smoking_status|object|(formerly smoked),(smokes),(never smoked),(Unknown)|\n",
    "|12|**accidente cerebrovascular\"**|stroke|binary|1 ( ha sufrido un accidente cerebrovascular.), 0 (no ha sufrido un accidente cerebrovascular.)|\n"
   ]
  },
  {
   "cell_type": "markdown",
   "id": "b87a33f7",
   "metadata": {
    "papermill": {
     "duration": 0.025215,
     "end_time": "2024-02-26T19:26:00.093781",
     "exception": false,
     "start_time": "2024-02-26T19:26:00.068566",
     "status": "completed"
    },
    "tags": []
   },
   "source": [
    "<div style=\"border-radius: 10px; border: 2px solid #6A5ACD; padding: 15px; background-color: #87CEEB; font-size: 100%; text-align: left;\">\n",
    "    <font size=\"+1\" color=\"#2E8B57\"><b>💞🏥 la importación de todas las librerías utilizadas </b></font>\n",
    "</div>\n",
    "\n"
   ]
  },
  {
   "cell_type": "code",
   "execution_count": 1,
   "id": "b602347c",
   "metadata": {
    "execution": {
     "iopub.execute_input": "2024-02-26T19:26:00.146612Z",
     "iopub.status.busy": "2024-02-26T19:26:00.146000Z",
     "iopub.status.idle": "2024-02-26T19:26:02.973569Z",
     "shell.execute_reply": "2024-02-26T19:26:02.972119Z"
    },
    "papermill": {
     "duration": 2.858888,
     "end_time": "2024-02-26T19:26:02.976987",
     "exception": false,
     "start_time": "2024-02-26T19:26:00.118099",
     "status": "completed"
    },
    "tags": []
   },
   "outputs": [],
   "source": [
    "import pandas as pd\n",
    "import numpy as np\n",
    "import seaborn as sns\n",
    "import matplotlib.pyplot as plt\n",
    "import warnings\n",
    "warnings.simplefilter(action='ignore', category=FutureWarning)\n"
   ]
  },
  {
   "cell_type": "code",
   "execution_count": 2,
   "id": "8094e562",
   "metadata": {
    "execution": {
     "iopub.execute_input": "2024-02-26T19:26:03.111424Z",
     "iopub.status.busy": "2024-02-26T19:26:03.110782Z",
     "iopub.status.idle": "2024-02-26T19:26:03.400020Z",
     "shell.execute_reply": "2024-02-26T19:26:03.398724Z"
    },
    "papermill": {
     "duration": 0.4017,
     "end_time": "2024-02-26T19:26:03.403371",
     "exception": false,
     "start_time": "2024-02-26T19:26:03.001671",
     "status": "completed"
    },
    "tags": []
   },
   "outputs": [
    {
     "data": {
      "text/html": [
       "<style type=\"text/css\">\n",
       "#T_d80d7_row0_col0, #T_d80d7_row0_col1, #T_d80d7_row0_col2, #T_d80d7_row0_col3, #T_d80d7_row0_col4, #T_d80d7_row0_col5, #T_d80d7_row0_col6, #T_d80d7_row0_col7, #T_d80d7_row0_col8, #T_d80d7_row0_col9, #T_d80d7_row0_col10, #T_d80d7_row0_col11, #T_d80d7_row0_col12, #T_d80d7_row0_col13, #T_d80d7_row1_col0, #T_d80d7_row1_col1, #T_d80d7_row1_col2, #T_d80d7_row1_col3, #T_d80d7_row1_col4, #T_d80d7_row1_col5, #T_d80d7_row1_col6, #T_d80d7_row1_col7, #T_d80d7_row1_col8, #T_d80d7_row1_col9, #T_d80d7_row1_col10, #T_d80d7_row1_col11, #T_d80d7_row1_col12, #T_d80d7_row1_col13, #T_d80d7_row2_col0, #T_d80d7_row2_col1, #T_d80d7_row2_col2, #T_d80d7_row2_col3, #T_d80d7_row2_col4, #T_d80d7_row2_col5, #T_d80d7_row2_col6, #T_d80d7_row2_col7, #T_d80d7_row2_col8, #T_d80d7_row2_col9, #T_d80d7_row2_col10, #T_d80d7_row2_col11, #T_d80d7_row2_col12, #T_d80d7_row2_col13, #T_d80d7_row3_col0, #T_d80d7_row3_col1, #T_d80d7_row3_col2, #T_d80d7_row3_col3, #T_d80d7_row3_col4, #T_d80d7_row3_col5, #T_d80d7_row3_col6, #T_d80d7_row3_col7, #T_d80d7_row3_col8, #T_d80d7_row3_col9, #T_d80d7_row3_col10, #T_d80d7_row3_col11, #T_d80d7_row3_col12, #T_d80d7_row3_col13, #T_d80d7_row4_col0, #T_d80d7_row4_col1, #T_d80d7_row4_col2, #T_d80d7_row4_col3, #T_d80d7_row4_col4, #T_d80d7_row4_col5, #T_d80d7_row4_col6, #T_d80d7_row4_col7, #T_d80d7_row4_col8, #T_d80d7_row4_col9, #T_d80d7_row4_col10, #T_d80d7_row4_col11, #T_d80d7_row4_col12, #T_d80d7_row4_col13 {\n",
       "  background-color: blue;\n",
       "}\n",
       "</style>\n",
       "<table id=\"T_d80d7\">\n",
       "  <thead>\n",
       "    <tr>\n",
       "      <th class=\"blank level0\" >&nbsp;</th>\n",
       "      <th id=\"T_d80d7_level0_col0\" class=\"col_heading level0 col0\" >patientid</th>\n",
       "      <th id=\"T_d80d7_level0_col1\" class=\"col_heading level0 col1\" >age</th>\n",
       "      <th id=\"T_d80d7_level0_col2\" class=\"col_heading level0 col2\" >gender</th>\n",
       "      <th id=\"T_d80d7_level0_col3\" class=\"col_heading level0 col3\" >chestpain</th>\n",
       "      <th id=\"T_d80d7_level0_col4\" class=\"col_heading level0 col4\" >restingBP</th>\n",
       "      <th id=\"T_d80d7_level0_col5\" class=\"col_heading level0 col5\" >serumcholestrol</th>\n",
       "      <th id=\"T_d80d7_level0_col6\" class=\"col_heading level0 col6\" >fastingbloodsugar</th>\n",
       "      <th id=\"T_d80d7_level0_col7\" class=\"col_heading level0 col7\" >restingrelectro</th>\n",
       "      <th id=\"T_d80d7_level0_col8\" class=\"col_heading level0 col8\" >maxheartrate</th>\n",
       "      <th id=\"T_d80d7_level0_col9\" class=\"col_heading level0 col9\" >exerciseangia</th>\n",
       "      <th id=\"T_d80d7_level0_col10\" class=\"col_heading level0 col10\" >oldpeak</th>\n",
       "      <th id=\"T_d80d7_level0_col11\" class=\"col_heading level0 col11\" >slope</th>\n",
       "      <th id=\"T_d80d7_level0_col12\" class=\"col_heading level0 col12\" >noofmajorvessels</th>\n",
       "      <th id=\"T_d80d7_level0_col13\" class=\"col_heading level0 col13\" >target</th>\n",
       "    </tr>\n",
       "  </thead>\n",
       "  <tbody>\n",
       "    <tr>\n",
       "      <th id=\"T_d80d7_level0_row0\" class=\"row_heading level0 row0\" >0</th>\n",
       "      <td id=\"T_d80d7_row0_col0\" class=\"data row0 col0\" >103368</td>\n",
       "      <td id=\"T_d80d7_row0_col1\" class=\"data row0 col1\" >53</td>\n",
       "      <td id=\"T_d80d7_row0_col2\" class=\"data row0 col2\" >1</td>\n",
       "      <td id=\"T_d80d7_row0_col3\" class=\"data row0 col3\" >2</td>\n",
       "      <td id=\"T_d80d7_row0_col4\" class=\"data row0 col4\" >171</td>\n",
       "      <td id=\"T_d80d7_row0_col5\" class=\"data row0 col5\" >0</td>\n",
       "      <td id=\"T_d80d7_row0_col6\" class=\"data row0 col6\" >0</td>\n",
       "      <td id=\"T_d80d7_row0_col7\" class=\"data row0 col7\" >1</td>\n",
       "      <td id=\"T_d80d7_row0_col8\" class=\"data row0 col8\" >147</td>\n",
       "      <td id=\"T_d80d7_row0_col9\" class=\"data row0 col9\" >0</td>\n",
       "      <td id=\"T_d80d7_row0_col10\" class=\"data row0 col10\" >5.300000</td>\n",
       "      <td id=\"T_d80d7_row0_col11\" class=\"data row0 col11\" >3</td>\n",
       "      <td id=\"T_d80d7_row0_col12\" class=\"data row0 col12\" >3</td>\n",
       "      <td id=\"T_d80d7_row0_col13\" class=\"data row0 col13\" >1</td>\n",
       "    </tr>\n",
       "    <tr>\n",
       "      <th id=\"T_d80d7_level0_row1\" class=\"row_heading level0 row1\" >1</th>\n",
       "      <td id=\"T_d80d7_row1_col0\" class=\"data row1 col0\" >119250</td>\n",
       "      <td id=\"T_d80d7_row1_col1\" class=\"data row1 col1\" >40</td>\n",
       "      <td id=\"T_d80d7_row1_col2\" class=\"data row1 col2\" >1</td>\n",
       "      <td id=\"T_d80d7_row1_col3\" class=\"data row1 col3\" >0</td>\n",
       "      <td id=\"T_d80d7_row1_col4\" class=\"data row1 col4\" >94</td>\n",
       "      <td id=\"T_d80d7_row1_col5\" class=\"data row1 col5\" >229</td>\n",
       "      <td id=\"T_d80d7_row1_col6\" class=\"data row1 col6\" >0</td>\n",
       "      <td id=\"T_d80d7_row1_col7\" class=\"data row1 col7\" >1</td>\n",
       "      <td id=\"T_d80d7_row1_col8\" class=\"data row1 col8\" >115</td>\n",
       "      <td id=\"T_d80d7_row1_col9\" class=\"data row1 col9\" >0</td>\n",
       "      <td id=\"T_d80d7_row1_col10\" class=\"data row1 col10\" >3.700000</td>\n",
       "      <td id=\"T_d80d7_row1_col11\" class=\"data row1 col11\" >1</td>\n",
       "      <td id=\"T_d80d7_row1_col12\" class=\"data row1 col12\" >1</td>\n",
       "      <td id=\"T_d80d7_row1_col13\" class=\"data row1 col13\" >0</td>\n",
       "    </tr>\n",
       "    <tr>\n",
       "      <th id=\"T_d80d7_level0_row2\" class=\"row_heading level0 row2\" >2</th>\n",
       "      <td id=\"T_d80d7_row2_col0\" class=\"data row2 col0\" >119372</td>\n",
       "      <td id=\"T_d80d7_row2_col1\" class=\"data row2 col1\" >49</td>\n",
       "      <td id=\"T_d80d7_row2_col2\" class=\"data row2 col2\" >1</td>\n",
       "      <td id=\"T_d80d7_row2_col3\" class=\"data row2 col3\" >2</td>\n",
       "      <td id=\"T_d80d7_row2_col4\" class=\"data row2 col4\" >133</td>\n",
       "      <td id=\"T_d80d7_row2_col5\" class=\"data row2 col5\" >142</td>\n",
       "      <td id=\"T_d80d7_row2_col6\" class=\"data row2 col6\" >0</td>\n",
       "      <td id=\"T_d80d7_row2_col7\" class=\"data row2 col7\" >0</td>\n",
       "      <td id=\"T_d80d7_row2_col8\" class=\"data row2 col8\" >202</td>\n",
       "      <td id=\"T_d80d7_row2_col9\" class=\"data row2 col9\" >1</td>\n",
       "      <td id=\"T_d80d7_row2_col10\" class=\"data row2 col10\" >5.000000</td>\n",
       "      <td id=\"T_d80d7_row2_col11\" class=\"data row2 col11\" >1</td>\n",
       "      <td id=\"T_d80d7_row2_col12\" class=\"data row2 col12\" >0</td>\n",
       "      <td id=\"T_d80d7_row2_col13\" class=\"data row2 col13\" >0</td>\n",
       "    </tr>\n",
       "    <tr>\n",
       "      <th id=\"T_d80d7_level0_row3\" class=\"row_heading level0 row3\" >3</th>\n",
       "      <td id=\"T_d80d7_row3_col0\" class=\"data row3 col0\" >132514</td>\n",
       "      <td id=\"T_d80d7_row3_col1\" class=\"data row3 col1\" >43</td>\n",
       "      <td id=\"T_d80d7_row3_col2\" class=\"data row3 col2\" >1</td>\n",
       "      <td id=\"T_d80d7_row3_col3\" class=\"data row3 col3\" >0</td>\n",
       "      <td id=\"T_d80d7_row3_col4\" class=\"data row3 col4\" >138</td>\n",
       "      <td id=\"T_d80d7_row3_col5\" class=\"data row3 col5\" >295</td>\n",
       "      <td id=\"T_d80d7_row3_col6\" class=\"data row3 col6\" >1</td>\n",
       "      <td id=\"T_d80d7_row3_col7\" class=\"data row3 col7\" >1</td>\n",
       "      <td id=\"T_d80d7_row3_col8\" class=\"data row3 col8\" >153</td>\n",
       "      <td id=\"T_d80d7_row3_col9\" class=\"data row3 col9\" >0</td>\n",
       "      <td id=\"T_d80d7_row3_col10\" class=\"data row3 col10\" >3.200000</td>\n",
       "      <td id=\"T_d80d7_row3_col11\" class=\"data row3 col11\" >2</td>\n",
       "      <td id=\"T_d80d7_row3_col12\" class=\"data row3 col12\" >2</td>\n",
       "      <td id=\"T_d80d7_row3_col13\" class=\"data row3 col13\" >1</td>\n",
       "    </tr>\n",
       "    <tr>\n",
       "      <th id=\"T_d80d7_level0_row4\" class=\"row_heading level0 row4\" >4</th>\n",
       "      <td id=\"T_d80d7_row4_col0\" class=\"data row4 col0\" >146211</td>\n",
       "      <td id=\"T_d80d7_row4_col1\" class=\"data row4 col1\" >31</td>\n",
       "      <td id=\"T_d80d7_row4_col2\" class=\"data row4 col2\" >1</td>\n",
       "      <td id=\"T_d80d7_row4_col3\" class=\"data row4 col3\" >1</td>\n",
       "      <td id=\"T_d80d7_row4_col4\" class=\"data row4 col4\" >199</td>\n",
       "      <td id=\"T_d80d7_row4_col5\" class=\"data row4 col5\" >0</td>\n",
       "      <td id=\"T_d80d7_row4_col6\" class=\"data row4 col6\" >0</td>\n",
       "      <td id=\"T_d80d7_row4_col7\" class=\"data row4 col7\" >2</td>\n",
       "      <td id=\"T_d80d7_row4_col8\" class=\"data row4 col8\" >136</td>\n",
       "      <td id=\"T_d80d7_row4_col9\" class=\"data row4 col9\" >0</td>\n",
       "      <td id=\"T_d80d7_row4_col10\" class=\"data row4 col10\" >5.300000</td>\n",
       "      <td id=\"T_d80d7_row4_col11\" class=\"data row4 col11\" >3</td>\n",
       "      <td id=\"T_d80d7_row4_col12\" class=\"data row4 col12\" >2</td>\n",
       "      <td id=\"T_d80d7_row4_col13\" class=\"data row4 col13\" >1</td>\n",
       "    </tr>\n",
       "  </tbody>\n",
       "</table>\n"
      ],
      "text/plain": [
       "<pandas.io.formats.style.Styler at 0x7eda6aed6c20>"
      ]
     },
     "execution_count": 2,
     "metadata": {},
     "output_type": "execute_result"
    }
   ],
   "source": [
    "df = pd.read_csv('/kaggle/input/cardiorrespiratoriopart1/Cardiorespiratory_Health.csv',sep=',')\n",
    "df\n",
    "\n",
    "def color_back(val):\n",
    "    color = 'blue'  \n",
    "    return f'background-color: {color}'\n",
    "styled_df = df.head().style.applymap(color_back)\n",
    "styled_df\n"
   ]
  },
  {
   "cell_type": "markdown",
   "id": "9a1f9657",
   "metadata": {
    "papermill": {
     "duration": 0.025087,
     "end_time": "2024-02-26T19:26:03.454501",
     "exception": false,
     "start_time": "2024-02-26T19:26:03.429414",
     "status": "completed"
    },
    "tags": []
   },
   "source": [
    "# <div style=\"color:blue;display:inline-block;border-radius:5px;background-image: url(https://external-content.duckduckgo.com/iu/?u=https%3A%2F%2Ftse1.mm.bing.net%2Fth%3Fid%3DOIP.T71QG7lnlfjbp5iQEMBitQHaH_%26pid%3DApi&f=1&ipt=aabf93b0761df5853c2d2ca660ac292da379e7956f55f3968bfa026ed4e9c386&ipo=images);font-family:Nexa;overflow:hidden\"><p style=\"padding:15px;color:black;overflow:hidden;font-size:95%;letter-spacing:0.5px;margin:0\">🏥</b> Data Analysis (EDA)📊</p></div>\n"
   ]
  },
  {
   "cell_type": "code",
   "execution_count": 3,
   "id": "a96f7ebd",
   "metadata": {
    "execution": {
     "iopub.execute_input": "2024-02-26T19:26:03.508565Z",
     "iopub.status.busy": "2024-02-26T19:26:03.507917Z",
     "iopub.status.idle": "2024-02-26T19:26:03.597071Z",
     "shell.execute_reply": "2024-02-26T19:26:03.595679Z"
    },
    "papermill": {
     "duration": 0.118922,
     "end_time": "2024-02-26T19:26:03.599913",
     "exception": false,
     "start_time": "2024-02-26T19:26:03.480991",
     "status": "completed"
    },
    "tags": []
   },
   "outputs": [
    {
     "data": {
      "text/html": [
       "<style type=\"text/css\">\n",
       "#T_876df_row0_col0, #T_876df_row1_col2, #T_876df_row1_col3, #T_876df_row2_col1, #T_876df_row2_col2, #T_876df_row2_col3, #T_876df_row2_col4, #T_876df_row2_col5, #T_876df_row2_col6, #T_876df_row2_col7, #T_876df_row3_col1, #T_876df_row3_col2, #T_876df_row3_col3, #T_876df_row3_col4, #T_876df_row3_col5, #T_876df_row3_col6, #T_876df_row3_col7, #T_876df_row4_col2, #T_876df_row5_col3, #T_876df_row6_col1, #T_876df_row6_col2, #T_876df_row6_col3, #T_876df_row6_col4, #T_876df_row6_col5, #T_876df_row6_col6, #T_876df_row6_col7, #T_876df_row7_col1, #T_876df_row7_col2, #T_876df_row7_col3, #T_876df_row7_col4, #T_876df_row7_col5, #T_876df_row7_col6, #T_876df_row7_col7, #T_876df_row8_col2, #T_876df_row9_col1, #T_876df_row9_col2, #T_876df_row9_col3, #T_876df_row9_col4, #T_876df_row9_col5, #T_876df_row9_col6, #T_876df_row9_col7, #T_876df_row10_col1, #T_876df_row10_col2, #T_876df_row10_col3, #T_876df_row10_col4, #T_876df_row10_col5, #T_876df_row11_col1, #T_876df_row11_col2, #T_876df_row11_col3, #T_876df_row11_col4, #T_876df_row11_col5, #T_876df_row11_col6, #T_876df_row11_col7, #T_876df_row12_col1, #T_876df_row12_col2, #T_876df_row12_col3, #T_876df_row12_col4, #T_876df_row12_col5, #T_876df_row12_col6, #T_876df_row12_col7, #T_876df_row13_col1, #T_876df_row13_col2, #T_876df_row13_col3, #T_876df_row13_col4, #T_876df_row13_col5, #T_876df_row13_col6, #T_876df_row13_col7 {\n",
       "  background-color: #fff7fb;\n",
       "  color: #000000;\n",
       "}\n",
       "#T_876df_row0_col1 {\n",
       "  background-color: #71a8ce;\n",
       "  color: #f1f1f1;\n",
       "}\n",
       "#T_876df_row0_col2 {\n",
       "  background-color: #c2cbe2;\n",
       "  color: #000000;\n",
       "}\n",
       "#T_876df_row0_col3 {\n",
       "  background-color: #fef6fa;\n",
       "  color: #000000;\n",
       "}\n",
       "#T_876df_row0_col4 {\n",
       "  background-color: #d0d1e6;\n",
       "  color: #000000;\n",
       "}\n",
       "#T_876df_row0_col5 {\n",
       "  background-color: #76aad0;\n",
       "  color: #f1f1f1;\n",
       "}\n",
       "#T_876df_row0_col6 {\n",
       "  background-color: #056dab;\n",
       "  color: #f1f1f1;\n",
       "}\n",
       "#T_876df_row0_col7, #T_876df_row1_col0, #T_876df_row2_col0, #T_876df_row3_col0, #T_876df_row4_col0, #T_876df_row5_col0, #T_876df_row6_col0, #T_876df_row7_col0, #T_876df_row8_col0, #T_876df_row9_col0, #T_876df_row10_col0, #T_876df_row11_col0, #T_876df_row12_col0, #T_876df_row13_col0 {\n",
       "  background-color: #023858;\n",
       "  color: #f1f1f1;\n",
       "}\n",
       "#T_876df_row1_col1, #T_876df_row1_col5 {\n",
       "  background-color: #faf3f9;\n",
       "  color: #000000;\n",
       "}\n",
       "#T_876df_row1_col4 {\n",
       "  background-color: #fdf5fa;\n",
       "  color: #000000;\n",
       "}\n",
       "#T_876df_row1_col6 {\n",
       "  background-color: #f8f1f8;\n",
       "  color: #000000;\n",
       "}\n",
       "#T_876df_row1_col7, #T_876df_row4_col3 {\n",
       "  background-color: #f5eff6;\n",
       "  color: #000000;\n",
       "}\n",
       "#T_876df_row4_col1 {\n",
       "  background-color: #ece7f2;\n",
       "  color: #000000;\n",
       "}\n",
       "#T_876df_row4_col4 {\n",
       "  background-color: #f0eaf4;\n",
       "  color: #000000;\n",
       "}\n",
       "#T_876df_row4_col5 {\n",
       "  background-color: #ede8f3;\n",
       "  color: #000000;\n",
       "}\n",
       "#T_876df_row4_col6 {\n",
       "  background-color: #e6e2ef;\n",
       "  color: #000000;\n",
       "}\n",
       "#T_876df_row4_col7, #T_876df_row8_col7 {\n",
       "  background-color: #e1dfed;\n",
       "  color: #000000;\n",
       "}\n",
       "#T_876df_row5_col1 {\n",
       "  background-color: #bcc7e1;\n",
       "  color: #000000;\n",
       "}\n",
       "#T_876df_row5_col2 {\n",
       "  background-color: #ebe6f2;\n",
       "  color: #000000;\n",
       "}\n",
       "#T_876df_row5_col4 {\n",
       "  background-color: #d3d4e7;\n",
       "  color: #000000;\n",
       "}\n",
       "#T_876df_row5_col5 {\n",
       "  background-color: #b9c6e0;\n",
       "  color: #000000;\n",
       "}\n",
       "#T_876df_row5_col6 {\n",
       "  background-color: #9ab8d8;\n",
       "  color: #000000;\n",
       "}\n",
       "#T_876df_row5_col7 {\n",
       "  background-color: #4094c3;\n",
       "  color: #f1f1f1;\n",
       "}\n",
       "#T_876df_row8_col1, #T_876df_row8_col5 {\n",
       "  background-color: #eee8f3;\n",
       "  color: #000000;\n",
       "}\n",
       "#T_876df_row8_col3 {\n",
       "  background-color: #faf2f8;\n",
       "  color: #000000;\n",
       "}\n",
       "#T_876df_row8_col4 {\n",
       "  background-color: #f2ecf5;\n",
       "  color: #000000;\n",
       "}\n",
       "#T_876df_row8_col6 {\n",
       "  background-color: #e7e3f0;\n",
       "  color: #000000;\n",
       "}\n",
       "#T_876df_row10_col6, #T_876df_row10_col7 {\n",
       "  background-color: #fef6fb;\n",
       "  color: #000000;\n",
       "}\n",
       "</style>\n",
       "<table id=\"T_876df\">\n",
       "  <thead>\n",
       "    <tr>\n",
       "      <th class=\"blank level0\" >&nbsp;</th>\n",
       "      <th id=\"T_876df_level0_col0\" class=\"col_heading level0 col0\" >count</th>\n",
       "      <th id=\"T_876df_level0_col1\" class=\"col_heading level0 col1\" >mean</th>\n",
       "      <th id=\"T_876df_level0_col2\" class=\"col_heading level0 col2\" >std</th>\n",
       "      <th id=\"T_876df_level0_col3\" class=\"col_heading level0 col3\" >min</th>\n",
       "      <th id=\"T_876df_level0_col4\" class=\"col_heading level0 col4\" >25%</th>\n",
       "      <th id=\"T_876df_level0_col5\" class=\"col_heading level0 col5\" >50%</th>\n",
       "      <th id=\"T_876df_level0_col6\" class=\"col_heading level0 col6\" >75%</th>\n",
       "      <th id=\"T_876df_level0_col7\" class=\"col_heading level0 col7\" >max</th>\n",
       "    </tr>\n",
       "  </thead>\n",
       "  <tbody>\n",
       "    <tr>\n",
       "      <th id=\"T_876df_level0_row0\" class=\"row_heading level0 row0\" >patientid</th>\n",
       "      <td id=\"T_876df_row0_col0\" class=\"data row0 col0\" >1000.000000</td>\n",
       "      <td id=\"T_876df_row0_col1\" class=\"data row0 col1\" >5048704.412000</td>\n",
       "      <td id=\"T_876df_row0_col2\" class=\"data row0 col2\" >2895904.500488</td>\n",
       "      <td id=\"T_876df_row0_col3\" class=\"data row0 col3\" >103368.000000</td>\n",
       "      <td id=\"T_876df_row0_col4\" class=\"data row0 col4\" >2536439.500000</td>\n",
       "      <td id=\"T_876df_row0_col5\" class=\"data row0 col5\" >4952508.500000</td>\n",
       "      <td id=\"T_876df_row0_col6\" class=\"data row0 col6\" >7681877.000000</td>\n",
       "      <td id=\"T_876df_row0_col7\" class=\"data row0 col7\" >9990855.000000</td>\n",
       "    </tr>\n",
       "    <tr>\n",
       "      <th id=\"T_876df_level0_row1\" class=\"row_heading level0 row1\" >age</th>\n",
       "      <td id=\"T_876df_row1_col0\" class=\"data row1 col0\" >1000.000000</td>\n",
       "      <td id=\"T_876df_row1_col1\" class=\"data row1 col1\" >49.242000</td>\n",
       "      <td id=\"T_876df_row1_col2\" class=\"data row1 col2\" >17.864730</td>\n",
       "      <td id=\"T_876df_row1_col3\" class=\"data row1 col3\" >20.000000</td>\n",
       "      <td id=\"T_876df_row1_col4\" class=\"data row1 col4\" >34.000000</td>\n",
       "      <td id=\"T_876df_row1_col5\" class=\"data row1 col5\" >49.000000</td>\n",
       "      <td id=\"T_876df_row1_col6\" class=\"data row1 col6\" >64.250000</td>\n",
       "      <td id=\"T_876df_row1_col7\" class=\"data row1 col7\" >80.000000</td>\n",
       "    </tr>\n",
       "    <tr>\n",
       "      <th id=\"T_876df_level0_row2\" class=\"row_heading level0 row2\" >gender</th>\n",
       "      <td id=\"T_876df_row2_col0\" class=\"data row2 col0\" >1000.000000</td>\n",
       "      <td id=\"T_876df_row2_col1\" class=\"data row2 col1\" >0.765000</td>\n",
       "      <td id=\"T_876df_row2_col2\" class=\"data row2 col2\" >0.424211</td>\n",
       "      <td id=\"T_876df_row2_col3\" class=\"data row2 col3\" >0.000000</td>\n",
       "      <td id=\"T_876df_row2_col4\" class=\"data row2 col4\" >1.000000</td>\n",
       "      <td id=\"T_876df_row2_col5\" class=\"data row2 col5\" >1.000000</td>\n",
       "      <td id=\"T_876df_row2_col6\" class=\"data row2 col6\" >1.000000</td>\n",
       "      <td id=\"T_876df_row2_col7\" class=\"data row2 col7\" >1.000000</td>\n",
       "    </tr>\n",
       "    <tr>\n",
       "      <th id=\"T_876df_level0_row3\" class=\"row_heading level0 row3\" >chestpain</th>\n",
       "      <td id=\"T_876df_row3_col0\" class=\"data row3 col0\" >1000.000000</td>\n",
       "      <td id=\"T_876df_row3_col1\" class=\"data row3 col1\" >0.980000</td>\n",
       "      <td id=\"T_876df_row3_col2\" class=\"data row3 col2\" >0.953157</td>\n",
       "      <td id=\"T_876df_row3_col3\" class=\"data row3 col3\" >0.000000</td>\n",
       "      <td id=\"T_876df_row3_col4\" class=\"data row3 col4\" >0.000000</td>\n",
       "      <td id=\"T_876df_row3_col5\" class=\"data row3 col5\" >1.000000</td>\n",
       "      <td id=\"T_876df_row3_col6\" class=\"data row3 col6\" >2.000000</td>\n",
       "      <td id=\"T_876df_row3_col7\" class=\"data row3 col7\" >3.000000</td>\n",
       "    </tr>\n",
       "    <tr>\n",
       "      <th id=\"T_876df_level0_row4\" class=\"row_heading level0 row4\" >restingBP</th>\n",
       "      <td id=\"T_876df_row4_col0\" class=\"data row4 col0\" >1000.000000</td>\n",
       "      <td id=\"T_876df_row4_col1\" class=\"data row4 col1\" >151.747000</td>\n",
       "      <td id=\"T_876df_row4_col2\" class=\"data row4 col2\" >29.965228</td>\n",
       "      <td id=\"T_876df_row4_col3\" class=\"data row4 col3\" >94.000000</td>\n",
       "      <td id=\"T_876df_row4_col4\" class=\"data row4 col4\" >129.000000</td>\n",
       "      <td id=\"T_876df_row4_col5\" class=\"data row4 col5\" >147.000000</td>\n",
       "      <td id=\"T_876df_row4_col6\" class=\"data row4 col6\" >181.000000</td>\n",
       "      <td id=\"T_876df_row4_col7\" class=\"data row4 col7\" >200.000000</td>\n",
       "    </tr>\n",
       "    <tr>\n",
       "      <th id=\"T_876df_level0_row5\" class=\"row_heading level0 row5\" >serumcholestrol</th>\n",
       "      <td id=\"T_876df_row5_col0\" class=\"data row5 col0\" >1000.000000</td>\n",
       "      <td id=\"T_876df_row5_col1\" class=\"data row5 col1\" >311.447000</td>\n",
       "      <td id=\"T_876df_row5_col2\" class=\"data row5 col2\" >132.443801</td>\n",
       "      <td id=\"T_876df_row5_col3\" class=\"data row5 col3\" >0.000000</td>\n",
       "      <td id=\"T_876df_row5_col4\" class=\"data row5 col4\" >235.750000</td>\n",
       "      <td id=\"T_876df_row5_col5\" class=\"data row5 col5\" >318.000000</td>\n",
       "      <td id=\"T_876df_row5_col6\" class=\"data row5 col6\" >404.250000</td>\n",
       "      <td id=\"T_876df_row5_col7\" class=\"data row5 col7\" >602.000000</td>\n",
       "    </tr>\n",
       "    <tr>\n",
       "      <th id=\"T_876df_level0_row6\" class=\"row_heading level0 row6\" >fastingbloodsugar</th>\n",
       "      <td id=\"T_876df_row6_col0\" class=\"data row6 col0\" >1000.000000</td>\n",
       "      <td id=\"T_876df_row6_col1\" class=\"data row6 col1\" >0.296000</td>\n",
       "      <td id=\"T_876df_row6_col2\" class=\"data row6 col2\" >0.456719</td>\n",
       "      <td id=\"T_876df_row6_col3\" class=\"data row6 col3\" >0.000000</td>\n",
       "      <td id=\"T_876df_row6_col4\" class=\"data row6 col4\" >0.000000</td>\n",
       "      <td id=\"T_876df_row6_col5\" class=\"data row6 col5\" >0.000000</td>\n",
       "      <td id=\"T_876df_row6_col6\" class=\"data row6 col6\" >1.000000</td>\n",
       "      <td id=\"T_876df_row6_col7\" class=\"data row6 col7\" >1.000000</td>\n",
       "    </tr>\n",
       "    <tr>\n",
       "      <th id=\"T_876df_level0_row7\" class=\"row_heading level0 row7\" >restingrelectro</th>\n",
       "      <td id=\"T_876df_row7_col0\" class=\"data row7 col0\" >1000.000000</td>\n",
       "      <td id=\"T_876df_row7_col1\" class=\"data row7 col1\" >0.748000</td>\n",
       "      <td id=\"T_876df_row7_col2\" class=\"data row7 col2\" >0.770123</td>\n",
       "      <td id=\"T_876df_row7_col3\" class=\"data row7 col3\" >0.000000</td>\n",
       "      <td id=\"T_876df_row7_col4\" class=\"data row7 col4\" >0.000000</td>\n",
       "      <td id=\"T_876df_row7_col5\" class=\"data row7 col5\" >1.000000</td>\n",
       "      <td id=\"T_876df_row7_col6\" class=\"data row7 col6\" >1.000000</td>\n",
       "      <td id=\"T_876df_row7_col7\" class=\"data row7 col7\" >2.000000</td>\n",
       "    </tr>\n",
       "    <tr>\n",
       "      <th id=\"T_876df_level0_row8\" class=\"row_heading level0 row8\" >maxheartrate</th>\n",
       "      <td id=\"T_876df_row8_col0\" class=\"data row8 col0\" >1000.000000</td>\n",
       "      <td id=\"T_876df_row8_col1\" class=\"data row8 col1\" >145.477000</td>\n",
       "      <td id=\"T_876df_row8_col2\" class=\"data row8 col2\" >34.190268</td>\n",
       "      <td id=\"T_876df_row8_col3\" class=\"data row8 col3\" >71.000000</td>\n",
       "      <td id=\"T_876df_row8_col4\" class=\"data row8 col4\" >119.750000</td>\n",
       "      <td id=\"T_876df_row8_col5\" class=\"data row8 col5\" >146.000000</td>\n",
       "      <td id=\"T_876df_row8_col6\" class=\"data row8 col6\" >175.000000</td>\n",
       "      <td id=\"T_876df_row8_col7\" class=\"data row8 col7\" >202.000000</td>\n",
       "    </tr>\n",
       "    <tr>\n",
       "      <th id=\"T_876df_level0_row9\" class=\"row_heading level0 row9\" >exerciseangia</th>\n",
       "      <td id=\"T_876df_row9_col0\" class=\"data row9 col0\" >1000.000000</td>\n",
       "      <td id=\"T_876df_row9_col1\" class=\"data row9 col1\" >0.498000</td>\n",
       "      <td id=\"T_876df_row9_col2\" class=\"data row9 col2\" >0.500246</td>\n",
       "      <td id=\"T_876df_row9_col3\" class=\"data row9 col3\" >0.000000</td>\n",
       "      <td id=\"T_876df_row9_col4\" class=\"data row9 col4\" >0.000000</td>\n",
       "      <td id=\"T_876df_row9_col5\" class=\"data row9 col5\" >0.000000</td>\n",
       "      <td id=\"T_876df_row9_col6\" class=\"data row9 col6\" >1.000000</td>\n",
       "      <td id=\"T_876df_row9_col7\" class=\"data row9 col7\" >1.000000</td>\n",
       "    </tr>\n",
       "    <tr>\n",
       "      <th id=\"T_876df_level0_row10\" class=\"row_heading level0 row10\" >oldpeak</th>\n",
       "      <td id=\"T_876df_row10_col0\" class=\"data row10 col0\" >1000.000000</td>\n",
       "      <td id=\"T_876df_row10_col1\" class=\"data row10 col1\" >2.707700</td>\n",
       "      <td id=\"T_876df_row10_col2\" class=\"data row10 col2\" >1.720753</td>\n",
       "      <td id=\"T_876df_row10_col3\" class=\"data row10 col3\" >0.000000</td>\n",
       "      <td id=\"T_876df_row10_col4\" class=\"data row10 col4\" >1.300000</td>\n",
       "      <td id=\"T_876df_row10_col5\" class=\"data row10 col5\" >2.400000</td>\n",
       "      <td id=\"T_876df_row10_col6\" class=\"data row10 col6\" >4.100000</td>\n",
       "      <td id=\"T_876df_row10_col7\" class=\"data row10 col7\" >6.200000</td>\n",
       "    </tr>\n",
       "    <tr>\n",
       "      <th id=\"T_876df_level0_row11\" class=\"row_heading level0 row11\" >slope</th>\n",
       "      <td id=\"T_876df_row11_col0\" class=\"data row11 col0\" >1000.000000</td>\n",
       "      <td id=\"T_876df_row11_col1\" class=\"data row11 col1\" >1.540000</td>\n",
       "      <td id=\"T_876df_row11_col2\" class=\"data row11 col2\" >1.003697</td>\n",
       "      <td id=\"T_876df_row11_col3\" class=\"data row11 col3\" >0.000000</td>\n",
       "      <td id=\"T_876df_row11_col4\" class=\"data row11 col4\" >1.000000</td>\n",
       "      <td id=\"T_876df_row11_col5\" class=\"data row11 col5\" >2.000000</td>\n",
       "      <td id=\"T_876df_row11_col6\" class=\"data row11 col6\" >2.000000</td>\n",
       "      <td id=\"T_876df_row11_col7\" class=\"data row11 col7\" >3.000000</td>\n",
       "    </tr>\n",
       "    <tr>\n",
       "      <th id=\"T_876df_level0_row12\" class=\"row_heading level0 row12\" >noofmajorvessels</th>\n",
       "      <td id=\"T_876df_row12_col0\" class=\"data row12 col0\" >1000.000000</td>\n",
       "      <td id=\"T_876df_row12_col1\" class=\"data row12 col1\" >1.222000</td>\n",
       "      <td id=\"T_876df_row12_col2\" class=\"data row12 col2\" >0.977585</td>\n",
       "      <td id=\"T_876df_row12_col3\" class=\"data row12 col3\" >0.000000</td>\n",
       "      <td id=\"T_876df_row12_col4\" class=\"data row12 col4\" >0.000000</td>\n",
       "      <td id=\"T_876df_row12_col5\" class=\"data row12 col5\" >1.000000</td>\n",
       "      <td id=\"T_876df_row12_col6\" class=\"data row12 col6\" >2.000000</td>\n",
       "      <td id=\"T_876df_row12_col7\" class=\"data row12 col7\" >3.000000</td>\n",
       "    </tr>\n",
       "    <tr>\n",
       "      <th id=\"T_876df_level0_row13\" class=\"row_heading level0 row13\" >target</th>\n",
       "      <td id=\"T_876df_row13_col0\" class=\"data row13 col0\" >1000.000000</td>\n",
       "      <td id=\"T_876df_row13_col1\" class=\"data row13 col1\" >0.580000</td>\n",
       "      <td id=\"T_876df_row13_col2\" class=\"data row13 col2\" >0.493805</td>\n",
       "      <td id=\"T_876df_row13_col3\" class=\"data row13 col3\" >0.000000</td>\n",
       "      <td id=\"T_876df_row13_col4\" class=\"data row13 col4\" >0.000000</td>\n",
       "      <td id=\"T_876df_row13_col5\" class=\"data row13 col5\" >1.000000</td>\n",
       "      <td id=\"T_876df_row13_col6\" class=\"data row13 col6\" >1.000000</td>\n",
       "      <td id=\"T_876df_row13_col7\" class=\"data row13 col7\" >1.000000</td>\n",
       "    </tr>\n",
       "  </tbody>\n",
       "</table>\n"
      ],
      "text/plain": [
       "<pandas.io.formats.style.Styler at 0x7eda8416e9b0>"
      ]
     },
     "execution_count": 3,
     "metadata": {},
     "output_type": "execute_result"
    }
   ],
   "source": [
    "df.describe().T.style.background_gradient(axis=1)"
   ]
  },
  {
   "cell_type": "code",
   "execution_count": 4,
   "id": "6ea87da4",
   "metadata": {
    "execution": {
     "iopub.execute_input": "2024-02-26T19:26:03.654205Z",
     "iopub.status.busy": "2024-02-26T19:26:03.653690Z",
     "iopub.status.idle": "2024-02-26T19:26:03.678973Z",
     "shell.execute_reply": "2024-02-26T19:26:03.677699Z"
    },
    "papermill": {
     "duration": 0.055725,
     "end_time": "2024-02-26T19:26:03.681955",
     "exception": false,
     "start_time": "2024-02-26T19:26:03.626230",
     "status": "completed"
    },
    "tags": []
   },
   "outputs": [
    {
     "name": "stdout",
     "output_type": "stream",
     "text": [
      "<class 'pandas.core.frame.DataFrame'>\n",
      "RangeIndex: 1000 entries, 0 to 999\n",
      "Data columns (total 14 columns):\n",
      " #   Column             Non-Null Count  Dtype  \n",
      "---  ------             --------------  -----  \n",
      " 0   patientid          1000 non-null   int64  \n",
      " 1   age                1000 non-null   int64  \n",
      " 2   gender             1000 non-null   int64  \n",
      " 3   chestpain          1000 non-null   int64  \n",
      " 4   restingBP          1000 non-null   int64  \n",
      " 5   serumcholestrol    1000 non-null   int64  \n",
      " 6   fastingbloodsugar  1000 non-null   int64  \n",
      " 7   restingrelectro    1000 non-null   int64  \n",
      " 8   maxheartrate       1000 non-null   int64  \n",
      " 9   exerciseangia      1000 non-null   int64  \n",
      " 10  oldpeak            1000 non-null   float64\n",
      " 11  slope              1000 non-null   int64  \n",
      " 12  noofmajorvessels   1000 non-null   int64  \n",
      " 13  target             1000 non-null   int64  \n",
      "dtypes: float64(1), int64(13)\n",
      "memory usage: 109.5 KB\n"
     ]
    }
   ],
   "source": [
    "df.info()"
   ]
  },
  {
   "cell_type": "code",
   "execution_count": 5,
   "id": "a970d43e",
   "metadata": {
    "execution": {
     "iopub.execute_input": "2024-02-26T19:26:03.737575Z",
     "iopub.status.busy": "2024-02-26T19:26:03.736798Z",
     "iopub.status.idle": "2024-02-26T19:26:03.743574Z",
     "shell.execute_reply": "2024-02-26T19:26:03.742626Z"
    },
    "papermill": {
     "duration": 0.03677,
     "end_time": "2024-02-26T19:26:03.745914",
     "exception": false,
     "start_time": "2024-02-26T19:26:03.709144",
     "status": "completed"
    },
    "tags": []
   },
   "outputs": [
    {
     "data": {
      "text/plain": [
       "['patientid',\n",
       " 'age',\n",
       " 'gender',\n",
       " 'chestpain',\n",
       " 'restingBP',\n",
       " 'serumcholestrol',\n",
       " 'fastingbloodsugar',\n",
       " 'restingrelectro',\n",
       " 'maxheartrate',\n",
       " 'exerciseangia',\n",
       " 'oldpeak',\n",
       " 'slope',\n",
       " 'noofmajorvessels',\n",
       " 'target']"
      ]
     },
     "execution_count": 5,
     "metadata": {},
     "output_type": "execute_result"
    }
   ],
   "source": [
    "df.columns.tolist()"
   ]
  },
  {
   "cell_type": "markdown",
   "id": "0d4c53d7",
   "metadata": {
    "papermill": {
     "duration": 0.02626,
     "end_time": "2024-02-26T19:26:03.798378",
     "exception": false,
     "start_time": "2024-02-26T19:26:03.772118",
     "status": "completed"
    },
    "tags": []
   },
   "source": [
    "<div style=\"border-radius: 10px; border: 2px solid #6A5ACD; padding: 15px; background-color: #87CEEB; font-size: 100%; text-align: left;\">\n",
    "    <font size=\"+1\" color=\"#2E8B57\"><b>💞🏥 ¿Cuántos hombres y mujeres pacientes hay en el conjunto de datos?</b></font>\n",
    "\n",
    "**Respuesta: Number of males: 765\n",
    "Number of females: 235**\n",
    "\n",
    "**Explication: hemos Calculado el número de hombres en el DataFrame 'df'. Filtramos la columna 'gender' para aquellos valores que son iguales a 1 (representando generalmente el género masculino) y luego cuenta la cantidad de ocurrencias de esta condición utilizando la función .sum().igual para el numero de mujeres**"
   ]
  },
  {
   "cell_type": "code",
   "execution_count": 6,
   "id": "12f8f556",
   "metadata": {
    "execution": {
     "iopub.execute_input": "2024-02-26T19:26:03.854681Z",
     "iopub.status.busy": "2024-02-26T19:26:03.853930Z",
     "iopub.status.idle": "2024-02-26T19:26:03.862215Z",
     "shell.execute_reply": "2024-02-26T19:26:03.860899Z"
    },
    "papermill": {
     "duration": 0.039924,
     "end_time": "2024-02-26T19:26:03.865661",
     "exception": false,
     "start_time": "2024-02-26T19:26:03.825737",
     "status": "completed"
    },
    "tags": []
   },
   "outputs": [
    {
     "name": "stdout",
     "output_type": "stream",
     "text": [
      "Number of males: 765\n",
      "Number of females: 235\n"
     ]
    }
   ],
   "source": [
    "#there is only  235 patient females \n",
    "num_males = (df['gender'] == 1).sum()\n",
    "num_females = (df['gender'] == 0).sum()\n",
    "\n",
    "print(f\"Number of males: {num_males}\")\n",
    "print(f\"Number of females: {num_females}\")"
   ]
  },
  {
   "cell_type": "code",
   "execution_count": 7,
   "id": "09da2db8",
   "metadata": {
    "execution": {
     "iopub.execute_input": "2024-02-26T19:26:03.921991Z",
     "iopub.status.busy": "2024-02-26T19:26:03.920459Z",
     "iopub.status.idle": "2024-02-26T19:26:04.385180Z",
     "shell.execute_reply": "2024-02-26T19:26:04.384093Z"
    },
    "papermill": {
     "duration": 0.495659,
     "end_time": "2024-02-26T19:26:04.388002",
     "exception": false,
     "start_time": "2024-02-26T19:26:03.892343",
     "status": "completed"
    },
    "tags": []
   },
   "outputs": [
    {
     "data": {
      "image/png": "[encoded data removed]",
      "text/plain": [
       "<Figure size 1000x600 with 1 Axes>"
      ]
     },
     "metadata": {},
     "output_type": "display_data"
    }
   ],
   "source": [
    "# Visualizationy y comapracion :\n",
    "plt.figure(figsize=(10, 6))\n",
    "sns.barplot(x='gender', y='maxheartrate', data=df, palette='viridis')\n",
    "plt.title('males vs females heart rate')\n",
    "plt.xlabel('gender')\n",
    "plt.ylabel('Maximum Heart Rate')\n",
    "plt.legend(title='gender', labels=['female=0', 'male=1'])\n",
    "plt.show()"
   ]
  },
  {
   "cell_type": "code",
   "execution_count": 8,
   "id": "b9f3f87d",
   "metadata": {
    "execution": {
     "iopub.execute_input": "2024-02-26T19:26:04.446993Z",
     "iopub.status.busy": "2024-02-26T19:26:04.446074Z",
     "iopub.status.idle": "2024-02-26T19:26:04.839071Z",
     "shell.execute_reply": "2024-02-26T19:26:04.837928Z"
    },
    "papermill": {
     "duration": 0.425772,
     "end_time": "2024-02-26T19:26:04.841906",
     "exception": false,
     "start_time": "2024-02-26T19:26:04.416134",
     "status": "completed"
    },
    "tags": []
   },
   "outputs": [
    {
     "data": {
      "image/png": "[encoded data removed]",
      "text/plain": [
       "<Figure size 700x400 with 1 Axes>"
      ]
     },
     "metadata": {},
     "output_type": "display_data"
    }
   ],
   "source": [
    "# Visualization:\n",
    "plt.figure(figsize=(7, 4))\n",
    "sns.barplot(x='gender', y='chestpain', data=df, palette='mako')\n",
    "plt.title('males vs females chest pain')\n",
    "plt.xlabel('gender')\n",
    "plt.ylabel('chest pain')\n",
    "plt.legend(title='gender', labels=['female=0', 'male=1'])\n",
    "plt.show()"
   ]
  },
  {
   "cell_type": "markdown",
   "id": "db9897ff",
   "metadata": {
    "papermill": {
     "duration": 0.030236,
     "end_time": "2024-02-26T19:26:04.900085",
     "exception": false,
     "start_time": "2024-02-26T19:26:04.869849",
     "status": "completed"
    },
    "tags": []
   },
   "source": [
    "<div style=\"border-radius: 10px; border: 2px solid #6A5ACD; padding: 15px; background-color: #87CEEB; font-size: 100%; text-align: left;\">\n",
    "    <font size=\"+1\" color=\"#2E8B57\"><b>💞🏥 ¿hombres vs mujeres Depresión del Segmento ST?</b></font>\n",
    "\n",
    "**Respuesta: ST males: 3.023660\n",
    "ST females: 1.679149**\n",
    "\n",
    "**Explicación:La depresión del segmento ST puede indicar isquemia miocárdica, que ocurre cuando el músculo cardíaco no recibe suficiente sangre rica en oxígeno. Puede ser un signo de enfermedad de las arterias coronarias subyacente o de angina, reflejando un suministro sanguíneo inadecuado al músculo cardíaco durante el estrés físico o emocional.**"
   ]
  },
  {
   "cell_type": "code",
   "execution_count": 9,
   "id": "e9fcc6a4",
   "metadata": {
    "execution": {
     "iopub.execute_input": "2024-02-26T19:26:04.960445Z",
     "iopub.status.busy": "2024-02-26T19:26:04.959631Z",
     "iopub.status.idle": "2024-02-26T19:26:04.974435Z",
     "shell.execute_reply": "2024-02-26T19:26:04.972824Z"
    },
    "papermill": {
     "duration": 0.04764,
     "end_time": "2024-02-26T19:26:04.977211",
     "exception": false,
     "start_time": "2024-02-26T19:26:04.929571",
     "status": "completed"
    },
    "tags": []
   },
   "outputs": [
    {
     "data": {
      "text/plain": [
       "gender\n",
       "0    1.679149\n",
       "1    3.023660\n",
       "Name: oldpeak, dtype: float64"
      ]
     },
     "execution_count": 9,
     "metadata": {},
     "output_type": "execute_result"
    }
   ],
   "source": [
    "average_oldpeak_by_gender = df.groupby('gender')['oldpeak'].mean()\n",
    "average_oldpeak_by_gender"
   ]
  },
  {
   "cell_type": "markdown",
   "id": "8153bf7b",
   "metadata": {
    "papermill": {
     "duration": 0.027288,
     "end_time": "2024-02-26T19:26:05.032422",
     "exception": false,
     "start_time": "2024-02-26T19:26:05.005134",
     "status": "completed"
    },
    "tags": []
   },
   "source": [
    "<div style=\"border-radius: 10px; border: 2px solid #6A5ACD; padding: 15px; background-color: #87CEEB; font-size: 100%; text-align: left;\">\n",
    "    <font size=\"+1\" color=\"#2E8B57\"><b>💞🏥¿Cual es el rango de edad de patientes?</b></font>\n",
    "\n",
    "**respuesta:  Range: 20 - 80**\n",
    "\n",
    "**Explicación: El rango de edad se determina encontrando los valores mínimos y máximos de edad en el conjunto de datos. En este caso, las edades de los pacientes van desde los 20 hasta los 80 años.**"
   ]
  },
  {
   "cell_type": "code",
   "execution_count": 10,
   "id": "bfdb57a5",
   "metadata": {
    "execution": {
     "iopub.execute_input": "2024-02-26T19:26:05.091094Z",
     "iopub.status.busy": "2024-02-26T19:26:05.089992Z",
     "iopub.status.idle": "2024-02-26T19:26:05.097958Z",
     "shell.execute_reply": "2024-02-26T19:26:05.096752Z"
    },
    "papermill": {
     "duration": 0.040057,
     "end_time": "2024-02-26T19:26:05.100559",
     "exception": false,
     "start_time": "2024-02-26T19:26:05.060502",
     "status": "completed"
    },
    "tags": []
   },
   "outputs": [
    {
     "name": "stdout",
     "output_type": "stream",
     "text": [
      "la edad es entre: 20 - 80\n"
     ]
    }
   ],
   "source": [
    "\n",
    "edad = f\"la edad es entre: {df['age'].min()} - {df['age'].max()}\"\n",
    "print(edad)\n"
   ]
  },
  {
   "cell_type": "code",
   "execution_count": 11,
   "id": "60c6c9d1",
   "metadata": {
    "execution": {
     "iopub.execute_input": "2024-02-26T19:26:05.160737Z",
     "iopub.status.busy": "2024-02-26T19:26:05.159426Z",
     "iopub.status.idle": "2024-02-26T19:26:05.170630Z",
     "shell.execute_reply": "2024-02-26T19:26:05.169324Z"
    },
    "papermill": {
     "duration": 0.044505,
     "end_time": "2024-02-26T19:26:05.173387",
     "exception": false,
     "start_time": "2024-02-26T19:26:05.128882",
     "status": "completed"
    },
    "tags": []
   },
   "outputs": [
    {
     "name": "stdout",
     "output_type": "stream",
     "text": [
      "Gender: 0\n",
      "[61, 59, 42, 24, 72, 49, 23, 78, 48, 37, 79, 68, 77, 77, 41, 63, 41, 43, 43, 43, 35, 31, 33, 76, 30, 76, 60, 29, 37, 36, 66, 22, 20, 28, 60, 28, 58, 59, 68, 43, 79, 59, 20, 40, 28, 68, 30, 61, 20, 36, 69, 22, 78, 60, 71, 51, 44, 56, 39, 68, 53, 67, 67, 47, 71, 38, 42, 68, 42, 50, 79, 75, 21, 68, 58, 51, 67, 70, 63, 74, 24, 66, 52, 67, 30, 55, 59, 45, 64, 31, 33, 45, 26, 33, 26, 21, 34, 23, 38, 57, 37, 76, 26, 28, 39, 73, 74, 22, 76, 51, 72, 58, 63, 25, 35, 73, 74, 37, 66, 44, 69, 52, 26, 58, 80, 20, 54, 23, 36, 24, 53, 77, 42, 67, 61, 46, 76, 29, 29, 44, 80, 39, 80, 20, 30, 53, 25, 60, 33, 50, 36, 67, 71, 26, 33, 57, 50, 62, 24, 43, 59, 42, 61, 78, 41, 59, 20, 55, 38, 58, 20, 46, 72, 79, 78, 65, 68, 37, 50, 65, 27, 22, 22, 46, 47, 53, 59, 40, 40, 62, 44, 75, 52, 74, 32, 49, 47, 26, 75, 49, 69, 44, 29, 58, 71, 43, 46, 38, 38, 56, 78, 47, 74, 74, 58, 51, 70, 48, 44, 39, 38, 27, 50, 51, 74, 64, 66, 64, 20, 28, 33, 56, 63, 77, 25]\n",
      "Gender: 1\n",
      "[53, 40, 49, 43, 31, 24, 79, 52, 62, 58, 27, 59, 58, 32, 65, 59, 35, 39, 72, 59, 40, 71, 46, 42, 20, 29, 35, 75, 71, 25, 32, 27, 53, 48, 71, 66, 22, 49, 26, 51, 77, 43, 28, 20, 54, 41, 72, 63, 28, 73, 77, 34, 38, 79, 73, 61, 55, 78, 73, 69, 21, 57, 68, 51, 37, 37, 73, 55, 61, 60, 23, 22, 74, 44, 36, 34, 61, 26, 77, 42, 21, 80, 27, 73, 70, 30, 48, 23, 76, 31, 24, 67, 45, 73, 35, 46, 52, 21, 70, 76, 69, 67, 66, 75, 44, 73, 65, 67, 32, 42, 46, 23, 25, 43, 66, 28, 71, 27, 62, 51, 32, 32, 20, 44, 72, 66, 63, 60, 45, 65, 73, 41, 73, 39, 57, 57, 32, 64, 23, 36, 80, 73, 77, 63, 32, 20, 33, 66, 72, 62, 30, 37, 62, 23, 71, 55, 33, 53, 71, 38, 74, 34, 27, 51, 36, 55, 30, 25, 40, 66, 31, 71, 62, 21, 63, 31, 37, 31, 55, 74, 20, 55, 20, 69, 49, 46, 58, 67, 76, 25, 69, 70, 52, 46, 42, 78, 38, 48, 47, 51, 79, 43, 22, 50, 43, 44, 47, 26, 51, 41, 44, 52, 74, 61, 64, 51, 54, 52, 49, 78, 25, 73, 65, 46, 39, 22, 35, 23, 56, 40, 52, 80, 39, 39, 54, 70, 73, 46, 38, 68, 51, 62, 66, 75, 41, 48, 76, 34, 76, 25, 39, 47, 72, 20, 28, 51, 20, 57, 54, 73, 31, 26, 33, 45, 55, 70, 22, 44, 29, 29, 45, 53, 24, 64, 70, 27, 50, 42, 75, 70, 66, 37, 21, 24, 46, 25, 63, 59, 66, 23, 65, 20, 66, 44, 27, 56, 32, 42, 62, 41, 63, 22, 38, 36, 22, 21, 23, 58, 30, 78, 59, 36, 40, 32, 35, 53, 43, 30, 76, 33, 78, 52, 74, 53, 63, 51, 45, 63, 72, 55, 36, 73, 64, 50, 52, 31, 35, 79, 26, 45, 64, 71, 27, 72, 61, 70, 67, 57, 43, 29, 54, 20, 36, 77, 80, 67, 60, 31, 44, 80, 45, 46, 58, 76, 42, 58, 43, 25, 34, 76, 55, 42, 52, 20, 33, 77, 58, 45, 55, 40, 31, 25, 45, 26, 79, 66, 23, 76, 47, 26, 34, 57, 57, 48, 76, 34, 46, 25, 30, 43, 21, 64, 44, 22, 71, 34, 34, 78, 22, 23, 62, 65, 69, 59, 57, 48, 55, 32, 31, 71, 57, 21, 29, 34, 24, 37, 50, 47, 54, 46, 58, 63, 62, 63, 22, 30, 38, 31, 31, 34, 36, 62, 38, 33, 55, 44, 65, 23, 25, 29, 69, 54, 59, 59, 71, 64, 61, 36, 32, 64, 63, 22, 52, 20, 27, 24, 20, 24, 45, 20, 39, 57, 48, 33, 33, 46, 43, 50, 58, 47, 45, 27, 45, 20, 20, 79, 43, 37, 26, 73, 37, 50, 56, 70, 35, 32, 57, 33, 32, 74, 63, 59, 39, 54, 56, 60, 41, 59, 30, 41, 55, 46, 67, 24, 56, 35, 46, 50, 31, 34, 60, 22, 69, 80, 20, 76, 50, 62, 45, 40, 49, 30, 34, 71, 47, 51, 47, 36, 40, 43, 34, 23, 44, 71, 22, 32, 38, 24, 64, 34, 77, 21, 37, 29, 67, 75, 33, 48, 45, 23, 25, 73, 31, 63, 76, 20, 29, 72, 52, 26, 80, 61, 64, 78, 70, 29, 58, 30, 74, 62, 51, 61, 25, 59, 69, 52, 23, 73, 65, 27, 23, 43, 62, 69, 70, 54, 41, 76, 75, 74, 24, 72, 52, 67, 70, 64, 72, 62, 24, 51, 61, 45, 34, 49, 40, 63, 58, 72, 44, 56, 36, 75, 26, 45, 54, 60, 50, 24, 62, 46, 74, 42, 21, 56, 67, 53, 52, 45, 68, 51, 42, 34, 39, 73, 26, 76, 32, 70, 68, 38, 77, 58, 62, 58, 76, 43, 25, 74, 79, 77, 74, 54, 28, 79, 59, 44, 26, 37, 39, 77, 33, 49, 55, 79, 77, 38, 57, 61, 39, 69, 48, 33, 34, 24, 39, 55, 27, 71, 50, 56, 29, 28, 74, 62, 73, 44, 69, 79, 37, 77, 64, 24, 29, 32, 80, 20, 22, 24, 24, 66, 44, 37, 51, 70, 27, 39, 76, 37, 23, 35, 45, 78, 29, 58, 76, 63, 78, 37, 75, 58, 46, 43, 60, 39, 52, 20, 48, 72, 24, 78, 38, 80, 56, 31, 25, 54, 25, 56, 53, 65, 77, 50, 46, 28, 58, 33, 30, 74, 24, 62, 48, 47, 69, 45, 25]\n"
     ]
    }
   ],
   "source": [
    "grouped = df.groupby('gender')['age']\n",
    "grouped = df.groupby('gender')['age']\n",
    "\n",
    "for group_name, group_data in grouped:\n",
    "    print(f\"Gender: {group_name}\")\n",
    "    print(group_data.tolist())"
   ]
  },
  {
   "cell_type": "markdown",
   "id": "ad4ee3a4",
   "metadata": {
    "papermill": {
     "duration": 0.028884,
     "end_time": "2024-02-26T19:26:05.231554",
     "exception": false,
     "start_time": "2024-02-26T19:26:05.202670",
     "status": "completed"
    },
    "tags": []
   },
   "source": [
    "<div style=\"border-radius: 10px; border: 2px solid #6A5ACD; padding: 15px; background-color: #87CEEB; font-size: 100%; text-align: left;\">\n",
    "    <font size=\"+1\" color=\"#2E8B57\"><b>💞🏥 añadir una columna que tiene el genero string (gender_transform)</b></font>\n"
   ]
  },
  {
   "cell_type": "code",
   "execution_count": 12,
   "id": "a32b0680",
   "metadata": {
    "execution": {
     "iopub.execute_input": "2024-02-26T19:26:05.290328Z",
     "iopub.status.busy": "2024-02-26T19:26:05.289865Z",
     "iopub.status.idle": "2024-02-26T19:26:05.324267Z",
     "shell.execute_reply": "2024-02-26T19:26:05.322720Z"
    },
    "papermill": {
     "duration": 0.067748,
     "end_time": "2024-02-26T19:26:05.327392",
     "exception": false,
     "start_time": "2024-02-26T19:26:05.259644",
     "status": "completed"
    },
    "tags": []
   },
   "outputs": [
    {
     "data": {
      "text/html": [
       "<div>\n",
       "<style scoped>\n",
       "    .dataframe tbody tr th:only-of-type {\n",
       "        vertical-align: middle;\n",
       "    }\n",
       "\n",
       "    .dataframe tbody tr th {\n",
       "        vertical-align: top;\n",
       "    }\n",
       "\n",
       "    .dataframe thead th {\n",
       "        text-align: right;\n",
       "    }\n",
       "</style>\n",
       "<table border=\"1\" class=\"dataframe\">\n",
       "  <thead>\n",
       "    <tr style=\"text-align: right;\">\n",
       "      <th></th>\n",
       "      <th>patientid</th>\n",
       "      <th>age</th>\n",
       "      <th>gender</th>\n",
       "      <th>chestpain</th>\n",
       "      <th>restingBP</th>\n",
       "      <th>serumcholestrol</th>\n",
       "      <th>fastingbloodsugar</th>\n",
       "      <th>restingrelectro</th>\n",
       "      <th>maxheartrate</th>\n",
       "      <th>exerciseangia</th>\n",
       "      <th>oldpeak</th>\n",
       "      <th>slope</th>\n",
       "      <th>noofmajorvessels</th>\n",
       "      <th>target</th>\n",
       "      <th>gender_transform</th>\n",
       "    </tr>\n",
       "  </thead>\n",
       "  <tbody>\n",
       "    <tr>\n",
       "      <th>0</th>\n",
       "      <td>103368</td>\n",
       "      <td>53</td>\n",
       "      <td>1</td>\n",
       "      <td>2</td>\n",
       "      <td>171</td>\n",
       "      <td>0</td>\n",
       "      <td>0</td>\n",
       "      <td>1</td>\n",
       "      <td>147</td>\n",
       "      <td>0</td>\n",
       "      <td>5.3</td>\n",
       "      <td>3</td>\n",
       "      <td>3</td>\n",
       "      <td>1</td>\n",
       "      <td>Hombre</td>\n",
       "    </tr>\n",
       "    <tr>\n",
       "      <th>1</th>\n",
       "      <td>119250</td>\n",
       "      <td>40</td>\n",
       "      <td>1</td>\n",
       "      <td>0</td>\n",
       "      <td>94</td>\n",
       "      <td>229</td>\n",
       "      <td>0</td>\n",
       "      <td>1</td>\n",
       "      <td>115</td>\n",
       "      <td>0</td>\n",
       "      <td>3.7</td>\n",
       "      <td>1</td>\n",
       "      <td>1</td>\n",
       "      <td>0</td>\n",
       "      <td>Hombre</td>\n",
       "    </tr>\n",
       "    <tr>\n",
       "      <th>2</th>\n",
       "      <td>119372</td>\n",
       "      <td>49</td>\n",
       "      <td>1</td>\n",
       "      <td>2</td>\n",
       "      <td>133</td>\n",
       "      <td>142</td>\n",
       "      <td>0</td>\n",
       "      <td>0</td>\n",
       "      <td>202</td>\n",
       "      <td>1</td>\n",
       "      <td>5.0</td>\n",
       "      <td>1</td>\n",
       "      <td>0</td>\n",
       "      <td>0</td>\n",
       "      <td>Hombre</td>\n",
       "    </tr>\n",
       "    <tr>\n",
       "      <th>3</th>\n",
       "      <td>132514</td>\n",
       "      <td>43</td>\n",
       "      <td>1</td>\n",
       "      <td>0</td>\n",
       "      <td>138</td>\n",
       "      <td>295</td>\n",
       "      <td>1</td>\n",
       "      <td>1</td>\n",
       "      <td>153</td>\n",
       "      <td>0</td>\n",
       "      <td>3.2</td>\n",
       "      <td>2</td>\n",
       "      <td>2</td>\n",
       "      <td>1</td>\n",
       "      <td>Hombre</td>\n",
       "    </tr>\n",
       "    <tr>\n",
       "      <th>4</th>\n",
       "      <td>146211</td>\n",
       "      <td>31</td>\n",
       "      <td>1</td>\n",
       "      <td>1</td>\n",
       "      <td>199</td>\n",
       "      <td>0</td>\n",
       "      <td>0</td>\n",
       "      <td>2</td>\n",
       "      <td>136</td>\n",
       "      <td>0</td>\n",
       "      <td>5.3</td>\n",
       "      <td>3</td>\n",
       "      <td>2</td>\n",
       "      <td>1</td>\n",
       "      <td>Hombre</td>\n",
       "    </tr>\n",
       "    <tr>\n",
       "      <th>...</th>\n",
       "      <td>...</td>\n",
       "      <td>...</td>\n",
       "      <td>...</td>\n",
       "      <td>...</td>\n",
       "      <td>...</td>\n",
       "      <td>...</td>\n",
       "      <td>...</td>\n",
       "      <td>...</td>\n",
       "      <td>...</td>\n",
       "      <td>...</td>\n",
       "      <td>...</td>\n",
       "      <td>...</td>\n",
       "      <td>...</td>\n",
       "      <td>...</td>\n",
       "      <td>...</td>\n",
       "    </tr>\n",
       "    <tr>\n",
       "      <th>995</th>\n",
       "      <td>9949544</td>\n",
       "      <td>48</td>\n",
       "      <td>1</td>\n",
       "      <td>2</td>\n",
       "      <td>139</td>\n",
       "      <td>349</td>\n",
       "      <td>0</td>\n",
       "      <td>2</td>\n",
       "      <td>183</td>\n",
       "      <td>1</td>\n",
       "      <td>5.6</td>\n",
       "      <td>2</td>\n",
       "      <td>2</td>\n",
       "      <td>1</td>\n",
       "      <td>Hombre</td>\n",
       "    </tr>\n",
       "    <tr>\n",
       "      <th>996</th>\n",
       "      <td>9953423</td>\n",
       "      <td>47</td>\n",
       "      <td>1</td>\n",
       "      <td>3</td>\n",
       "      <td>143</td>\n",
       "      <td>258</td>\n",
       "      <td>1</td>\n",
       "      <td>1</td>\n",
       "      <td>98</td>\n",
       "      <td>1</td>\n",
       "      <td>5.7</td>\n",
       "      <td>1</td>\n",
       "      <td>0</td>\n",
       "      <td>0</td>\n",
       "      <td>Hombre</td>\n",
       "    </tr>\n",
       "    <tr>\n",
       "      <th>997</th>\n",
       "      <td>9965859</td>\n",
       "      <td>69</td>\n",
       "      <td>1</td>\n",
       "      <td>0</td>\n",
       "      <td>156</td>\n",
       "      <td>434</td>\n",
       "      <td>1</td>\n",
       "      <td>0</td>\n",
       "      <td>196</td>\n",
       "      <td>0</td>\n",
       "      <td>1.4</td>\n",
       "      <td>3</td>\n",
       "      <td>1</td>\n",
       "      <td>1</td>\n",
       "      <td>Hombre</td>\n",
       "    </tr>\n",
       "    <tr>\n",
       "      <th>998</th>\n",
       "      <td>9988507</td>\n",
       "      <td>45</td>\n",
       "      <td>1</td>\n",
       "      <td>1</td>\n",
       "      <td>186</td>\n",
       "      <td>417</td>\n",
       "      <td>0</td>\n",
       "      <td>1</td>\n",
       "      <td>117</td>\n",
       "      <td>1</td>\n",
       "      <td>5.9</td>\n",
       "      <td>3</td>\n",
       "      <td>2</td>\n",
       "      <td>1</td>\n",
       "      <td>Hombre</td>\n",
       "    </tr>\n",
       "    <tr>\n",
       "      <th>999</th>\n",
       "      <td>9990855</td>\n",
       "      <td>25</td>\n",
       "      <td>1</td>\n",
       "      <td>0</td>\n",
       "      <td>158</td>\n",
       "      <td>270</td>\n",
       "      <td>0</td>\n",
       "      <td>0</td>\n",
       "      <td>143</td>\n",
       "      <td>1</td>\n",
       "      <td>4.7</td>\n",
       "      <td>0</td>\n",
       "      <td>0</td>\n",
       "      <td>0</td>\n",
       "      <td>Hombre</td>\n",
       "    </tr>\n",
       "  </tbody>\n",
       "</table>\n",
       "<p>1000 rows × 15 columns</p>\n",
       "</div>"
      ],
      "text/plain": [
       "     patientid  age  gender  chestpain  restingBP  serumcholestrol  \\\n",
       "0       103368   53       1          2        171                0   \n",
       "1       119250   40       1          0         94              229   \n",
       "2       119372   49       1          2        133              142   \n",
       "3       132514   43       1          0        138              295   \n",
       "4       146211   31       1          1        199                0   \n",
       "..         ...  ...     ...        ...        ...              ...   \n",
       "995    9949544   48       1          2        139              349   \n",
       "996    9953423   47       1          3        143              258   \n",
       "997    9965859   69       1          0        156              434   \n",
       "998    9988507   45       1          1        186              417   \n",
       "999    9990855   25       1          0        158              270   \n",
       "\n",
       "     fastingbloodsugar  restingrelectro  maxheartrate  exerciseangia  oldpeak  \\\n",
       "0                    0                1           147              0      5.3   \n",
       "1                    0                1           115              0      3.7   \n",
       "2                    0                0           202              1      5.0   \n",
       "3                    1                1           153              0      3.2   \n",
       "4                    0                2           136              0      5.3   \n",
       "..                 ...              ...           ...            ...      ...   \n",
       "995                  0                2           183              1      5.6   \n",
       "996                  1                1            98              1      5.7   \n",
       "997                  1                0           196              0      1.4   \n",
       "998                  0                1           117              1      5.9   \n",
       "999                  0                0           143              1      4.7   \n",
       "\n",
       "     slope  noofmajorvessels  target gender_transform  \n",
       "0        3                 3       1           Hombre  \n",
       "1        1                 1       0           Hombre  \n",
       "2        1                 0       0           Hombre  \n",
       "3        2                 2       1           Hombre  \n",
       "4        3                 2       1           Hombre  \n",
       "..     ...               ...     ...              ...  \n",
       "995      2                 2       1           Hombre  \n",
       "996      1                 0       0           Hombre  \n",
       "997      3                 1       1           Hombre  \n",
       "998      3                 2       1           Hombre  \n",
       "999      0                 0       0           Hombre  \n",
       "\n",
       "[1000 rows x 15 columns]"
      ]
     },
     "execution_count": 12,
     "metadata": {},
     "output_type": "execute_result"
    }
   ],
   "source": [
    "df['gender_transform'] = np.where(df['gender'] == 0, 'Mujer','Hombre' )\n",
    "df"
   ]
  },
  {
   "cell_type": "code",
   "execution_count": 13,
   "id": "e21ae064",
   "metadata": {
    "execution": {
     "iopub.execute_input": "2024-02-26T19:26:05.389040Z",
     "iopub.status.busy": "2024-02-26T19:26:05.388499Z",
     "iopub.status.idle": "2024-02-26T19:26:05.399197Z",
     "shell.execute_reply": "2024-02-26T19:26:05.397875Z"
    },
    "papermill": {
     "duration": 0.044894,
     "end_time": "2024-02-26T19:26:05.401812",
     "exception": false,
     "start_time": "2024-02-26T19:26:05.356918",
     "status": "completed"
    },
    "tags": []
   },
   "outputs": [
    {
     "data": {
      "text/plain": [
       "(765, 235)"
      ]
     },
     "execution_count": 13,
     "metadata": {},
     "output_type": "execute_result"
    }
   ],
   "source": [
    "#check \n",
    "lali=(df['gender_transform']==\"Hombre\").sum()\n",
    "lali2=(df['gender_transform']==\"Mujer\").sum()\n",
    "lali,lali2"
   ]
  },
  {
   "cell_type": "markdown",
   "id": "75b94f72",
   "metadata": {
    "papermill": {
     "duration": 0.030135,
     "end_time": "2024-02-26T19:26:05.460795",
     "exception": false,
     "start_time": "2024-02-26T19:26:05.430660",
     "status": "completed"
    },
    "tags": []
   },
   "source": [
    "<div style=\"border-radius: 10px; border: 2px solid #6A5ACD; padding: 15px; background-color: #87CEEB; font-size: 100%; text-align: left;\">\n",
    "    <font size=\"+1\" color=\"#2E8B57\"><b>💞🏥¿Cual es le distrubcion del genero con la edad?(2 metodos freq, count )</b></font>\n",
    "\n",
    "**respuesta:  Range: 20 - 80**\n",
    "\n",
    "**Explicación: El rango de edad se determina encontrando los valores mínimos y máximos de edad en el conjunto de datos. En este caso, las edades de los pacientes van desde los 20 hasta los 80 años.**"
   ]
  },
  {
   "cell_type": "code",
   "execution_count": 14,
   "id": "76a4fe1c",
   "metadata": {
    "execution": {
     "iopub.execute_input": "2024-02-26T19:26:05.522451Z",
     "iopub.status.busy": "2024-02-26T19:26:05.521888Z",
     "iopub.status.idle": "2024-02-26T19:26:05.892049Z",
     "shell.execute_reply": "2024-02-26T19:26:05.890644Z"
    },
    "papermill": {
     "duration": 0.405954,
     "end_time": "2024-02-26T19:26:05.895491",
     "exception": false,
     "start_time": "2024-02-26T19:26:05.489537",
     "status": "completed"
    },
    "tags": []
   },
   "outputs": [
    {
     "data": {
      "image/png": "[encoded data removed]",
      "text/plain": [
       "<Figure size 640x480 with 1 Axes>"
      ]
     },
     "metadata": {},
     "output_type": "display_data"
    },
    {
     "data": {
      "text/plain": [
       "gender_transform\n",
       "Hombre    765\n",
       "Mujer     235\n",
       "Name: count, dtype: int64"
      ]
     },
     "execution_count": 14,
     "metadata": {},
     "output_type": "execute_result"
    }
   ],
   "source": [
    "import matplotlib.pyplot as plt\n",
    "grouped = df.groupby('gender_transform')['age']\n",
    "fig, ax = plt.subplots()\n",
    "\n",
    "for group_name, group_data in grouped:\n",
    "    ax.hist(group_data, label=group_name, alpha=0.7)\n",
    "ax.set_xlabel('Age')\n",
    "ax.set_ylabel('Frequency')\n",
    "ax.set_title('Age Distribution by Gender')\n",
    "ax.legend()\n",
    "plt.show()\n",
    "df['gender_transform'].value_counts()"
   ]
  },
  {
   "cell_type": "code",
   "execution_count": 15,
   "id": "7ebded3a",
   "metadata": {
    "execution": {
     "iopub.execute_input": "2024-02-26T19:26:05.956607Z",
     "iopub.status.busy": "2024-02-26T19:26:05.956127Z",
     "iopub.status.idle": "2024-02-26T19:26:06.449820Z",
     "shell.execute_reply": "2024-02-26T19:26:06.448220Z"
    },
    "papermill": {
     "duration": 0.527785,
     "end_time": "2024-02-26T19:26:06.452937",
     "exception": false,
     "start_time": "2024-02-26T19:26:05.925152",
     "status": "completed"
    },
    "tags": []
   },
   "outputs": [
    {
     "data": {
      "image/png": "[encoded data removed]",
      "text/plain": [
       "<Figure size 1000x600 with 1 Axes>"
      ]
     },
     "metadata": {},
     "output_type": "display_data"
    }
   ],
   "source": [
    "plt.figure(figsize=(10, 6))\n",
    "sns.histplot(x='age', hue='gender', data=df, palette='colorblind', multiple='stack', bins=15)\n",
    "plt.title('Age Distribution by Gender')\n",
    "plt.xlabel('Age')\n",
    "plt.ylabel('Count')\n",
    "plt.legend(title='Gender', labels=['Mujer', 'Hombre'])\n",
    "plt.show()"
   ]
  },
  {
   "cell_type": "markdown",
   "id": "658bc0e4",
   "metadata": {
    "papermill": {
     "duration": 0.030022,
     "end_time": "2024-02-26T19:26:06.513946",
     "exception": false,
     "start_time": "2024-02-26T19:26:06.483924",
     "status": "completed"
    },
    "tags": []
   },
   "source": [
    "<div style=\"border-radius: 10px; border: 2px solid #6A5ACD; padding: 15px; background-color: #87CEEB; font-size: 100%; text-align: left;\">\n",
    "    <font size=\"+1\" color=\"#2E8B57\"><b>💞🏥 ¿Existe una relación entre el tipo de dolor de pecho y la presencia de enfermedad cardíaca? </b></font>\n",
    "\n",
    "\n",
    "\n",
    "**Explicación: La relación se visualiza utilizando un countplot, mostrando la distribución de la presencia de enfermedad cardíaca para cada tipo de dolor de pecho.**"
   ]
  },
  {
   "cell_type": "code",
   "execution_count": 16,
   "id": "87c2a612",
   "metadata": {
    "execution": {
     "iopub.execute_input": "2024-02-26T19:26:06.577154Z",
     "iopub.status.busy": "2024-02-26T19:26:06.576363Z",
     "iopub.status.idle": "2024-02-26T19:26:06.919432Z",
     "shell.execute_reply": "2024-02-26T19:26:06.917973Z"
    },
    "papermill": {
     "duration": 0.378306,
     "end_time": "2024-02-26T19:26:06.922304",
     "exception": false,
     "start_time": "2024-02-26T19:26:06.543998",
     "status": "completed"
    },
    "tags": []
   },
   "outputs": [
    {
     "data": {
      "image/png": "[encoded data removed]",
      "text/plain": [
       "<Figure size 1000x600 with 1 Axes>"
      ]
     },
     "metadata": {},
     "output_type": "display_data"
    }
   ],
   "source": [
    "#Is there a relationship between chest pain type and the presence of heart disease?\n",
    "\n",
    "plt.figure(figsize=(10, 6))\n",
    "sns.countplot(x='chestpain', hue='target', data=df, palette='Set1')\n",
    "plt.title('Presencia de enfermedad cardíaca según el tipo de dolor de pecho')\n",
    "plt.xlabel('Chest Pain Type')\n",
    "plt.ylabel('Count')\n",
    "plt.legend(title='Heart Disease', labels=['No', 'si'])\n",
    "plt.show()"
   ]
  },
  {
   "cell_type": "markdown",
   "id": "35c88ef0",
   "metadata": {
    "papermill": {
     "duration": 0.03014,
     "end_time": "2024-02-26T19:26:06.983146",
     "exception": false,
     "start_time": "2024-02-26T19:26:06.953006",
     "status": "completed"
    },
    "tags": []
   },
   "source": [
    "<div style=\"border-radius: 10px; border: 2px solid #6A5ACD; padding: 15px; background-color: #87CEEB; font-size: 100%; text-align: left;\">\n",
    "    <font size=\"+1\" color=\"#2E8B57\"><b>💞🏥 Modificar el dataset </b></font>"
   ]
  },
  {
   "cell_type": "code",
   "execution_count": 17,
   "id": "b68fff44",
   "metadata": {
    "execution": {
     "iopub.execute_input": "2024-02-26T19:26:07.046137Z",
     "iopub.status.busy": "2024-02-26T19:26:07.045624Z",
     "iopub.status.idle": "2024-02-26T19:26:07.070336Z",
     "shell.execute_reply": "2024-02-26T19:26:07.069275Z"
    },
    "papermill": {
     "duration": 0.059334,
     "end_time": "2024-02-26T19:26:07.072749",
     "exception": false,
     "start_time": "2024-02-26T19:26:07.013415",
     "status": "completed"
    },
    "tags": []
   },
   "outputs": [
    {
     "data": {
      "text/html": [
       "<div>\n",
       "<style scoped>\n",
       "    .dataframe tbody tr th:only-of-type {\n",
       "        vertical-align: middle;\n",
       "    }\n",
       "\n",
       "    .dataframe tbody tr th {\n",
       "        vertical-align: top;\n",
       "    }\n",
       "\n",
       "    .dataframe thead th {\n",
       "        text-align: right;\n",
       "    }\n",
       "</style>\n",
       "<table border=\"1\" class=\"dataframe\">\n",
       "  <thead>\n",
       "    <tr style=\"text-align: right;\">\n",
       "      <th></th>\n",
       "      <th>patientid</th>\n",
       "      <th>age</th>\n",
       "      <th>gender</th>\n",
       "      <th>chestpain</th>\n",
       "      <th>restingBP</th>\n",
       "      <th>serumcholestrol</th>\n",
       "      <th>fastingbloodsugar</th>\n",
       "      <th>restingrelectro</th>\n",
       "      <th>maxheartrate</th>\n",
       "      <th>exerciseangia</th>\n",
       "      <th>oldpeak</th>\n",
       "      <th>slope</th>\n",
       "      <th>noofmajorvessels</th>\n",
       "      <th>target</th>\n",
       "      <th>gender_transform</th>\n",
       "    </tr>\n",
       "  </thead>\n",
       "  <tbody>\n",
       "    <tr>\n",
       "      <th>0</th>\n",
       "      <td>103368</td>\n",
       "      <td>53</td>\n",
       "      <td>1</td>\n",
       "      <td>2</td>\n",
       "      <td>171</td>\n",
       "      <td>0</td>\n",
       "      <td>0</td>\n",
       "      <td>1</td>\n",
       "      <td>147</td>\n",
       "      <td>0</td>\n",
       "      <td>5.3</td>\n",
       "      <td>3</td>\n",
       "      <td>3</td>\n",
       "      <td>Presence of Heart Disease</td>\n",
       "      <td>Hombre</td>\n",
       "    </tr>\n",
       "    <tr>\n",
       "      <th>1</th>\n",
       "      <td>119250</td>\n",
       "      <td>40</td>\n",
       "      <td>1</td>\n",
       "      <td>0</td>\n",
       "      <td>94</td>\n",
       "      <td>229</td>\n",
       "      <td>0</td>\n",
       "      <td>1</td>\n",
       "      <td>115</td>\n",
       "      <td>0</td>\n",
       "      <td>3.7</td>\n",
       "      <td>1</td>\n",
       "      <td>1</td>\n",
       "      <td>Absence of Heart Disease</td>\n",
       "      <td>Hombre</td>\n",
       "    </tr>\n",
       "    <tr>\n",
       "      <th>2</th>\n",
       "      <td>119372</td>\n",
       "      <td>49</td>\n",
       "      <td>1</td>\n",
       "      <td>2</td>\n",
       "      <td>133</td>\n",
       "      <td>142</td>\n",
       "      <td>0</td>\n",
       "      <td>0</td>\n",
       "      <td>202</td>\n",
       "      <td>1</td>\n",
       "      <td>5.0</td>\n",
       "      <td>1</td>\n",
       "      <td>0</td>\n",
       "      <td>Absence of Heart Disease</td>\n",
       "      <td>Hombre</td>\n",
       "    </tr>\n",
       "    <tr>\n",
       "      <th>3</th>\n",
       "      <td>132514</td>\n",
       "      <td>43</td>\n",
       "      <td>1</td>\n",
       "      <td>0</td>\n",
       "      <td>138</td>\n",
       "      <td>295</td>\n",
       "      <td>1</td>\n",
       "      <td>1</td>\n",
       "      <td>153</td>\n",
       "      <td>0</td>\n",
       "      <td>3.2</td>\n",
       "      <td>2</td>\n",
       "      <td>2</td>\n",
       "      <td>Presence of Heart Disease</td>\n",
       "      <td>Hombre</td>\n",
       "    </tr>\n",
       "    <tr>\n",
       "      <th>4</th>\n",
       "      <td>146211</td>\n",
       "      <td>31</td>\n",
       "      <td>1</td>\n",
       "      <td>1</td>\n",
       "      <td>199</td>\n",
       "      <td>0</td>\n",
       "      <td>0</td>\n",
       "      <td>2</td>\n",
       "      <td>136</td>\n",
       "      <td>0</td>\n",
       "      <td>5.3</td>\n",
       "      <td>3</td>\n",
       "      <td>2</td>\n",
       "      <td>Presence of Heart Disease</td>\n",
       "      <td>Hombre</td>\n",
       "    </tr>\n",
       "  </tbody>\n",
       "</table>\n",
       "</div>"
      ],
      "text/plain": [
       "   patientid  age  gender  chestpain  restingBP  serumcholestrol  \\\n",
       "0     103368   53       1          2        171                0   \n",
       "1     119250   40       1          0         94              229   \n",
       "2     119372   49       1          2        133              142   \n",
       "3     132514   43       1          0        138              295   \n",
       "4     146211   31       1          1        199                0   \n",
       "\n",
       "   fastingbloodsugar  restingrelectro  maxheartrate  exerciseangia  oldpeak  \\\n",
       "0                  0                1           147              0      5.3   \n",
       "1                  0                1           115              0      3.7   \n",
       "2                  0                0           202              1      5.0   \n",
       "3                  1                1           153              0      3.2   \n",
       "4                  0                2           136              0      5.3   \n",
       "\n",
       "   slope  noofmajorvessels                     target gender_transform  \n",
       "0      3                 3  Presence of Heart Disease           Hombre  \n",
       "1      1                 1   Absence of Heart Disease           Hombre  \n",
       "2      1                 0   Absence of Heart Disease           Hombre  \n",
       "3      2                 2  Presence of Heart Disease           Hombre  \n",
       "4      3                 2  Presence of Heart Disease           Hombre  "
      ]
     },
     "execution_count": 17,
     "metadata": {},
     "output_type": "execute_result"
    }
   ],
   "source": [
    "df = df.replace({'target' : {\n",
    "                                    0 : 'Absence of Heart Disease',\n",
    "                                    1 : 'Presence of Heart Disease',\n",
    "        }}\n",
    ")\n",
    "df.head()"
   ]
  },
  {
   "cell_type": "markdown",
   "id": "5623f955",
   "metadata": {
    "papermill": {
     "duration": 0.030663,
     "end_time": "2024-02-26T19:26:07.135786",
     "exception": false,
     "start_time": "2024-02-26T19:26:07.105123",
     "status": "completed"
    },
    "tags": []
   },
   "source": [
    "<div style=\"border-radius: 10px; border: 2px solid #6A5ACD; padding: 15px; background-color: #87CEEB; font-size: 100%; text-align: left;\">\n",
    "    <font size=\"+1\" color=\"#2E8B57\"><b>💞🏥 ¿Podemos predecir los orígenes de los pacientes en el conjunto de datos.  </b></font>\n",
    "\n",
    "\n",
    "\n",
    "**Explicación: Este código crea una relación entre los países y los niveles de presión arterial en reposo ('restingBP') en un DataFrame ('df'). Define condiciones basadas en rangos de presión arterial y asigna países correspondientes a estos rangos. Luego, utiliza la función 'np.select()' para crear una nueva columna llamada 'Origins' que asigna un país según las condiciones de presión arterial en reposo. Finalmente, renombra la columna 'restingBP' a 'resting_blood_pressure'.**"
   ]
  },
  {
   "cell_type": "code",
   "execution_count": 18,
   "id": "239a285c",
   "metadata": {
    "execution": {
     "iopub.execute_input": "2024-02-26T19:26:07.201816Z",
     "iopub.status.busy": "2024-02-26T19:26:07.200684Z",
     "iopub.status.idle": "2024-02-26T19:26:07.228067Z",
     "shell.execute_reply": "2024-02-26T19:26:07.226808Z"
    },
    "papermill": {
     "duration": 0.064127,
     "end_time": "2024-02-26T19:26:07.230966",
     "exception": false,
     "start_time": "2024-02-26T19:26:07.166839",
     "status": "completed"
    },
    "tags": []
   },
   "outputs": [
    {
     "data": {
      "text/html": [
       "<style type=\"text/css\">\n",
       "#T_da599_row0_col13, #T_da599_row0_col14, #T_da599_row0_col15, #T_da599_row1_col13, #T_da599_row1_col14, #T_da599_row1_col15, #T_da599_row2_col13, #T_da599_row2_col14, #T_da599_row2_col15, #T_da599_row3_col13, #T_da599_row3_col14, #T_da599_row3_col15, #T_da599_row4_col13, #T_da599_row4_col14, #T_da599_row4_col15 {\n",
       "  color: blue;\n",
       "}\n",
       "</style>\n",
       "<table id=\"T_da599\">\n",
       "  <thead>\n",
       "    <tr>\n",
       "      <th class=\"blank level0\" >&nbsp;</th>\n",
       "      <th id=\"T_da599_level0_col0\" class=\"col_heading level0 col0\" >patientid</th>\n",
       "      <th id=\"T_da599_level0_col1\" class=\"col_heading level0 col1\" >age</th>\n",
       "      <th id=\"T_da599_level0_col2\" class=\"col_heading level0 col2\" >gender</th>\n",
       "      <th id=\"T_da599_level0_col3\" class=\"col_heading level0 col3\" >chestpain</th>\n",
       "      <th id=\"T_da599_level0_col4\" class=\"col_heading level0 col4\" >resting_blood_pressure</th>\n",
       "      <th id=\"T_da599_level0_col5\" class=\"col_heading level0 col5\" >serumcholestrol</th>\n",
       "      <th id=\"T_da599_level0_col6\" class=\"col_heading level0 col6\" >fastingbloodsugar</th>\n",
       "      <th id=\"T_da599_level0_col7\" class=\"col_heading level0 col7\" >restingrelectro</th>\n",
       "      <th id=\"T_da599_level0_col8\" class=\"col_heading level0 col8\" >maxheartrate</th>\n",
       "      <th id=\"T_da599_level0_col9\" class=\"col_heading level0 col9\" >exerciseangia</th>\n",
       "      <th id=\"T_da599_level0_col10\" class=\"col_heading level0 col10\" >oldpeak</th>\n",
       "      <th id=\"T_da599_level0_col11\" class=\"col_heading level0 col11\" >slope</th>\n",
       "      <th id=\"T_da599_level0_col12\" class=\"col_heading level0 col12\" >noofmajorvessels</th>\n",
       "      <th id=\"T_da599_level0_col13\" class=\"col_heading level0 col13\" >target</th>\n",
       "      <th id=\"T_da599_level0_col14\" class=\"col_heading level0 col14\" >gender_transform</th>\n",
       "      <th id=\"T_da599_level0_col15\" class=\"col_heading level0 col15\" >Origins</th>\n",
       "    </tr>\n",
       "  </thead>\n",
       "  <tbody>\n",
       "    <tr>\n",
       "      <th id=\"T_da599_level0_row0\" class=\"row_heading level0 row0\" >995</th>\n",
       "      <td id=\"T_da599_row0_col0\" class=\"data row0 col0\" >9949544</td>\n",
       "      <td id=\"T_da599_row0_col1\" class=\"data row0 col1\" >48</td>\n",
       "      <td id=\"T_da599_row0_col2\" class=\"data row0 col2\" >1</td>\n",
       "      <td id=\"T_da599_row0_col3\" class=\"data row0 col3\" >2</td>\n",
       "      <td id=\"T_da599_row0_col4\" class=\"data row0 col4\" >139</td>\n",
       "      <td id=\"T_da599_row0_col5\" class=\"data row0 col5\" >349</td>\n",
       "      <td id=\"T_da599_row0_col6\" class=\"data row0 col6\" >0</td>\n",
       "      <td id=\"T_da599_row0_col7\" class=\"data row0 col7\" >2</td>\n",
       "      <td id=\"T_da599_row0_col8\" class=\"data row0 col8\" >183</td>\n",
       "      <td id=\"T_da599_row0_col9\" class=\"data row0 col9\" >1</td>\n",
       "      <td id=\"T_da599_row0_col10\" class=\"data row0 col10\" >5.600000</td>\n",
       "      <td id=\"T_da599_row0_col11\" class=\"data row0 col11\" >2</td>\n",
       "      <td id=\"T_da599_row0_col12\" class=\"data row0 col12\" >2</td>\n",
       "      <td id=\"T_da599_row0_col13\" class=\"data row0 col13\" >Presence of Heart Disease</td>\n",
       "      <td id=\"T_da599_row0_col14\" class=\"data row0 col14\" >Hombre</td>\n",
       "      <td id=\"T_da599_row0_col15\" class=\"data row0 col15\" >South Korea</td>\n",
       "    </tr>\n",
       "    <tr>\n",
       "      <th id=\"T_da599_level0_row1\" class=\"row_heading level0 row1\" >996</th>\n",
       "      <td id=\"T_da599_row1_col0\" class=\"data row1 col0\" >9953423</td>\n",
       "      <td id=\"T_da599_row1_col1\" class=\"data row1 col1\" >47</td>\n",
       "      <td id=\"T_da599_row1_col2\" class=\"data row1 col2\" >1</td>\n",
       "      <td id=\"T_da599_row1_col3\" class=\"data row1 col3\" >3</td>\n",
       "      <td id=\"T_da599_row1_col4\" class=\"data row1 col4\" >143</td>\n",
       "      <td id=\"T_da599_row1_col5\" class=\"data row1 col5\" >258</td>\n",
       "      <td id=\"T_da599_row1_col6\" class=\"data row1 col6\" >1</td>\n",
       "      <td id=\"T_da599_row1_col7\" class=\"data row1 col7\" >1</td>\n",
       "      <td id=\"T_da599_row1_col8\" class=\"data row1 col8\" >98</td>\n",
       "      <td id=\"T_da599_row1_col9\" class=\"data row1 col9\" >1</td>\n",
       "      <td id=\"T_da599_row1_col10\" class=\"data row1 col10\" >5.700000</td>\n",
       "      <td id=\"T_da599_row1_col11\" class=\"data row1 col11\" >1</td>\n",
       "      <td id=\"T_da599_row1_col12\" class=\"data row1 col12\" >0</td>\n",
       "      <td id=\"T_da599_row1_col13\" class=\"data row1 col13\" >Absence of Heart Disease</td>\n",
       "      <td id=\"T_da599_row1_col14\" class=\"data row1 col14\" >Hombre</td>\n",
       "      <td id=\"T_da599_row1_col15\" class=\"data row1 col15\" >Switzerland</td>\n",
       "    </tr>\n",
       "    <tr>\n",
       "      <th id=\"T_da599_level0_row2\" class=\"row_heading level0 row2\" >997</th>\n",
       "      <td id=\"T_da599_row2_col0\" class=\"data row2 col0\" >9965859</td>\n",
       "      <td id=\"T_da599_row2_col1\" class=\"data row2 col1\" >69</td>\n",
       "      <td id=\"T_da599_row2_col2\" class=\"data row2 col2\" >1</td>\n",
       "      <td id=\"T_da599_row2_col3\" class=\"data row2 col3\" >0</td>\n",
       "      <td id=\"T_da599_row2_col4\" class=\"data row2 col4\" >156</td>\n",
       "      <td id=\"T_da599_row2_col5\" class=\"data row2 col5\" >434</td>\n",
       "      <td id=\"T_da599_row2_col6\" class=\"data row2 col6\" >1</td>\n",
       "      <td id=\"T_da599_row2_col7\" class=\"data row2 col7\" >0</td>\n",
       "      <td id=\"T_da599_row2_col8\" class=\"data row2 col8\" >196</td>\n",
       "      <td id=\"T_da599_row2_col9\" class=\"data row2 col9\" >0</td>\n",
       "      <td id=\"T_da599_row2_col10\" class=\"data row2 col10\" >1.400000</td>\n",
       "      <td id=\"T_da599_row2_col11\" class=\"data row2 col11\" >3</td>\n",
       "      <td id=\"T_da599_row2_col12\" class=\"data row2 col12\" >1</td>\n",
       "      <td id=\"T_da599_row2_col13\" class=\"data row2 col13\" >Presence of Heart Disease</td>\n",
       "      <td id=\"T_da599_row2_col14\" class=\"data row2 col14\" >Hombre</td>\n",
       "      <td id=\"T_da599_row2_col15\" class=\"data row2 col15\" >Switzerland</td>\n",
       "    </tr>\n",
       "    <tr>\n",
       "      <th id=\"T_da599_level0_row3\" class=\"row_heading level0 row3\" >998</th>\n",
       "      <td id=\"T_da599_row3_col0\" class=\"data row3 col0\" >9988507</td>\n",
       "      <td id=\"T_da599_row3_col1\" class=\"data row3 col1\" >45</td>\n",
       "      <td id=\"T_da599_row3_col2\" class=\"data row3 col2\" >1</td>\n",
       "      <td id=\"T_da599_row3_col3\" class=\"data row3 col3\" >1</td>\n",
       "      <td id=\"T_da599_row3_col4\" class=\"data row3 col4\" >186</td>\n",
       "      <td id=\"T_da599_row3_col5\" class=\"data row3 col5\" >417</td>\n",
       "      <td id=\"T_da599_row3_col6\" class=\"data row3 col6\" >0</td>\n",
       "      <td id=\"T_da599_row3_col7\" class=\"data row3 col7\" >1</td>\n",
       "      <td id=\"T_da599_row3_col8\" class=\"data row3 col8\" >117</td>\n",
       "      <td id=\"T_da599_row3_col9\" class=\"data row3 col9\" >1</td>\n",
       "      <td id=\"T_da599_row3_col10\" class=\"data row3 col10\" >5.900000</td>\n",
       "      <td id=\"T_da599_row3_col11\" class=\"data row3 col11\" >3</td>\n",
       "      <td id=\"T_da599_row3_col12\" class=\"data row3 col12\" >2</td>\n",
       "      <td id=\"T_da599_row3_col13\" class=\"data row3 col13\" >Presence of Heart Disease</td>\n",
       "      <td id=\"T_da599_row3_col14\" class=\"data row3 col14\" >Hombre</td>\n",
       "      <td id=\"T_da599_row3_col15\" class=\"data row3 col15\" >Italy</td>\n",
       "    </tr>\n",
       "    <tr>\n",
       "      <th id=\"T_da599_level0_row4\" class=\"row_heading level0 row4\" >999</th>\n",
       "      <td id=\"T_da599_row4_col0\" class=\"data row4 col0\" >9990855</td>\n",
       "      <td id=\"T_da599_row4_col1\" class=\"data row4 col1\" >25</td>\n",
       "      <td id=\"T_da599_row4_col2\" class=\"data row4 col2\" >1</td>\n",
       "      <td id=\"T_da599_row4_col3\" class=\"data row4 col3\" >0</td>\n",
       "      <td id=\"T_da599_row4_col4\" class=\"data row4 col4\" >158</td>\n",
       "      <td id=\"T_da599_row4_col5\" class=\"data row4 col5\" >270</td>\n",
       "      <td id=\"T_da599_row4_col6\" class=\"data row4 col6\" >0</td>\n",
       "      <td id=\"T_da599_row4_col7\" class=\"data row4 col7\" >0</td>\n",
       "      <td id=\"T_da599_row4_col8\" class=\"data row4 col8\" >143</td>\n",
       "      <td id=\"T_da599_row4_col9\" class=\"data row4 col9\" >1</td>\n",
       "      <td id=\"T_da599_row4_col10\" class=\"data row4 col10\" >4.700000</td>\n",
       "      <td id=\"T_da599_row4_col11\" class=\"data row4 col11\" >0</td>\n",
       "      <td id=\"T_da599_row4_col12\" class=\"data row4 col12\" >0</td>\n",
       "      <td id=\"T_da599_row4_col13\" class=\"data row4 col13\" >Absence of Heart Disease</td>\n",
       "      <td id=\"T_da599_row4_col14\" class=\"data row4 col14\" >Hombre</td>\n",
       "      <td id=\"T_da599_row4_col15\" class=\"data row4 col15\" >Switzerland</td>\n",
       "    </tr>\n",
       "  </tbody>\n",
       "</table>\n"
      ],
      "text/plain": [
       "<pandas.io.formats.style.Styler at 0x7eda4d222aa0>"
      ]
     },
     "execution_count": 18,
     "metadata": {},
     "output_type": "execute_result"
    }
   ],
   "source": [
    "\n",
    "paises = ['Japan', 'France', 'South Korea', 'Switzerland', 'Norway',\n",
    "          'Sweden', 'Finland', 'Italy', 'Spain', 'Greece']\n",
    "\n",
    "condiciones = [\n",
    "    (df['restingBP'] < 120),\n",
    "    (df['restingBP'].between(120, 129)),\n",
    "    (df['restingBP'].between(130, 139)),\n",
    "    (df['restingBP'] >= 140) & (df['restingBP'] < 180),\n",
    "    (df['restingBP'] >= 180)\n",
    "]\n",
    "\n",
    "valores = paises[:4] + [paises[7]]  \n",
    "\n",
    "df['Origins'] = np.select(condiciones, valores, default='Greece')\n",
    "\n",
    "df.rename(columns={'restingBP': 'resting_blood_pressure'}, inplace=True)\n",
    "\n",
    "\n",
    "\n",
    "def color_string(s):\n",
    "    if isinstance(s, str):  \n",
    "        return 'color: blue'\n",
    "\n",
    "\n",
    "\n",
    "styled_df = df.tail().style.applymap(color_string)\n",
    "\n",
    "styled_df"
   ]
  },
  {
   "cell_type": "code",
   "execution_count": 19,
   "id": "5c2f6af7",
   "metadata": {
    "execution": {
     "iopub.execute_input": "2024-02-26T19:26:07.296847Z",
     "iopub.status.busy": "2024-02-26T19:26:07.296314Z",
     "iopub.status.idle": "2024-02-26T19:26:07.303739Z",
     "shell.execute_reply": "2024-02-26T19:26:07.302782Z"
    },
    "papermill": {
     "duration": 0.042948,
     "end_time": "2024-02-26T19:26:07.305858",
     "exception": false,
     "start_time": "2024-02-26T19:26:07.262910",
     "status": "completed"
    },
    "tags": []
   },
   "outputs": [
    {
     "data": {
      "text/plain": [
       "['patientid',\n",
       " 'age',\n",
       " 'gender',\n",
       " 'chestpain',\n",
       " 'resting_blood_pressure',\n",
       " 'serumcholestrol',\n",
       " 'fastingbloodsugar',\n",
       " 'restingrelectro',\n",
       " 'maxheartrate',\n",
       " 'exerciseangia',\n",
       " 'oldpeak',\n",
       " 'slope',\n",
       " 'noofmajorvessels',\n",
       " 'target',\n",
       " 'gender_transform',\n",
       " 'Origins']"
      ]
     },
     "execution_count": 19,
     "metadata": {},
     "output_type": "execute_result"
    }
   ],
   "source": [
    "#the new list\n",
    "list(df.columns)\n",
    "\n",
    "\n"
   ]
  },
  {
   "cell_type": "code",
   "execution_count": 20,
   "id": "1b290ba2",
   "metadata": {
    "execution": {
     "iopub.execute_input": "2024-02-26T19:26:07.374169Z",
     "iopub.status.busy": "2024-02-26T19:26:07.373329Z",
     "iopub.status.idle": "2024-02-26T19:26:07.381244Z",
     "shell.execute_reply": "2024-02-26T19:26:07.379992Z"
    },
    "papermill": {
     "duration": 0.046189,
     "end_time": "2024-02-26T19:26:07.384025",
     "exception": false,
     "start_time": "2024-02-26T19:26:07.337836",
     "status": "completed"
    },
    "tags": []
   },
   "outputs": [
    {
     "data": {
      "text/plain": [
       "<pandas.core.groupby.generic.SeriesGroupBy object at 0x7eda4a9a7a90>"
      ]
     },
     "execution_count": 20,
     "metadata": {},
     "output_type": "execute_result"
    }
   ],
   "source": [
    "# que pais tiene mas paciente con mayor old peak \n",
    "distribucion = df.groupby('Origins')['oldpeak']\n",
    "distribucion"
   ]
  },
  {
   "cell_type": "code",
   "execution_count": 21,
   "id": "4a763273",
   "metadata": {
    "execution": {
     "iopub.execute_input": "2024-02-26T19:26:07.453102Z",
     "iopub.status.busy": "2024-02-26T19:26:07.452262Z",
     "iopub.status.idle": "2024-02-26T19:26:07.816618Z",
     "shell.execute_reply": "2024-02-26T19:26:07.815062Z"
    },
    "papermill": {
     "duration": 0.402874,
     "end_time": "2024-02-26T19:26:07.819659",
     "exception": false,
     "start_time": "2024-02-26T19:26:07.416785",
     "status": "completed"
    },
    "tags": []
   },
   "outputs": [
    {
     "data": {
      "image/png": "[encoded data removed]",
      "text/plain": [
       "<Figure size 1000x600 with 1 Axes>"
      ]
     },
     "metadata": {},
     "output_type": "display_data"
    }
   ],
   "source": [
    "import seaborn as sns\n",
    "import matplotlib.pyplot as plt\n",
    "\n",
    "median_values = df.groupby('Origins')['oldpeak'].median().sort_values(ascending=False).index\n",
    "\n",
    "plt.figure(figsize=(10, 6))  \n",
    "sns.boxplot(x='Origins', y='oldpeak', data=df, order=median_values)\n",
    "plt.title('Valores de Oldpeak agrupados por Orígenes (Ordenados por Mediana)')\n",
    "plt.xlabel('Origins')\n",
    "plt.ylabel('Oldpeak')\n",
    "plt.show()\n",
    "#decending "
   ]
  },
  {
   "cell_type": "code",
   "execution_count": 22,
   "id": "f11262fd",
   "metadata": {
    "execution": {
     "iopub.execute_input": "2024-02-26T19:26:07.887789Z",
     "iopub.status.busy": "2024-02-26T19:26:07.887204Z",
     "iopub.status.idle": "2024-02-26T19:26:08.279265Z",
     "shell.execute_reply": "2024-02-26T19:26:08.277675Z"
    },
    "papermill": {
     "duration": 0.430275,
     "end_time": "2024-02-26T19:26:08.282638",
     "exception": false,
     "start_time": "2024-02-26T19:26:07.852363",
     "status": "completed"
    },
    "tags": []
   },
   "outputs": [
    {
     "data": {
      "image/png": "[encoded data removed]",
      "text/plain": [
       "<Figure size 1000x600 with 2 Axes>"
      ]
     },
     "metadata": {},
     "output_type": "display_data"
    }
   ],
   "source": [
    "import seaborn as sns\n",
    "import matplotlib.pyplot as plt\n",
    "\n",
    "pivot_table = df.pivot_table(index='Origins', values='oldpeak', aggfunc='median')\n",
    "pivot_table = pivot_table.sort_values(by='oldpeak', ascending=False)  # Ordenar en orden descendente\n",
    "\n",
    "plt.figure(figsize=(10, 6))\n",
    "sns.heatmap(data=pivot_table, annot=True, cmap='viridis')\n",
    "plt.title('Visualización de los países con los valores más bajos y más altos de Oldpeak')\n",
    "plt.xlabel('Orígenes')\n",
    "plt.ylabel('')\n",
    "\n",
    "plt.show()\n",
    "\n"
   ]
  },
  {
   "cell_type": "markdown",
   "id": "2c941b53",
   "metadata": {
    "papermill": {
     "duration": 0.033043,
     "end_time": "2024-02-26T19:26:08.349647",
     "exception": false,
     "start_time": "2024-02-26T19:26:08.316604",
     "status": "completed"
    },
    "tags": []
   },
   "source": [
    "##i will cobine two data frames"
   ]
  },
  {
   "cell_type": "markdown",
   "id": "d4a93d88",
   "metadata": {
    "papermill": {
     "duration": 0.033662,
     "end_time": "2024-02-26T19:26:08.418939",
     "exception": false,
     "start_time": "2024-02-26T19:26:08.385277",
     "status": "completed"
    },
    "tags": []
   },
   "source": [
    "<div style=\"border-radius: 10px; border: 2px solid #6A5ACD; padding: 15px; background-color: #87CEEB; font-size: 100%; text-align: left;\">\n",
    "    <font size=\"+1\" color=\"#2E8B57\"><b>💞🏥Desde aquí, vamos a combinar entre los dos dataframes </b></font>\n",
    "\n",
    "**Explication: El conjunto de datos de salud relacionado con accidentes cerebrovasculares (stroke) y el conjunto de datos cardiorrespiratorio comparten numerosas similitudes. Me propongo realizar predicciones utilizando la información conjunta de ambos conjuntos de datos para identificar posibles patrones y tendencias.**"
   ]
  },
  {
   "cell_type": "code",
   "execution_count": 23,
   "id": "2056cbed",
   "metadata": {
    "execution": {
     "iopub.execute_input": "2024-02-26T19:26:08.488530Z",
     "iopub.status.busy": "2024-02-26T19:26:08.488024Z",
     "iopub.status.idle": "2024-02-26T19:26:08.534141Z",
     "shell.execute_reply": "2024-02-26T19:26:08.532970Z"
    },
    "papermill": {
     "duration": 0.08426,
     "end_time": "2024-02-26T19:26:08.536859",
     "exception": false,
     "start_time": "2024-02-26T19:26:08.452599",
     "status": "completed"
    },
    "tags": []
   },
   "outputs": [
    {
     "data": {
      "text/html": [
       "<div>\n",
       "<style scoped>\n",
       "    .dataframe tbody tr th:only-of-type {\n",
       "        vertical-align: middle;\n",
       "    }\n",
       "\n",
       "    .dataframe tbody tr th {\n",
       "        vertical-align: top;\n",
       "    }\n",
       "\n",
       "    .dataframe thead th {\n",
       "        text-align: right;\n",
       "    }\n",
       "</style>\n",
       "<table border=\"1\" class=\"dataframe\">\n",
       "  <thead>\n",
       "    <tr style=\"text-align: right;\">\n",
       "      <th></th>\n",
       "      <th>id</th>\n",
       "      <th>gender</th>\n",
       "      <th>age</th>\n",
       "      <th>hypertension</th>\n",
       "      <th>heart_disease</th>\n",
       "      <th>ever_married</th>\n",
       "      <th>work_type</th>\n",
       "      <th>Residence_type</th>\n",
       "      <th>avg_glucose_level</th>\n",
       "      <th>bmi</th>\n",
       "      <th>smoking_status</th>\n",
       "      <th>stroke</th>\n",
       "    </tr>\n",
       "  </thead>\n",
       "  <tbody>\n",
       "    <tr>\n",
       "      <th>0</th>\n",
       "      <td>9046</td>\n",
       "      <td>Male</td>\n",
       "      <td>67.0</td>\n",
       "      <td>0</td>\n",
       "      <td>1</td>\n",
       "      <td>Yes</td>\n",
       "      <td>Private</td>\n",
       "      <td>Urban</td>\n",
       "      <td>228.69</td>\n",
       "      <td>36.6</td>\n",
       "      <td>formerly smoked</td>\n",
       "      <td>1</td>\n",
       "    </tr>\n",
       "    <tr>\n",
       "      <th>1</th>\n",
       "      <td>51676</td>\n",
       "      <td>Female</td>\n",
       "      <td>61.0</td>\n",
       "      <td>0</td>\n",
       "      <td>0</td>\n",
       "      <td>Yes</td>\n",
       "      <td>Self-employed</td>\n",
       "      <td>Rural</td>\n",
       "      <td>202.21</td>\n",
       "      <td>NaN</td>\n",
       "      <td>never smoked</td>\n",
       "      <td>1</td>\n",
       "    </tr>\n",
       "    <tr>\n",
       "      <th>2</th>\n",
       "      <td>31112</td>\n",
       "      <td>Male</td>\n",
       "      <td>80.0</td>\n",
       "      <td>0</td>\n",
       "      <td>1</td>\n",
       "      <td>Yes</td>\n",
       "      <td>Private</td>\n",
       "      <td>Rural</td>\n",
       "      <td>105.92</td>\n",
       "      <td>32.5</td>\n",
       "      <td>never smoked</td>\n",
       "      <td>1</td>\n",
       "    </tr>\n",
       "    <tr>\n",
       "      <th>3</th>\n",
       "      <td>60182</td>\n",
       "      <td>Female</td>\n",
       "      <td>49.0</td>\n",
       "      <td>0</td>\n",
       "      <td>0</td>\n",
       "      <td>Yes</td>\n",
       "      <td>Private</td>\n",
       "      <td>Urban</td>\n",
       "      <td>171.23</td>\n",
       "      <td>34.4</td>\n",
       "      <td>smokes</td>\n",
       "      <td>1</td>\n",
       "    </tr>\n",
       "    <tr>\n",
       "      <th>4</th>\n",
       "      <td>1665</td>\n",
       "      <td>Female</td>\n",
       "      <td>79.0</td>\n",
       "      <td>1</td>\n",
       "      <td>0</td>\n",
       "      <td>Yes</td>\n",
       "      <td>Self-employed</td>\n",
       "      <td>Rural</td>\n",
       "      <td>174.12</td>\n",
       "      <td>24.0</td>\n",
       "      <td>never smoked</td>\n",
       "      <td>1</td>\n",
       "    </tr>\n",
       "  </tbody>\n",
       "</table>\n",
       "</div>"
      ],
      "text/plain": [
       "      id  gender   age  hypertension  heart_disease ever_married  \\\n",
       "0   9046    Male  67.0             0              1          Yes   \n",
       "1  51676  Female  61.0             0              0          Yes   \n",
       "2  31112    Male  80.0             0              1          Yes   \n",
       "3  60182  Female  49.0             0              0          Yes   \n",
       "4   1665  Female  79.0             1              0          Yes   \n",
       "\n",
       "       work_type Residence_type  avg_glucose_level   bmi   smoking_status  \\\n",
       "0        Private          Urban             228.69  36.6  formerly smoked   \n",
       "1  Self-employed          Rural             202.21   NaN     never smoked   \n",
       "2        Private          Rural             105.92  32.5     never smoked   \n",
       "3        Private          Urban             171.23  34.4           smokes   \n",
       "4  Self-employed          Rural             174.12  24.0     never smoked   \n",
       "\n",
       "   stroke  \n",
       "0       1  \n",
       "1       1  \n",
       "2       1  \n",
       "3       1  \n",
       "4       1  "
      ]
     },
     "execution_count": 23,
     "metadata": {},
     "output_type": "execute_result"
    }
   ],
   "source": [
    "df2 = pd.read_csv('/kaggle/input/cardiorrespiratoriopart1/healthcare-dataset-stroke-data.csv',sep=',')\n",
    "df2.head()\n"
   ]
  },
  {
   "cell_type": "code",
   "execution_count": 24,
   "id": "a613168d",
   "metadata": {
    "execution": {
     "iopub.execute_input": "2024-02-26T19:26:08.606924Z",
     "iopub.status.busy": "2024-02-26T19:26:08.605907Z",
     "iopub.status.idle": "2024-02-26T19:26:08.630800Z",
     "shell.execute_reply": "2024-02-26T19:26:08.629300Z"
    },
    "papermill": {
     "duration": 0.063416,
     "end_time": "2024-02-26T19:26:08.633724",
     "exception": false,
     "start_time": "2024-02-26T19:26:08.570308",
     "status": "completed"
    },
    "tags": []
   },
   "outputs": [
    {
     "data": {
      "text/html": [
       "<div>\n",
       "<style scoped>\n",
       "    .dataframe tbody tr th:only-of-type {\n",
       "        vertical-align: middle;\n",
       "    }\n",
       "\n",
       "    .dataframe tbody tr th {\n",
       "        vertical-align: top;\n",
       "    }\n",
       "\n",
       "    .dataframe thead th {\n",
       "        text-align: right;\n",
       "    }\n",
       "</style>\n",
       "<table border=\"1\" class=\"dataframe\">\n",
       "  <thead>\n",
       "    <tr style=\"text-align: right;\">\n",
       "      <th></th>\n",
       "      <th>id</th>\n",
       "      <th>gender</th>\n",
       "      <th>age</th>\n",
       "      <th>hypertension</th>\n",
       "      <th>heart_disease</th>\n",
       "      <th>ever_married</th>\n",
       "      <th>work_type</th>\n",
       "      <th>Residence_type</th>\n",
       "      <th>avg_glucose_level</th>\n",
       "      <th>bmi</th>\n",
       "      <th>smoking_status</th>\n",
       "      <th>stroke</th>\n",
       "    </tr>\n",
       "  </thead>\n",
       "  <tbody>\n",
       "    <tr>\n",
       "      <th>5104</th>\n",
       "      <td>14180</td>\n",
       "      <td>Female</td>\n",
       "      <td>13.0</td>\n",
       "      <td>0</td>\n",
       "      <td>0</td>\n",
       "      <td>No</td>\n",
       "      <td>children</td>\n",
       "      <td>Rural</td>\n",
       "      <td>103.08</td>\n",
       "      <td>18.6</td>\n",
       "      <td>Unknown</td>\n",
       "      <td>0</td>\n",
       "    </tr>\n",
       "    <tr>\n",
       "      <th>5106</th>\n",
       "      <td>44873</td>\n",
       "      <td>Female</td>\n",
       "      <td>81.0</td>\n",
       "      <td>0</td>\n",
       "      <td>0</td>\n",
       "      <td>Yes</td>\n",
       "      <td>Self-employed</td>\n",
       "      <td>Urban</td>\n",
       "      <td>125.20</td>\n",
       "      <td>40.0</td>\n",
       "      <td>never smoked</td>\n",
       "      <td>0</td>\n",
       "    </tr>\n",
       "    <tr>\n",
       "      <th>5107</th>\n",
       "      <td>19723</td>\n",
       "      <td>Female</td>\n",
       "      <td>35.0</td>\n",
       "      <td>0</td>\n",
       "      <td>0</td>\n",
       "      <td>Yes</td>\n",
       "      <td>Self-employed</td>\n",
       "      <td>Rural</td>\n",
       "      <td>82.99</td>\n",
       "      <td>30.6</td>\n",
       "      <td>never smoked</td>\n",
       "      <td>0</td>\n",
       "    </tr>\n",
       "    <tr>\n",
       "      <th>5108</th>\n",
       "      <td>37544</td>\n",
       "      <td>Male</td>\n",
       "      <td>51.0</td>\n",
       "      <td>0</td>\n",
       "      <td>0</td>\n",
       "      <td>Yes</td>\n",
       "      <td>Private</td>\n",
       "      <td>Rural</td>\n",
       "      <td>166.29</td>\n",
       "      <td>25.6</td>\n",
       "      <td>formerly smoked</td>\n",
       "      <td>0</td>\n",
       "    </tr>\n",
       "    <tr>\n",
       "      <th>5109</th>\n",
       "      <td>44679</td>\n",
       "      <td>Female</td>\n",
       "      <td>44.0</td>\n",
       "      <td>0</td>\n",
       "      <td>0</td>\n",
       "      <td>Yes</td>\n",
       "      <td>Govt_job</td>\n",
       "      <td>Urban</td>\n",
       "      <td>85.28</td>\n",
       "      <td>26.2</td>\n",
       "      <td>Unknown</td>\n",
       "      <td>0</td>\n",
       "    </tr>\n",
       "  </tbody>\n",
       "</table>\n",
       "</div>"
      ],
      "text/plain": [
       "         id  gender   age  hypertension  heart_disease ever_married  \\\n",
       "5104  14180  Female  13.0             0              0           No   \n",
       "5106  44873  Female  81.0             0              0          Yes   \n",
       "5107  19723  Female  35.0             0              0          Yes   \n",
       "5108  37544    Male  51.0             0              0          Yes   \n",
       "5109  44679  Female  44.0             0              0          Yes   \n",
       "\n",
       "          work_type Residence_type  avg_glucose_level   bmi   smoking_status  \\\n",
       "5104       children          Rural             103.08  18.6          Unknown   \n",
       "5106  Self-employed          Urban             125.20  40.0     never smoked   \n",
       "5107  Self-employed          Rural              82.99  30.6     never smoked   \n",
       "5108        Private          Rural             166.29  25.6  formerly smoked   \n",
       "5109       Govt_job          Urban              85.28  26.2          Unknown   \n",
       "\n",
       "      stroke  \n",
       "5104       0  \n",
       "5106       0  \n",
       "5107       0  \n",
       "5108       0  \n",
       "5109       0  "
      ]
     },
     "execution_count": 24,
     "metadata": {},
     "output_type": "execute_result"
    }
   ],
   "source": [
    "no_nan = ['bmi', 'Residence_type']\n",
    "df_sin_nan = df2.dropna(subset=no_nan)\n",
    "df_sin_nan.tail()"
   ]
  },
  {
   "cell_type": "code",
   "execution_count": 25,
   "id": "b9e5e701",
   "metadata": {
    "execution": {
     "iopub.execute_input": "2024-02-26T19:26:08.704220Z",
     "iopub.status.busy": "2024-02-26T19:26:08.703782Z",
     "iopub.status.idle": "2024-02-26T19:26:08.729244Z",
     "shell.execute_reply": "2024-02-26T19:26:08.727847Z"
    },
    "papermill": {
     "duration": 0.064368,
     "end_time": "2024-02-26T19:26:08.732076",
     "exception": false,
     "start_time": "2024-02-26T19:26:08.667708",
     "status": "completed"
    },
    "tags": []
   },
   "outputs": [
    {
     "data": {
      "text/html": [
       "<div>\n",
       "<style scoped>\n",
       "    .dataframe tbody tr th:only-of-type {\n",
       "        vertical-align: middle;\n",
       "    }\n",
       "\n",
       "    .dataframe tbody tr th {\n",
       "        vertical-align: top;\n",
       "    }\n",
       "\n",
       "    .dataframe thead th {\n",
       "        text-align: right;\n",
       "    }\n",
       "</style>\n",
       "<table border=\"1\" class=\"dataframe\">\n",
       "  <thead>\n",
       "    <tr style=\"text-align: right;\">\n",
       "      <th></th>\n",
       "      <th>id</th>\n",
       "      <th>gender</th>\n",
       "      <th>age</th>\n",
       "      <th>hypertension</th>\n",
       "      <th>heart_disease</th>\n",
       "      <th>ever_married</th>\n",
       "      <th>work_type</th>\n",
       "      <th>Residence_type</th>\n",
       "      <th>avg_glucose_level</th>\n",
       "      <th>bmi</th>\n",
       "      <th>smoking_status</th>\n",
       "      <th>stroke</th>\n",
       "      <th>gender_transform</th>\n",
       "    </tr>\n",
       "  </thead>\n",
       "  <tbody>\n",
       "    <tr>\n",
       "      <th>5105</th>\n",
       "      <td>18234</td>\n",
       "      <td>Female</td>\n",
       "      <td>80.0</td>\n",
       "      <td>1</td>\n",
       "      <td>0</td>\n",
       "      <td>Yes</td>\n",
       "      <td>Private</td>\n",
       "      <td>Urban</td>\n",
       "      <td>83.75</td>\n",
       "      <td>NaN</td>\n",
       "      <td>never smoked</td>\n",
       "      <td>0</td>\n",
       "      <td>Mujer</td>\n",
       "    </tr>\n",
       "    <tr>\n",
       "      <th>5106</th>\n",
       "      <td>44873</td>\n",
       "      <td>Female</td>\n",
       "      <td>81.0</td>\n",
       "      <td>0</td>\n",
       "      <td>0</td>\n",
       "      <td>Yes</td>\n",
       "      <td>Self-employed</td>\n",
       "      <td>Urban</td>\n",
       "      <td>125.20</td>\n",
       "      <td>40.0</td>\n",
       "      <td>never smoked</td>\n",
       "      <td>0</td>\n",
       "      <td>Mujer</td>\n",
       "    </tr>\n",
       "    <tr>\n",
       "      <th>5107</th>\n",
       "      <td>19723</td>\n",
       "      <td>Female</td>\n",
       "      <td>35.0</td>\n",
       "      <td>0</td>\n",
       "      <td>0</td>\n",
       "      <td>Yes</td>\n",
       "      <td>Self-employed</td>\n",
       "      <td>Rural</td>\n",
       "      <td>82.99</td>\n",
       "      <td>30.6</td>\n",
       "      <td>never smoked</td>\n",
       "      <td>0</td>\n",
       "      <td>Mujer</td>\n",
       "    </tr>\n",
       "    <tr>\n",
       "      <th>5108</th>\n",
       "      <td>37544</td>\n",
       "      <td>Male</td>\n",
       "      <td>51.0</td>\n",
       "      <td>0</td>\n",
       "      <td>0</td>\n",
       "      <td>Yes</td>\n",
       "      <td>Private</td>\n",
       "      <td>Rural</td>\n",
       "      <td>166.29</td>\n",
       "      <td>25.6</td>\n",
       "      <td>formerly smoked</td>\n",
       "      <td>0</td>\n",
       "      <td>Hombre</td>\n",
       "    </tr>\n",
       "    <tr>\n",
       "      <th>5109</th>\n",
       "      <td>44679</td>\n",
       "      <td>Female</td>\n",
       "      <td>44.0</td>\n",
       "      <td>0</td>\n",
       "      <td>0</td>\n",
       "      <td>Yes</td>\n",
       "      <td>Govt_job</td>\n",
       "      <td>Urban</td>\n",
       "      <td>85.28</td>\n",
       "      <td>26.2</td>\n",
       "      <td>Unknown</td>\n",
       "      <td>0</td>\n",
       "      <td>Mujer</td>\n",
       "    </tr>\n",
       "  </tbody>\n",
       "</table>\n",
       "</div>"
      ],
      "text/plain": [
       "         id  gender   age  hypertension  heart_disease ever_married  \\\n",
       "5105  18234  Female  80.0             1              0          Yes   \n",
       "5106  44873  Female  81.0             0              0          Yes   \n",
       "5107  19723  Female  35.0             0              0          Yes   \n",
       "5108  37544    Male  51.0             0              0          Yes   \n",
       "5109  44679  Female  44.0             0              0          Yes   \n",
       "\n",
       "          work_type Residence_type  avg_glucose_level   bmi   smoking_status  \\\n",
       "5105        Private          Urban              83.75   NaN     never smoked   \n",
       "5106  Self-employed          Urban             125.20  40.0     never smoked   \n",
       "5107  Self-employed          Rural              82.99  30.6     never smoked   \n",
       "5108        Private          Rural             166.29  25.6  formerly smoked   \n",
       "5109       Govt_job          Urban              85.28  26.2          Unknown   \n",
       "\n",
       "      stroke gender_transform  \n",
       "5105       0            Mujer  \n",
       "5106       0            Mujer  \n",
       "5107       0            Mujer  \n",
       "5108       0           Hombre  \n",
       "5109       0            Mujer  "
      ]
     },
     "execution_count": 25,
     "metadata": {},
     "output_type": "execute_result"
    }
   ],
   "source": [
    "df2['gender_transform'] = np.where(df2['gender'] == 'Female', 'Mujer', 'Hombre')\n",
    "df2.tail()\n"
   ]
  },
  {
   "cell_type": "code",
   "execution_count": 26,
   "id": "2f26e24e",
   "metadata": {
    "execution": {
     "iopub.execute_input": "2024-02-26T19:26:08.803027Z",
     "iopub.status.busy": "2024-02-26T19:26:08.802537Z",
     "iopub.status.idle": "2024-02-26T19:26:08.808925Z",
     "shell.execute_reply": "2024-02-26T19:26:08.807819Z"
    },
    "papermill": {
     "duration": 0.044957,
     "end_time": "2024-02-26T19:26:08.811414",
     "exception": false,
     "start_time": "2024-02-26T19:26:08.766457",
     "status": "completed"
    },
    "tags": []
   },
   "outputs": [],
   "source": [
    "df2.rename(columns={'id': 'patientid'},inplace=True)"
   ]
  },
  {
   "cell_type": "code",
   "execution_count": 27,
   "id": "e8c795ae",
   "metadata": {
    "execution": {
     "iopub.execute_input": "2024-02-26T19:26:08.883507Z",
     "iopub.status.busy": "2024-02-26T19:26:08.882154Z",
     "iopub.status.idle": "2024-02-26T19:26:08.904152Z",
     "shell.execute_reply": "2024-02-26T19:26:08.902814Z"
    },
    "papermill": {
     "duration": 0.061123,
     "end_time": "2024-02-26T19:26:08.906845",
     "exception": false,
     "start_time": "2024-02-26T19:26:08.845722",
     "status": "completed"
    },
    "tags": []
   },
   "outputs": [
    {
     "data": {
      "text/html": [
       "<div>\n",
       "<style scoped>\n",
       "    .dataframe tbody tr th:only-of-type {\n",
       "        vertical-align: middle;\n",
       "    }\n",
       "\n",
       "    .dataframe tbody tr th {\n",
       "        vertical-align: top;\n",
       "    }\n",
       "\n",
       "    .dataframe thead th {\n",
       "        text-align: right;\n",
       "    }\n",
       "</style>\n",
       "<table border=\"1\" class=\"dataframe\">\n",
       "  <thead>\n",
       "    <tr style=\"text-align: right;\">\n",
       "      <th></th>\n",
       "      <th>patientid</th>\n",
       "      <th>age</th>\n",
       "      <th>gender</th>\n",
       "      <th>chestpain</th>\n",
       "      <th>resting_blood_pressure</th>\n",
       "      <th>serumcholestrol</th>\n",
       "      <th>fastingbloodsugar</th>\n",
       "      <th>restingrelectro</th>\n",
       "      <th>maxheartrate</th>\n",
       "      <th>exerciseangia</th>\n",
       "      <th>oldpeak</th>\n",
       "      <th>slope</th>\n",
       "      <th>noofmajorvessels</th>\n",
       "      <th>target</th>\n",
       "      <th>gender_transform</th>\n",
       "      <th>Origins</th>\n",
       "    </tr>\n",
       "  </thead>\n",
       "  <tbody>\n",
       "    <tr>\n",
       "      <th>995</th>\n",
       "      <td>9949544</td>\n",
       "      <td>48</td>\n",
       "      <td>1</td>\n",
       "      <td>2</td>\n",
       "      <td>139</td>\n",
       "      <td>349</td>\n",
       "      <td>0</td>\n",
       "      <td>2</td>\n",
       "      <td>183</td>\n",
       "      <td>1</td>\n",
       "      <td>5.6</td>\n",
       "      <td>2</td>\n",
       "      <td>2</td>\n",
       "      <td>Presence of Heart Disease</td>\n",
       "      <td>Hombre</td>\n",
       "      <td>South Korea</td>\n",
       "    </tr>\n",
       "    <tr>\n",
       "      <th>996</th>\n",
       "      <td>9953423</td>\n",
       "      <td>47</td>\n",
       "      <td>1</td>\n",
       "      <td>3</td>\n",
       "      <td>143</td>\n",
       "      <td>258</td>\n",
       "      <td>1</td>\n",
       "      <td>1</td>\n",
       "      <td>98</td>\n",
       "      <td>1</td>\n",
       "      <td>5.7</td>\n",
       "      <td>1</td>\n",
       "      <td>0</td>\n",
       "      <td>Absence of Heart Disease</td>\n",
       "      <td>Hombre</td>\n",
       "      <td>Switzerland</td>\n",
       "    </tr>\n",
       "    <tr>\n",
       "      <th>997</th>\n",
       "      <td>9965859</td>\n",
       "      <td>69</td>\n",
       "      <td>1</td>\n",
       "      <td>0</td>\n",
       "      <td>156</td>\n",
       "      <td>434</td>\n",
       "      <td>1</td>\n",
       "      <td>0</td>\n",
       "      <td>196</td>\n",
       "      <td>0</td>\n",
       "      <td>1.4</td>\n",
       "      <td>3</td>\n",
       "      <td>1</td>\n",
       "      <td>Presence of Heart Disease</td>\n",
       "      <td>Hombre</td>\n",
       "      <td>Switzerland</td>\n",
       "    </tr>\n",
       "    <tr>\n",
       "      <th>998</th>\n",
       "      <td>9988507</td>\n",
       "      <td>45</td>\n",
       "      <td>1</td>\n",
       "      <td>1</td>\n",
       "      <td>186</td>\n",
       "      <td>417</td>\n",
       "      <td>0</td>\n",
       "      <td>1</td>\n",
       "      <td>117</td>\n",
       "      <td>1</td>\n",
       "      <td>5.9</td>\n",
       "      <td>3</td>\n",
       "      <td>2</td>\n",
       "      <td>Presence of Heart Disease</td>\n",
       "      <td>Hombre</td>\n",
       "      <td>Italy</td>\n",
       "    </tr>\n",
       "    <tr>\n",
       "      <th>999</th>\n",
       "      <td>9990855</td>\n",
       "      <td>25</td>\n",
       "      <td>1</td>\n",
       "      <td>0</td>\n",
       "      <td>158</td>\n",
       "      <td>270</td>\n",
       "      <td>0</td>\n",
       "      <td>0</td>\n",
       "      <td>143</td>\n",
       "      <td>1</td>\n",
       "      <td>4.7</td>\n",
       "      <td>0</td>\n",
       "      <td>0</td>\n",
       "      <td>Absence of Heart Disease</td>\n",
       "      <td>Hombre</td>\n",
       "      <td>Switzerland</td>\n",
       "    </tr>\n",
       "  </tbody>\n",
       "</table>\n",
       "</div>"
      ],
      "text/plain": [
       "     patientid  age  gender  chestpain  resting_blood_pressure  \\\n",
       "995    9949544   48       1          2                     139   \n",
       "996    9953423   47       1          3                     143   \n",
       "997    9965859   69       1          0                     156   \n",
       "998    9988507   45       1          1                     186   \n",
       "999    9990855   25       1          0                     158   \n",
       "\n",
       "     serumcholestrol  fastingbloodsugar  restingrelectro  maxheartrate  \\\n",
       "995              349                  0                2           183   \n",
       "996              258                  1                1            98   \n",
       "997              434                  1                0           196   \n",
       "998              417                  0                1           117   \n",
       "999              270                  0                0           143   \n",
       "\n",
       "     exerciseangia  oldpeak  slope  noofmajorvessels  \\\n",
       "995              1      5.6      2                 2   \n",
       "996              1      5.7      1                 0   \n",
       "997              0      1.4      3                 1   \n",
       "998              1      5.9      3                 2   \n",
       "999              1      4.7      0                 0   \n",
       "\n",
       "                        target gender_transform      Origins  \n",
       "995  Presence of Heart Disease           Hombre  South Korea  \n",
       "996   Absence of Heart Disease           Hombre  Switzerland  \n",
       "997  Presence of Heart Disease           Hombre  Switzerland  \n",
       "998  Presence of Heart Disease           Hombre        Italy  \n",
       "999   Absence of Heart Disease           Hombre  Switzerland  "
      ]
     },
     "execution_count": 27,
     "metadata": {},
     "output_type": "execute_result"
    }
   ],
   "source": [
    "df.tail()"
   ]
  },
  {
   "cell_type": "code",
   "execution_count": 28,
   "id": "21fbf2a1",
   "metadata": {
    "execution": {
     "iopub.execute_input": "2024-02-26T19:26:08.978666Z",
     "iopub.status.busy": "2024-02-26T19:26:08.978098Z",
     "iopub.status.idle": "2024-02-26T19:26:08.990024Z",
     "shell.execute_reply": "2024-02-26T19:26:08.988756Z"
    },
    "papermill": {
     "duration": 0.051566,
     "end_time": "2024-02-26T19:26:08.992790",
     "exception": false,
     "start_time": "2024-02-26T19:26:08.941224",
     "status": "completed"
    },
    "tags": []
   },
   "outputs": [
    {
     "name": "stdout",
     "output_type": "stream",
     "text": [
      "<class 'pandas.core.series.Series'>\n",
      "RangeIndex: 5110 entries, 0 to 5109\n",
      "Series name: patientid\n",
      "Non-Null Count  Dtype\n",
      "--------------  -----\n",
      "5110 non-null   int64\n",
      "dtypes: int64(1)\n",
      "memory usage: 40.0 KB\n"
     ]
    }
   ],
   "source": [
    "df2['patientid'].info()"
   ]
  },
  {
   "cell_type": "code",
   "execution_count": 29,
   "id": "ed35b497",
   "metadata": {
    "execution": {
     "iopub.execute_input": "2024-02-26T19:26:09.065038Z",
     "iopub.status.busy": "2024-02-26T19:26:09.064503Z",
     "iopub.status.idle": "2024-02-26T19:26:09.083626Z",
     "shell.execute_reply": "2024-02-26T19:26:09.082638Z"
    },
    "papermill": {
     "duration": 0.058789,
     "end_time": "2024-02-26T19:26:09.086600",
     "exception": false,
     "start_time": "2024-02-26T19:26:09.027811",
     "status": "completed"
    },
    "tags": []
   },
   "outputs": [
    {
     "name": "stdout",
     "output_type": "stream",
     "text": [
      "<class 'pandas.core.frame.DataFrame'>\n",
      "RangeIndex: 5110 entries, 0 to 5109\n",
      "Data columns (total 13 columns):\n",
      " #   Column             Non-Null Count  Dtype  \n",
      "---  ------             --------------  -----  \n",
      " 0   patientid          5110 non-null   int64  \n",
      " 1   gender             5110 non-null   object \n",
      " 2   age                5110 non-null   int64  \n",
      " 3   hypertension       5110 non-null   int64  \n",
      " 4   heart_disease      5110 non-null   int64  \n",
      " 5   ever_married       5110 non-null   object \n",
      " 6   work_type          5110 non-null   object \n",
      " 7   Residence_type     5110 non-null   object \n",
      " 8   avg_glucose_level  5110 non-null   float64\n",
      " 9   bmi                4909 non-null   float64\n",
      " 10  smoking_status     5110 non-null   object \n",
      " 11  stroke             5110 non-null   int64  \n",
      " 12  gender_transform   5110 non-null   object \n",
      "dtypes: float64(2), int64(5), object(6)\n",
      "memory usage: 519.1+ KB\n"
     ]
    }
   ],
   "source": [
    "df2['age'] = df2['age'].astype('int64')\n",
    "df2.info()\n"
   ]
  },
  {
   "cell_type": "code",
   "execution_count": 30,
   "id": "35b312ee",
   "metadata": {
    "execution": {
     "iopub.execute_input": "2024-02-26T19:26:09.161827Z",
     "iopub.status.busy": "2024-02-26T19:26:09.161294Z",
     "iopub.status.idle": "2024-02-26T19:26:09.177140Z",
     "shell.execute_reply": "2024-02-26T19:26:09.176084Z"
    },
    "papermill": {
     "duration": 0.055975,
     "end_time": "2024-02-26T19:26:09.180050",
     "exception": false,
     "start_time": "2024-02-26T19:26:09.124075",
     "status": "completed"
    },
    "tags": []
   },
   "outputs": [
    {
     "name": "stdout",
     "output_type": "stream",
     "text": [
      "<class 'pandas.core.frame.DataFrame'>\n",
      "RangeIndex: 1000 entries, 0 to 999\n",
      "Data columns (total 16 columns):\n",
      " #   Column                  Non-Null Count  Dtype  \n",
      "---  ------                  --------------  -----  \n",
      " 0   patientid               1000 non-null   int64  \n",
      " 1   age                     1000 non-null   int64  \n",
      " 2   gender                  1000 non-null   int64  \n",
      " 3   chestpain               1000 non-null   int64  \n",
      " 4   resting_blood_pressure  1000 non-null   int64  \n",
      " 5   serumcholestrol         1000 non-null   int64  \n",
      " 6   fastingbloodsugar       1000 non-null   int64  \n",
      " 7   restingrelectro         1000 non-null   int64  \n",
      " 8   maxheartrate            1000 non-null   int64  \n",
      " 9   exerciseangia           1000 non-null   int64  \n",
      " 10  oldpeak                 1000 non-null   float64\n",
      " 11  slope                   1000 non-null   int64  \n",
      " 12  noofmajorvessels        1000 non-null   int64  \n",
      " 13  target                  1000 non-null   object \n",
      " 14  gender_transform        1000 non-null   object \n",
      " 15  Origins                 1000 non-null   object \n",
      "dtypes: float64(1), int64(12), object(3)\n",
      "memory usage: 125.1+ KB\n"
     ]
    }
   ],
   "source": [
    "df.info()"
   ]
  },
  {
   "cell_type": "code",
   "execution_count": 31,
   "id": "e98f0e89",
   "metadata": {
    "execution": {
     "iopub.execute_input": "2024-02-26T19:26:09.253852Z",
     "iopub.status.busy": "2024-02-26T19:26:09.253328Z",
     "iopub.status.idle": "2024-02-26T19:26:09.272089Z",
     "shell.execute_reply": "2024-02-26T19:26:09.270617Z"
    },
    "papermill": {
     "duration": 0.059348,
     "end_time": "2024-02-26T19:26:09.275081",
     "exception": false,
     "start_time": "2024-02-26T19:26:09.215733",
     "status": "completed"
    },
    "tags": []
   },
   "outputs": [
    {
     "name": "stdout",
     "output_type": "stream",
     "text": [
      "<class 'pandas.core.frame.DataFrame'>\n",
      "RangeIndex: 5110 entries, 0 to 5109\n",
      "Data columns (total 13 columns):\n",
      " #   Column             Non-Null Count  Dtype  \n",
      "---  ------             --------------  -----  \n",
      " 0   patientid          5110 non-null   int64  \n",
      " 1   gender             5110 non-null   object \n",
      " 2   age                5110 non-null   int64  \n",
      " 3   hypertension       5110 non-null   int64  \n",
      " 4   heart_disease      5110 non-null   int64  \n",
      " 5   ever_married       5110 non-null   object \n",
      " 6   work_type          5110 non-null   object \n",
      " 7   Residence_type     5110 non-null   object \n",
      " 8   avg_glucose_level  5110 non-null   float64\n",
      " 9   bmi                4909 non-null   float64\n",
      " 10  smoking_status     5110 non-null   object \n",
      " 11  stroke             5110 non-null   int64  \n",
      " 12  gender_transform   5110 non-null   object \n",
      "dtypes: float64(2), int64(5), object(6)\n",
      "memory usage: 519.1+ KB\n"
     ]
    }
   ],
   "source": [
    "df2.info()"
   ]
  },
  {
   "cell_type": "code",
   "execution_count": 32,
   "id": "9801dac9",
   "metadata": {
    "execution": {
     "iopub.execute_input": "2024-02-26T19:26:09.350639Z",
     "iopub.status.busy": "2024-02-26T19:26:09.350127Z",
     "iopub.status.idle": "2024-02-26T19:26:09.409301Z",
     "shell.execute_reply": "2024-02-26T19:26:09.408319Z"
    },
    "papermill": {
     "duration": 0.100253,
     "end_time": "2024-02-26T19:26:09.411959",
     "exception": false,
     "start_time": "2024-02-26T19:26:09.311706",
     "status": "completed"
    },
    "tags": []
   },
   "outputs": [
    {
     "data": {
      "text/html": [
       "<div>\n",
       "<style scoped>\n",
       "    .dataframe tbody tr th:only-of-type {\n",
       "        vertical-align: middle;\n",
       "    }\n",
       "\n",
       "    .dataframe tbody tr th {\n",
       "        vertical-align: top;\n",
       "    }\n",
       "\n",
       "    .dataframe thead th {\n",
       "        text-align: right;\n",
       "    }\n",
       "</style>\n",
       "<table border=\"1\" class=\"dataframe\">\n",
       "  <thead>\n",
       "    <tr style=\"text-align: right;\">\n",
       "      <th></th>\n",
       "      <th>patientid</th>\n",
       "      <th>age</th>\n",
       "      <th>gender</th>\n",
       "      <th>chestpain</th>\n",
       "      <th>resting_blood_pressure</th>\n",
       "      <th>serumcholestrol</th>\n",
       "      <th>fastingbloodsugar</th>\n",
       "      <th>restingrelectro</th>\n",
       "      <th>maxheartrate</th>\n",
       "      <th>exerciseangia</th>\n",
       "      <th>...</th>\n",
       "      <th>Origins</th>\n",
       "      <th>hypertension</th>\n",
       "      <th>heart_disease</th>\n",
       "      <th>ever_married</th>\n",
       "      <th>work_type</th>\n",
       "      <th>Residence_type</th>\n",
       "      <th>avg_glucose_level</th>\n",
       "      <th>bmi</th>\n",
       "      <th>smoking_status</th>\n",
       "      <th>stroke</th>\n",
       "    </tr>\n",
       "  </thead>\n",
       "  <tbody>\n",
       "    <tr>\n",
       "      <th>0</th>\n",
       "      <td>103368</td>\n",
       "      <td>53</td>\n",
       "      <td>1</td>\n",
       "      <td>2.0</td>\n",
       "      <td>171.0</td>\n",
       "      <td>0.0</td>\n",
       "      <td>0.0</td>\n",
       "      <td>1.0</td>\n",
       "      <td>147.0</td>\n",
       "      <td>0.0</td>\n",
       "      <td>...</td>\n",
       "      <td>Switzerland</td>\n",
       "      <td>NaN</td>\n",
       "      <td>NaN</td>\n",
       "      <td>NaN</td>\n",
       "      <td>NaN</td>\n",
       "      <td>NaN</td>\n",
       "      <td>NaN</td>\n",
       "      <td>NaN</td>\n",
       "      <td>NaN</td>\n",
       "      <td>NaN</td>\n",
       "    </tr>\n",
       "    <tr>\n",
       "      <th>1</th>\n",
       "      <td>119250</td>\n",
       "      <td>40</td>\n",
       "      <td>1</td>\n",
       "      <td>0.0</td>\n",
       "      <td>94.0</td>\n",
       "      <td>229.0</td>\n",
       "      <td>0.0</td>\n",
       "      <td>1.0</td>\n",
       "      <td>115.0</td>\n",
       "      <td>0.0</td>\n",
       "      <td>...</td>\n",
       "      <td>Japan</td>\n",
       "      <td>NaN</td>\n",
       "      <td>NaN</td>\n",
       "      <td>NaN</td>\n",
       "      <td>NaN</td>\n",
       "      <td>NaN</td>\n",
       "      <td>NaN</td>\n",
       "      <td>NaN</td>\n",
       "      <td>NaN</td>\n",
       "      <td>NaN</td>\n",
       "    </tr>\n",
       "    <tr>\n",
       "      <th>2</th>\n",
       "      <td>119372</td>\n",
       "      <td>49</td>\n",
       "      <td>1</td>\n",
       "      <td>2.0</td>\n",
       "      <td>133.0</td>\n",
       "      <td>142.0</td>\n",
       "      <td>0.0</td>\n",
       "      <td>0.0</td>\n",
       "      <td>202.0</td>\n",
       "      <td>1.0</td>\n",
       "      <td>...</td>\n",
       "      <td>South Korea</td>\n",
       "      <td>NaN</td>\n",
       "      <td>NaN</td>\n",
       "      <td>NaN</td>\n",
       "      <td>NaN</td>\n",
       "      <td>NaN</td>\n",
       "      <td>NaN</td>\n",
       "      <td>NaN</td>\n",
       "      <td>NaN</td>\n",
       "      <td>NaN</td>\n",
       "    </tr>\n",
       "    <tr>\n",
       "      <th>3</th>\n",
       "      <td>132514</td>\n",
       "      <td>43</td>\n",
       "      <td>1</td>\n",
       "      <td>0.0</td>\n",
       "      <td>138.0</td>\n",
       "      <td>295.0</td>\n",
       "      <td>1.0</td>\n",
       "      <td>1.0</td>\n",
       "      <td>153.0</td>\n",
       "      <td>0.0</td>\n",
       "      <td>...</td>\n",
       "      <td>South Korea</td>\n",
       "      <td>NaN</td>\n",
       "      <td>NaN</td>\n",
       "      <td>NaN</td>\n",
       "      <td>NaN</td>\n",
       "      <td>NaN</td>\n",
       "      <td>NaN</td>\n",
       "      <td>NaN</td>\n",
       "      <td>NaN</td>\n",
       "      <td>NaN</td>\n",
       "    </tr>\n",
       "    <tr>\n",
       "      <th>4</th>\n",
       "      <td>146211</td>\n",
       "      <td>31</td>\n",
       "      <td>1</td>\n",
       "      <td>1.0</td>\n",
       "      <td>199.0</td>\n",
       "      <td>0.0</td>\n",
       "      <td>0.0</td>\n",
       "      <td>2.0</td>\n",
       "      <td>136.0</td>\n",
       "      <td>0.0</td>\n",
       "      <td>...</td>\n",
       "      <td>Italy</td>\n",
       "      <td>NaN</td>\n",
       "      <td>NaN</td>\n",
       "      <td>NaN</td>\n",
       "      <td>NaN</td>\n",
       "      <td>NaN</td>\n",
       "      <td>NaN</td>\n",
       "      <td>NaN</td>\n",
       "      <td>NaN</td>\n",
       "      <td>NaN</td>\n",
       "    </tr>\n",
       "    <tr>\n",
       "      <th>...</th>\n",
       "      <td>...</td>\n",
       "      <td>...</td>\n",
       "      <td>...</td>\n",
       "      <td>...</td>\n",
       "      <td>...</td>\n",
       "      <td>...</td>\n",
       "      <td>...</td>\n",
       "      <td>...</td>\n",
       "      <td>...</td>\n",
       "      <td>...</td>\n",
       "      <td>...</td>\n",
       "      <td>...</td>\n",
       "      <td>...</td>\n",
       "      <td>...</td>\n",
       "      <td>...</td>\n",
       "      <td>...</td>\n",
       "      <td>...</td>\n",
       "      <td>...</td>\n",
       "      <td>...</td>\n",
       "      <td>...</td>\n",
       "      <td>...</td>\n",
       "    </tr>\n",
       "    <tr>\n",
       "      <th>6105</th>\n",
       "      <td>18234</td>\n",
       "      <td>80</td>\n",
       "      <td>Female</td>\n",
       "      <td>NaN</td>\n",
       "      <td>NaN</td>\n",
       "      <td>NaN</td>\n",
       "      <td>NaN</td>\n",
       "      <td>NaN</td>\n",
       "      <td>NaN</td>\n",
       "      <td>NaN</td>\n",
       "      <td>...</td>\n",
       "      <td>NaN</td>\n",
       "      <td>1.0</td>\n",
       "      <td>0.0</td>\n",
       "      <td>Yes</td>\n",
       "      <td>Private</td>\n",
       "      <td>Urban</td>\n",
       "      <td>83.75</td>\n",
       "      <td>NaN</td>\n",
       "      <td>never smoked</td>\n",
       "      <td>0.0</td>\n",
       "    </tr>\n",
       "    <tr>\n",
       "      <th>6106</th>\n",
       "      <td>44873</td>\n",
       "      <td>81</td>\n",
       "      <td>Female</td>\n",
       "      <td>NaN</td>\n",
       "      <td>NaN</td>\n",
       "      <td>NaN</td>\n",
       "      <td>NaN</td>\n",
       "      <td>NaN</td>\n",
       "      <td>NaN</td>\n",
       "      <td>NaN</td>\n",
       "      <td>...</td>\n",
       "      <td>NaN</td>\n",
       "      <td>0.0</td>\n",
       "      <td>0.0</td>\n",
       "      <td>Yes</td>\n",
       "      <td>Self-employed</td>\n",
       "      <td>Urban</td>\n",
       "      <td>125.20</td>\n",
       "      <td>40.0</td>\n",
       "      <td>never smoked</td>\n",
       "      <td>0.0</td>\n",
       "    </tr>\n",
       "    <tr>\n",
       "      <th>6107</th>\n",
       "      <td>19723</td>\n",
       "      <td>35</td>\n",
       "      <td>Female</td>\n",
       "      <td>NaN</td>\n",
       "      <td>NaN</td>\n",
       "      <td>NaN</td>\n",
       "      <td>NaN</td>\n",
       "      <td>NaN</td>\n",
       "      <td>NaN</td>\n",
       "      <td>NaN</td>\n",
       "      <td>...</td>\n",
       "      <td>NaN</td>\n",
       "      <td>0.0</td>\n",
       "      <td>0.0</td>\n",
       "      <td>Yes</td>\n",
       "      <td>Self-employed</td>\n",
       "      <td>Rural</td>\n",
       "      <td>82.99</td>\n",
       "      <td>30.6</td>\n",
       "      <td>never smoked</td>\n",
       "      <td>0.0</td>\n",
       "    </tr>\n",
       "    <tr>\n",
       "      <th>6108</th>\n",
       "      <td>37544</td>\n",
       "      <td>51</td>\n",
       "      <td>Male</td>\n",
       "      <td>NaN</td>\n",
       "      <td>NaN</td>\n",
       "      <td>NaN</td>\n",
       "      <td>NaN</td>\n",
       "      <td>NaN</td>\n",
       "      <td>NaN</td>\n",
       "      <td>NaN</td>\n",
       "      <td>...</td>\n",
       "      <td>NaN</td>\n",
       "      <td>0.0</td>\n",
       "      <td>0.0</td>\n",
       "      <td>Yes</td>\n",
       "      <td>Private</td>\n",
       "      <td>Rural</td>\n",
       "      <td>166.29</td>\n",
       "      <td>25.6</td>\n",
       "      <td>formerly smoked</td>\n",
       "      <td>0.0</td>\n",
       "    </tr>\n",
       "    <tr>\n",
       "      <th>6109</th>\n",
       "      <td>44679</td>\n",
       "      <td>44</td>\n",
       "      <td>Female</td>\n",
       "      <td>NaN</td>\n",
       "      <td>NaN</td>\n",
       "      <td>NaN</td>\n",
       "      <td>NaN</td>\n",
       "      <td>NaN</td>\n",
       "      <td>NaN</td>\n",
       "      <td>NaN</td>\n",
       "      <td>...</td>\n",
       "      <td>NaN</td>\n",
       "      <td>0.0</td>\n",
       "      <td>0.0</td>\n",
       "      <td>Yes</td>\n",
       "      <td>Govt_job</td>\n",
       "      <td>Urban</td>\n",
       "      <td>85.28</td>\n",
       "      <td>26.2</td>\n",
       "      <td>Unknown</td>\n",
       "      <td>0.0</td>\n",
       "    </tr>\n",
       "  </tbody>\n",
       "</table>\n",
       "<p>6110 rows × 25 columns</p>\n",
       "</div>"
      ],
      "text/plain": [
       "      patientid  age  gender  chestpain  resting_blood_pressure  \\\n",
       "0        103368   53       1        2.0                   171.0   \n",
       "1        119250   40       1        0.0                    94.0   \n",
       "2        119372   49       1        2.0                   133.0   \n",
       "3        132514   43       1        0.0                   138.0   \n",
       "4        146211   31       1        1.0                   199.0   \n",
       "...         ...  ...     ...        ...                     ...   \n",
       "6105      18234   80  Female        NaN                     NaN   \n",
       "6106      44873   81  Female        NaN                     NaN   \n",
       "6107      19723   35  Female        NaN                     NaN   \n",
       "6108      37544   51    Male        NaN                     NaN   \n",
       "6109      44679   44  Female        NaN                     NaN   \n",
       "\n",
       "      serumcholestrol  fastingbloodsugar  restingrelectro  maxheartrate  \\\n",
       "0                 0.0                0.0              1.0         147.0   \n",
       "1               229.0                0.0              1.0         115.0   \n",
       "2               142.0                0.0              0.0         202.0   \n",
       "3               295.0                1.0              1.0         153.0   \n",
       "4                 0.0                0.0              2.0         136.0   \n",
       "...               ...                ...              ...           ...   \n",
       "6105              NaN                NaN              NaN           NaN   \n",
       "6106              NaN                NaN              NaN           NaN   \n",
       "6107              NaN                NaN              NaN           NaN   \n",
       "6108              NaN                NaN              NaN           NaN   \n",
       "6109              NaN                NaN              NaN           NaN   \n",
       "\n",
       "      exerciseangia  ...      Origins  hypertension  heart_disease  \\\n",
       "0               0.0  ...  Switzerland           NaN            NaN   \n",
       "1               0.0  ...        Japan           NaN            NaN   \n",
       "2               1.0  ...  South Korea           NaN            NaN   \n",
       "3               0.0  ...  South Korea           NaN            NaN   \n",
       "4               0.0  ...        Italy           NaN            NaN   \n",
       "...             ...  ...          ...           ...            ...   \n",
       "6105            NaN  ...          NaN           1.0            0.0   \n",
       "6106            NaN  ...          NaN           0.0            0.0   \n",
       "6107            NaN  ...          NaN           0.0            0.0   \n",
       "6108            NaN  ...          NaN           0.0            0.0   \n",
       "6109            NaN  ...          NaN           0.0            0.0   \n",
       "\n",
       "     ever_married      work_type Residence_type  avg_glucose_level   bmi  \\\n",
       "0             NaN            NaN            NaN                NaN   NaN   \n",
       "1             NaN            NaN            NaN                NaN   NaN   \n",
       "2             NaN            NaN            NaN                NaN   NaN   \n",
       "3             NaN            NaN            NaN                NaN   NaN   \n",
       "4             NaN            NaN            NaN                NaN   NaN   \n",
       "...           ...            ...            ...                ...   ...   \n",
       "6105          Yes        Private          Urban              83.75   NaN   \n",
       "6106          Yes  Self-employed          Urban             125.20  40.0   \n",
       "6107          Yes  Self-employed          Rural              82.99  30.6   \n",
       "6108          Yes        Private          Rural             166.29  25.6   \n",
       "6109          Yes       Govt_job          Urban              85.28  26.2   \n",
       "\n",
       "       smoking_status stroke  \n",
       "0                 NaN    NaN  \n",
       "1                 NaN    NaN  \n",
       "2                 NaN    NaN  \n",
       "3                 NaN    NaN  \n",
       "4                 NaN    NaN  \n",
       "...               ...    ...  \n",
       "6105     never smoked    0.0  \n",
       "6106     never smoked    0.0  \n",
       "6107     never smoked    0.0  \n",
       "6108  formerly smoked    0.0  \n",
       "6109          Unknown    0.0  \n",
       "\n",
       "[6110 rows x 25 columns]"
      ]
     },
     "execution_count": 32,
     "metadata": {},
     "output_type": "execute_result"
    }
   ],
   "source": [
    "concatenated_df = pd.concat([df, df2])\n",
    "\n",
    "concatenated_df = pd.concat([df, df2], ignore_index=True)\n",
    "concatenated_df\n"
   ]
  },
  {
   "cell_type": "code",
   "execution_count": 33,
   "id": "8d019d89",
   "metadata": {
    "execution": {
     "iopub.execute_input": "2024-02-26T19:26:09.487693Z",
     "iopub.status.busy": "2024-02-26T19:26:09.487163Z",
     "iopub.status.idle": "2024-02-26T19:26:09.495859Z",
     "shell.execute_reply": "2024-02-26T19:26:09.494720Z"
    },
    "papermill": {
     "duration": 0.049779,
     "end_time": "2024-02-26T19:26:09.498507",
     "exception": false,
     "start_time": "2024-02-26T19:26:09.448728",
     "status": "completed"
    },
    "tags": []
   },
   "outputs": [
    {
     "data": {
      "text/plain": [
       "['patientid',\n",
       " 'age',\n",
       " 'gender',\n",
       " 'chestpain',\n",
       " 'resting_blood_pressure',\n",
       " 'serumcholestrol',\n",
       " 'fastingbloodsugar',\n",
       " 'restingrelectro',\n",
       " 'maxheartrate',\n",
       " 'exerciseangia',\n",
       " 'oldpeak',\n",
       " 'slope',\n",
       " 'noofmajorvessels',\n",
       " 'target',\n",
       " 'gender_transform',\n",
       " 'Origins',\n",
       " 'hypertension',\n",
       " 'heart_disease',\n",
       " 'ever_married',\n",
       " 'work_type',\n",
       " 'Residence_type',\n",
       " 'avg_glucose_level',\n",
       " 'bmi',\n",
       " 'smoking_status',\n",
       " 'stroke']"
      ]
     },
     "execution_count": 33,
     "metadata": {},
     "output_type": "execute_result"
    }
   ],
   "source": [
    "concatenated_df.columns.tolist()"
   ]
  },
  {
   "cell_type": "code",
   "execution_count": 34,
   "id": "695ba111",
   "metadata": {
    "execution": {
     "iopub.execute_input": "2024-02-26T19:26:09.573979Z",
     "iopub.status.busy": "2024-02-26T19:26:09.573419Z",
     "iopub.status.idle": "2024-02-26T19:26:10.858514Z",
     "shell.execute_reply": "2024-02-26T19:26:10.857141Z"
    },
    "papermill": {
     "duration": 1.326662,
     "end_time": "2024-02-26T19:26:10.861499",
     "exception": false,
     "start_time": "2024-02-26T19:26:09.534837",
     "status": "completed"
    },
    "tags": []
   },
   "outputs": [
    {
     "data": {
      "text/plain": [
       "['patientid_x',\n",
       " 'age_x',\n",
       " 'gender_x',\n",
       " 'chestpain',\n",
       " 'resting_blood_pressure',\n",
       " 'serumcholestrol',\n",
       " 'fastingbloodsugar',\n",
       " 'restingrelectro',\n",
       " 'maxheartrate',\n",
       " 'exerciseangia',\n",
       " 'oldpeak',\n",
       " 'slope',\n",
       " 'noofmajorvessels',\n",
       " 'target',\n",
       " 'gender_transform',\n",
       " 'Origins',\n",
       " 'patientid_y',\n",
       " 'gender_y',\n",
       " 'age_y',\n",
       " 'hypertension',\n",
       " 'heart_disease',\n",
       " 'ever_married',\n",
       " 'work_type',\n",
       " 'Residence_type',\n",
       " 'avg_glucose_level',\n",
       " 'bmi',\n",
       " 'smoking_status',\n",
       " 'stroke']"
      ]
     },
     "execution_count": 34,
     "metadata": {},
     "output_type": "execute_result"
    }
   ],
   "source": [
    "merged_df = pd.merge(df, df2, how='inner', on=['gender_transform'])\n",
    "merged_df.columns.tolist()\n"
   ]
  },
  {
   "cell_type": "code",
   "execution_count": 35,
   "id": "567a7549",
   "metadata": {
    "execution": {
     "iopub.execute_input": "2024-02-26T19:26:10.939408Z",
     "iopub.status.busy": "2024-02-26T19:26:10.938915Z",
     "iopub.status.idle": "2024-02-26T19:26:11.139207Z",
     "shell.execute_reply": "2024-02-26T19:26:11.138065Z"
    },
    "papermill": {
     "duration": 0.244644,
     "end_time": "2024-02-26T19:26:11.144654",
     "exception": false,
     "start_time": "2024-02-26T19:26:10.900010",
     "status": "completed"
    },
    "tags": []
   },
   "outputs": [
    {
     "name": "stdout",
     "output_type": "stream",
     "text": [
      "<class 'pandas.core.frame.DataFrame'>\n",
      "RangeIndex: 65774 entries, 0 to 65773\n",
      "Data columns (total 28 columns):\n",
      " #   Column                  Non-Null Count  Dtype  \n",
      "---  ------                  --------------  -----  \n",
      " 0   patientid_x             65774 non-null  int64  \n",
      " 1   age                     65774 non-null  int64  \n",
      " 2   gender_x                65774 non-null  int64  \n",
      " 3   chestpain               65774 non-null  int64  \n",
      " 4   resting_blood_pressure  65774 non-null  int64  \n",
      " 5   serumcholestrol         65774 non-null  int64  \n",
      " 6   fastingbloodsugar       65774 non-null  int64  \n",
      " 7   restingrelectro         65774 non-null  int64  \n",
      " 8   maxheartrate            65774 non-null  int64  \n",
      " 9   exerciseangia           65774 non-null  int64  \n",
      " 10  oldpeak                 65774 non-null  float64\n",
      " 11  slope                   65774 non-null  int64  \n",
      " 12  noofmajorvessels        65774 non-null  int64  \n",
      " 13  target                  65774 non-null  object \n",
      " 14  gender_transform_x      65774 non-null  object \n",
      " 15  Origins                 65774 non-null  object \n",
      " 16  patientid_y             65774 non-null  int64  \n",
      " 17  gender_y                65774 non-null  object \n",
      " 18  hypertension            65774 non-null  int64  \n",
      " 19  heart_disease           65774 non-null  int64  \n",
      " 20  ever_married            65774 non-null  object \n",
      " 21  work_type               65774 non-null  object \n",
      " 22  Residence_type          65774 non-null  object \n",
      " 23  avg_glucose_level       65774 non-null  float64\n",
      " 24  bmi                     62838 non-null  float64\n",
      " 25  smoking_status          65774 non-null  object \n",
      " 26  stroke                  65774 non-null  int64  \n",
      " 27  gender_transform_y      65774 non-null  object \n",
      "dtypes: float64(3), int64(16), object(9)\n",
      "memory usage: 14.1+ MB\n"
     ]
    }
   ],
   "source": [
    "merged_df = pd.merge(df, df2, how='inner', on=['age'])\n",
    "merged_df.info()"
   ]
  },
  {
   "cell_type": "code",
   "execution_count": 36,
   "id": "e575e337",
   "metadata": {
    "execution": {
     "iopub.execute_input": "2024-02-26T19:26:11.237603Z",
     "iopub.status.busy": "2024-02-26T19:26:11.236104Z",
     "iopub.status.idle": "2024-02-26T19:26:11.287660Z",
     "shell.execute_reply": "2024-02-26T19:26:11.286259Z"
    },
    "papermill": {
     "duration": 0.095636,
     "end_time": "2024-02-26T19:26:11.290815",
     "exception": false,
     "start_time": "2024-02-26T19:26:11.195179",
     "status": "completed"
    },
    "tags": []
   },
   "outputs": [
    {
     "data": {
      "text/html": [
       "<div>\n",
       "<style scoped>\n",
       "    .dataframe tbody tr th:only-of-type {\n",
       "        vertical-align: middle;\n",
       "    }\n",
       "\n",
       "    .dataframe tbody tr th {\n",
       "        vertical-align: top;\n",
       "    }\n",
       "\n",
       "    .dataframe thead th {\n",
       "        text-align: right;\n",
       "    }\n",
       "</style>\n",
       "<table border=\"1\" class=\"dataframe\">\n",
       "  <thead>\n",
       "    <tr style=\"text-align: right;\">\n",
       "      <th></th>\n",
       "      <th>patientid_df1</th>\n",
       "      <th>gender_df1</th>\n",
       "      <th>chestpain</th>\n",
       "      <th>resting_blood_pressure</th>\n",
       "      <th>serumcholestrol</th>\n",
       "      <th>fastingbloodsugar</th>\n",
       "      <th>restingrelectro</th>\n",
       "      <th>maxheartrate</th>\n",
       "      <th>exerciseangia</th>\n",
       "      <th>oldpeak</th>\n",
       "      <th>...</th>\n",
       "      <th>ever_married</th>\n",
       "      <th>work_type</th>\n",
       "      <th>Residence_type</th>\n",
       "      <th>avg_glucose_level</th>\n",
       "      <th>bmi</th>\n",
       "      <th>smoking_status</th>\n",
       "      <th>stroke</th>\n",
       "      <th>merged_gender_transform</th>\n",
       "      <th>merged_age</th>\n",
       "      <th>merged_patientid</th>\n",
       "    </tr>\n",
       "  </thead>\n",
       "  <tbody>\n",
       "    <tr>\n",
       "      <th>0</th>\n",
       "      <td>103368</td>\n",
       "      <td>1</td>\n",
       "      <td>2</td>\n",
       "      <td>171</td>\n",
       "      <td>0</td>\n",
       "      <td>0</td>\n",
       "      <td>1</td>\n",
       "      <td>147</td>\n",
       "      <td>0</td>\n",
       "      <td>5.3</td>\n",
       "      <td>...</td>\n",
       "      <td>Yes</td>\n",
       "      <td>Private</td>\n",
       "      <td>Urban</td>\n",
       "      <td>228.69</td>\n",
       "      <td>36.6</td>\n",
       "      <td>formerly smoked</td>\n",
       "      <td>1</td>\n",
       "      <td>Hombre</td>\n",
       "      <td>53</td>\n",
       "      <td>103368</td>\n",
       "    </tr>\n",
       "    <tr>\n",
       "      <th>1</th>\n",
       "      <td>119250</td>\n",
       "      <td>1</td>\n",
       "      <td>0</td>\n",
       "      <td>94</td>\n",
       "      <td>229</td>\n",
       "      <td>0</td>\n",
       "      <td>1</td>\n",
       "      <td>115</td>\n",
       "      <td>0</td>\n",
       "      <td>3.7</td>\n",
       "      <td>...</td>\n",
       "      <td>Yes</td>\n",
       "      <td>Self-employed</td>\n",
       "      <td>Rural</td>\n",
       "      <td>202.21</td>\n",
       "      <td>NaN</td>\n",
       "      <td>never smoked</td>\n",
       "      <td>1</td>\n",
       "      <td>Hombre</td>\n",
       "      <td>40</td>\n",
       "      <td>119250</td>\n",
       "    </tr>\n",
       "    <tr>\n",
       "      <th>2</th>\n",
       "      <td>119372</td>\n",
       "      <td>1</td>\n",
       "      <td>2</td>\n",
       "      <td>133</td>\n",
       "      <td>142</td>\n",
       "      <td>0</td>\n",
       "      <td>0</td>\n",
       "      <td>202</td>\n",
       "      <td>1</td>\n",
       "      <td>5.0</td>\n",
       "      <td>...</td>\n",
       "      <td>Yes</td>\n",
       "      <td>Private</td>\n",
       "      <td>Rural</td>\n",
       "      <td>105.92</td>\n",
       "      <td>32.5</td>\n",
       "      <td>never smoked</td>\n",
       "      <td>1</td>\n",
       "      <td>Hombre</td>\n",
       "      <td>49</td>\n",
       "      <td>119372</td>\n",
       "    </tr>\n",
       "    <tr>\n",
       "      <th>3</th>\n",
       "      <td>132514</td>\n",
       "      <td>1</td>\n",
       "      <td>0</td>\n",
       "      <td>138</td>\n",
       "      <td>295</td>\n",
       "      <td>1</td>\n",
       "      <td>1</td>\n",
       "      <td>153</td>\n",
       "      <td>0</td>\n",
       "      <td>3.2</td>\n",
       "      <td>...</td>\n",
       "      <td>Yes</td>\n",
       "      <td>Private</td>\n",
       "      <td>Urban</td>\n",
       "      <td>171.23</td>\n",
       "      <td>34.4</td>\n",
       "      <td>smokes</td>\n",
       "      <td>1</td>\n",
       "      <td>Hombre</td>\n",
       "      <td>43</td>\n",
       "      <td>132514</td>\n",
       "    </tr>\n",
       "    <tr>\n",
       "      <th>4</th>\n",
       "      <td>146211</td>\n",
       "      <td>1</td>\n",
       "      <td>1</td>\n",
       "      <td>199</td>\n",
       "      <td>0</td>\n",
       "      <td>0</td>\n",
       "      <td>2</td>\n",
       "      <td>136</td>\n",
       "      <td>0</td>\n",
       "      <td>5.3</td>\n",
       "      <td>...</td>\n",
       "      <td>Yes</td>\n",
       "      <td>Self-employed</td>\n",
       "      <td>Rural</td>\n",
       "      <td>174.12</td>\n",
       "      <td>24.0</td>\n",
       "      <td>never smoked</td>\n",
       "      <td>1</td>\n",
       "      <td>Hombre</td>\n",
       "      <td>31</td>\n",
       "      <td>146211</td>\n",
       "    </tr>\n",
       "    <tr>\n",
       "      <th>...</th>\n",
       "      <td>...</td>\n",
       "      <td>...</td>\n",
       "      <td>...</td>\n",
       "      <td>...</td>\n",
       "      <td>...</td>\n",
       "      <td>...</td>\n",
       "      <td>...</td>\n",
       "      <td>...</td>\n",
       "      <td>...</td>\n",
       "      <td>...</td>\n",
       "      <td>...</td>\n",
       "      <td>...</td>\n",
       "      <td>...</td>\n",
       "      <td>...</td>\n",
       "      <td>...</td>\n",
       "      <td>...</td>\n",
       "      <td>...</td>\n",
       "      <td>...</td>\n",
       "      <td>...</td>\n",
       "      <td>...</td>\n",
       "      <td>...</td>\n",
       "    </tr>\n",
       "    <tr>\n",
       "      <th>995</th>\n",
       "      <td>9949544</td>\n",
       "      <td>1</td>\n",
       "      <td>2</td>\n",
       "      <td>139</td>\n",
       "      <td>349</td>\n",
       "      <td>0</td>\n",
       "      <td>2</td>\n",
       "      <td>183</td>\n",
       "      <td>1</td>\n",
       "      <td>5.6</td>\n",
       "      <td>...</td>\n",
       "      <td>No</td>\n",
       "      <td>children</td>\n",
       "      <td>Urban</td>\n",
       "      <td>90.51</td>\n",
       "      <td>18.9</td>\n",
       "      <td>Unknown</td>\n",
       "      <td>0</td>\n",
       "      <td>Hombre</td>\n",
       "      <td>48</td>\n",
       "      <td>9949544</td>\n",
       "    </tr>\n",
       "    <tr>\n",
       "      <th>996</th>\n",
       "      <td>9953423</td>\n",
       "      <td>1</td>\n",
       "      <td>3</td>\n",
       "      <td>143</td>\n",
       "      <td>258</td>\n",
       "      <td>1</td>\n",
       "      <td>1</td>\n",
       "      <td>98</td>\n",
       "      <td>1</td>\n",
       "      <td>5.7</td>\n",
       "      <td>...</td>\n",
       "      <td>No</td>\n",
       "      <td>children</td>\n",
       "      <td>Rural</td>\n",
       "      <td>118.87</td>\n",
       "      <td>16.3</td>\n",
       "      <td>Unknown</td>\n",
       "      <td>0</td>\n",
       "      <td>Hombre</td>\n",
       "      <td>47</td>\n",
       "      <td>9953423</td>\n",
       "    </tr>\n",
       "    <tr>\n",
       "      <th>997</th>\n",
       "      <td>9965859</td>\n",
       "      <td>1</td>\n",
       "      <td>0</td>\n",
       "      <td>156</td>\n",
       "      <td>434</td>\n",
       "      <td>1</td>\n",
       "      <td>0</td>\n",
       "      <td>196</td>\n",
       "      <td>0</td>\n",
       "      <td>1.4</td>\n",
       "      <td>...</td>\n",
       "      <td>Yes</td>\n",
       "      <td>Private</td>\n",
       "      <td>Rural</td>\n",
       "      <td>56.42</td>\n",
       "      <td>31.8</td>\n",
       "      <td>never smoked</td>\n",
       "      <td>0</td>\n",
       "      <td>Hombre</td>\n",
       "      <td>69</td>\n",
       "      <td>9965859</td>\n",
       "    </tr>\n",
       "    <tr>\n",
       "      <th>998</th>\n",
       "      <td>9988507</td>\n",
       "      <td>1</td>\n",
       "      <td>1</td>\n",
       "      <td>186</td>\n",
       "      <td>417</td>\n",
       "      <td>0</td>\n",
       "      <td>1</td>\n",
       "      <td>117</td>\n",
       "      <td>1</td>\n",
       "      <td>5.9</td>\n",
       "      <td>...</td>\n",
       "      <td>No</td>\n",
       "      <td>Private</td>\n",
       "      <td>Urban</td>\n",
       "      <td>73.67</td>\n",
       "      <td>21.0</td>\n",
       "      <td>Unknown</td>\n",
       "      <td>0</td>\n",
       "      <td>Hombre</td>\n",
       "      <td>45</td>\n",
       "      <td>9988507</td>\n",
       "    </tr>\n",
       "    <tr>\n",
       "      <th>999</th>\n",
       "      <td>9990855</td>\n",
       "      <td>1</td>\n",
       "      <td>0</td>\n",
       "      <td>158</td>\n",
       "      <td>270</td>\n",
       "      <td>0</td>\n",
       "      <td>0</td>\n",
       "      <td>143</td>\n",
       "      <td>1</td>\n",
       "      <td>4.7</td>\n",
       "      <td>...</td>\n",
       "      <td>No</td>\n",
       "      <td>children</td>\n",
       "      <td>Rural</td>\n",
       "      <td>89.11</td>\n",
       "      <td>20.1</td>\n",
       "      <td>Unknown</td>\n",
       "      <td>0</td>\n",
       "      <td>Hombre</td>\n",
       "      <td>25</td>\n",
       "      <td>9990855</td>\n",
       "    </tr>\n",
       "  </tbody>\n",
       "</table>\n",
       "<p>1000 rows × 28 columns</p>\n",
       "</div>"
      ],
      "text/plain": [
       "     patientid_df1  gender_df1  chestpain  resting_blood_pressure  \\\n",
       "0           103368           1          2                     171   \n",
       "1           119250           1          0                      94   \n",
       "2           119372           1          2                     133   \n",
       "3           132514           1          0                     138   \n",
       "4           146211           1          1                     199   \n",
       "..             ...         ...        ...                     ...   \n",
       "995        9949544           1          2                     139   \n",
       "996        9953423           1          3                     143   \n",
       "997        9965859           1          0                     156   \n",
       "998        9988507           1          1                     186   \n",
       "999        9990855           1          0                     158   \n",
       "\n",
       "     serumcholestrol  fastingbloodsugar  restingrelectro  maxheartrate  \\\n",
       "0                  0                  0                1           147   \n",
       "1                229                  0                1           115   \n",
       "2                142                  0                0           202   \n",
       "3                295                  1                1           153   \n",
       "4                  0                  0                2           136   \n",
       "..               ...                ...              ...           ...   \n",
       "995              349                  0                2           183   \n",
       "996              258                  1                1            98   \n",
       "997              434                  1                0           196   \n",
       "998              417                  0                1           117   \n",
       "999              270                  0                0           143   \n",
       "\n",
       "     exerciseangia  oldpeak  ...  ever_married      work_type Residence_type  \\\n",
       "0                0      5.3  ...           Yes        Private          Urban   \n",
       "1                0      3.7  ...           Yes  Self-employed          Rural   \n",
       "2                1      5.0  ...           Yes        Private          Rural   \n",
       "3                0      3.2  ...           Yes        Private          Urban   \n",
       "4                0      5.3  ...           Yes  Self-employed          Rural   \n",
       "..             ...      ...  ...           ...            ...            ...   \n",
       "995              1      5.6  ...            No       children          Urban   \n",
       "996              1      5.7  ...            No       children          Rural   \n",
       "997              0      1.4  ...           Yes        Private          Rural   \n",
       "998              1      5.9  ...            No        Private          Urban   \n",
       "999              1      4.7  ...            No       children          Rural   \n",
       "\n",
       "    avg_glucose_level   bmi   smoking_status  stroke  merged_gender_transform  \\\n",
       "0              228.69  36.6  formerly smoked       1                   Hombre   \n",
       "1              202.21   NaN     never smoked       1                   Hombre   \n",
       "2              105.92  32.5     never smoked       1                   Hombre   \n",
       "3              171.23  34.4           smokes       1                   Hombre   \n",
       "4              174.12  24.0     never smoked       1                   Hombre   \n",
       "..                ...   ...              ...     ...                      ...   \n",
       "995             90.51  18.9          Unknown       0                   Hombre   \n",
       "996            118.87  16.3          Unknown       0                   Hombre   \n",
       "997             56.42  31.8     never smoked       0                   Hombre   \n",
       "998             73.67  21.0          Unknown       0                   Hombre   \n",
       "999             89.11  20.1          Unknown       0                   Hombre   \n",
       "\n",
       "    merged_age merged_patientid  \n",
       "0           53           103368  \n",
       "1           40           119250  \n",
       "2           49           119372  \n",
       "3           43           132514  \n",
       "4           31           146211  \n",
       "..         ...              ...  \n",
       "995         48          9949544  \n",
       "996         47          9953423  \n",
       "997         69          9965859  \n",
       "998         45          9988507  \n",
       "999         25          9990855  \n",
       "\n",
       "[1000 rows x 28 columns]"
      ]
     },
     "execution_count": 36,
     "metadata": {},
     "output_type": "execute_result"
    }
   ],
   "source": [
    "# Merging the DataFrames 'df' and 'df2' on the index\n",
    "merged_df = pd.merge(df, df2, how='inner', left_index=True, right_index=True, suffixes=('_df1', '_df2'))\n",
    "\n",
    "# Creating a new column 'merged_gender_transform' by combining 'gender_transform' columns\n",
    "merged_df['merged_gender_transform'] = merged_df['gender_transform_df1'].combine_first(merged_df['gender_transform_df2'])\n",
    "\n",
    "# Creating a new column 'merged_age' by combining 'age' columns\n",
    "merged_df['merged_age'] = merged_df['age_df1'].combine_first(merged_df['age_df2'])\n",
    "merged_df['merged_patientid'] = merged_df['patientid_df1'].combine_first(merged_df['patientid_df2'])\n",
    "\n",
    "# Dropping the original columns after merging\n",
    "merged_df = merged_df.drop(['gender_transform_df1', 'gender_transform_df2', 'age_df1', 'age_df2'], axis=1)\n",
    "merged_df"
   ]
  },
  {
   "cell_type": "code",
   "execution_count": 37,
   "id": "935f73cb",
   "metadata": {
    "execution": {
     "iopub.execute_input": "2024-02-26T19:26:11.372830Z",
     "iopub.status.busy": "2024-02-26T19:26:11.371934Z",
     "iopub.status.idle": "2024-02-26T19:26:11.380324Z",
     "shell.execute_reply": "2024-02-26T19:26:11.378841Z"
    },
    "papermill": {
     "duration": 0.050514,
     "end_time": "2024-02-26T19:26:11.383136",
     "exception": false,
     "start_time": "2024-02-26T19:26:11.332622",
     "status": "completed"
    },
    "tags": []
   },
   "outputs": [
    {
     "data": {
      "text/plain": [
       "' \"1000 rows × 17 columns\\n5110 rows × 14 columns\\nPossible relations between the two dataframes:\\n\\nSmoking status and target and gender transform (people who smoke are more likely to have heart diseases, and most of them are males).\\nResidence type and origins and ever-marriage (we can predict which country has patients with the most cardio problems and relate it to their status (working or jobless, single or taken, urban or rural, and the origins)).\\nFasting blood sugar and avg_glucose_level (we can create a new dataframe called diabetes and new functions to relate them).\" '"
      ]
     },
     "execution_count": 37,
     "metadata": {},
     "output_type": "execute_result"
    }
   ],
   "source": [
    "\n",
    "\"\"\" \"1000 rows × 17 columns\n",
    "5110 rows × 14 columns\n",
    "Possible relations between the two dataframes:\n",
    "\n",
    "Smoking status and target and gender transform (people who smoke are more likely to have heart diseases, and most of them are males).\n",
    "Residence type and origins and ever-marriage (we can predict which country has patients with the most cardio problems and relate it to their status (working or jobless, single or taken, urban or rural, and the origins)).\n",
    "Fasting blood sugar and avg_glucose_level (we can create a new dataframe called diabetes and new functions to relate them).\" \"\"\""
   ]
  },
  {
   "cell_type": "markdown",
   "id": "2e118ca8",
   "metadata": {
    "papermill": {
     "duration": 0.037947,
     "end_time": "2024-02-26T19:26:11.458640",
     "exception": false,
     "start_time": "2024-02-26T19:26:11.420693",
     "status": "completed"
    },
    "tags": []
   },
   "source": [
    " <div style=\"border-radius: 10px; border: 2px solid #6A5ACD; padding: 15px; background-color: #87CEEB; font-size: 100%; text-align: left;\">\n",
    "    <font size=\"+1\" color=\"#2E8B57\"><b>💞🏥Vamos a crear un nuevo dataFrame llamdo \"Diabetes\" </b></font>\n",
    "\n",
    "**Explication: Analizando las columnas 'avg_glucose_level', 'fastingbloodsugar' provenientes de dos dataframes distintos, podemos prever y visualizar un combo chart que no da la relacion entre ellos**"
   ]
  },
  {
   "cell_type": "code",
   "execution_count": 38,
   "id": "b7613f37",
   "metadata": {
    "execution": {
     "iopub.execute_input": "2024-02-26T19:26:11.536464Z",
     "iopub.status.busy": "2024-02-26T19:26:11.535519Z",
     "iopub.status.idle": "2024-02-26T19:26:11.541383Z",
     "shell.execute_reply": "2024-02-26T19:26:11.540377Z"
    },
    "papermill": {
     "duration": 0.048141,
     "end_time": "2024-02-26T19:26:11.544383",
     "exception": false,
     "start_time": "2024-02-26T19:26:11.496242",
     "status": "completed"
    },
    "tags": []
   },
   "outputs": [],
   "source": [
    "#idea 1 "
   ]
  },
  {
   "cell_type": "code",
   "execution_count": 39,
   "id": "f4fce06f",
   "metadata": {
    "execution": {
     "iopub.execute_input": "2024-02-26T19:26:11.623103Z",
     "iopub.status.busy": "2024-02-26T19:26:11.622288Z",
     "iopub.status.idle": "2024-02-26T19:26:11.638736Z",
     "shell.execute_reply": "2024-02-26T19:26:11.637448Z"
    },
    "papermill": {
     "duration": 0.059041,
     "end_time": "2024-02-26T19:26:11.641684",
     "exception": false,
     "start_time": "2024-02-26T19:26:11.582643",
     "status": "completed"
    },
    "tags": []
   },
   "outputs": [
    {
     "name": "stdout",
     "output_type": "stream",
     "text": [
      "      avg_glucose_level glucose_category\n",
      "0                228.69         Diabetes\n",
      "1                202.21         Diabetes\n",
      "2                105.92      Prediabetes\n",
      "3                171.23         Diabetes\n",
      "4                174.12         Diabetes\n",
      "...                 ...              ...\n",
      "5105              83.75           Normal\n",
      "5106             125.20         Diabetes\n",
      "5107              82.99           Normal\n",
      "5108             166.29         Diabetes\n",
      "5109              85.28           Normal\n",
      "\n",
      "[5110 rows x 2 columns]\n"
     ]
    }
   ],
   "source": [
    "condiciones = [\n",
    "    \n",
    "    (df2['avg_glucose_level'].between(70, 99)),\n",
    "    (df2['avg_glucose_level'].between(100, 125)),\n",
    "    (df2['avg_glucose_level'] >= 125)\n",
    "]\n",
    "\n",
    "labels = ['Normal', 'Prediabetes', 'Diabetes']\n",
    "\n",
    "df2['glucose_category'] = np.select(condiciones,labels, default=\"Pending investigation\")\n",
    "\n",
    "\n",
    "print(df2[['avg_glucose_level', 'glucose_category']])\n",
    "\n",
    "\n"
   ]
  },
  {
   "cell_type": "code",
   "execution_count": 40,
   "id": "39c9bd81",
   "metadata": {
    "execution": {
     "iopub.execute_input": "2024-02-26T19:26:11.720495Z",
     "iopub.status.busy": "2024-02-26T19:26:11.719302Z",
     "iopub.status.idle": "2024-02-26T19:26:11.727482Z",
     "shell.execute_reply": "2024-02-26T19:26:11.726609Z"
    },
    "papermill": {
     "duration": 0.050715,
     "end_time": "2024-02-26T19:26:11.729763",
     "exception": false,
     "start_time": "2024-02-26T19:26:11.679048",
     "status": "completed"
    },
    "tags": []
   },
   "outputs": [
    {
     "data": {
      "text/plain": [
       "['patientid',\n",
       " 'age',\n",
       " 'gender',\n",
       " 'chestpain',\n",
       " 'resting_blood_pressure',\n",
       " 'serumcholestrol',\n",
       " 'fastingbloodsugar',\n",
       " 'restingrelectro',\n",
       " 'maxheartrate',\n",
       " 'exerciseangia',\n",
       " 'oldpeak',\n",
       " 'slope',\n",
       " 'noofmajorvessels',\n",
       " 'target',\n",
       " 'gender_transform',\n",
       " 'Origins']"
      ]
     },
     "execution_count": 40,
     "metadata": {},
     "output_type": "execute_result"
    }
   ],
   "source": [
    "df.columns.tolist()\n"
   ]
  },
  {
   "cell_type": "code",
   "execution_count": 41,
   "id": "a8df324d",
   "metadata": {
    "execution": {
     "iopub.execute_input": "2024-02-26T19:26:11.808631Z",
     "iopub.status.busy": "2024-02-26T19:26:11.807727Z",
     "iopub.status.idle": "2024-02-26T19:26:11.823673Z",
     "shell.execute_reply": "2024-02-26T19:26:11.821757Z"
    },
    "papermill": {
     "duration": 0.05922,
     "end_time": "2024-02-26T19:26:11.826597",
     "exception": false,
     "start_time": "2024-02-26T19:26:11.767377",
     "status": "completed"
    },
    "tags": []
   },
   "outputs": [
    {
     "name": "stdout",
     "output_type": "stream",
     "text": [
      "      fastingbloodsugar  avg_glucose_level glucose_category\n",
      "0                   0.0             228.69         Diabetes\n",
      "1                   0.0             202.21         Diabetes\n",
      "2                   0.0             105.92      Prediabetes\n",
      "3                   1.0             171.23         Diabetes\n",
      "4                   0.0             174.12         Diabetes\n",
      "...                 ...                ...              ...\n",
      "5105                NaN              83.75           Normal\n",
      "5106                NaN             125.20         Diabetes\n",
      "5107                NaN              82.99           Normal\n",
      "5108                NaN             166.29         Diabetes\n",
      "5109                NaN              85.28           Normal\n",
      "\n",
      "[5110 rows x 3 columns]\n"
     ]
    }
   ],
   "source": [
    "diabetes = pd.concat([df['fastingbloodsugar'], df2[['avg_glucose_level', 'glucose_category']]], axis=1)\n",
    "\n",
    "\n",
    "print(diabetes)\n"
   ]
  },
  {
   "cell_type": "code",
   "execution_count": 42,
   "id": "7b1b83d1",
   "metadata": {
    "execution": {
     "iopub.execute_input": "2024-02-26T19:26:11.905099Z",
     "iopub.status.busy": "2024-02-26T19:26:11.904633Z",
     "iopub.status.idle": "2024-02-26T19:26:11.929197Z",
     "shell.execute_reply": "2024-02-26T19:26:11.927907Z"
    },
    "papermill": {
     "duration": 0.066745,
     "end_time": "2024-02-26T19:26:11.931705",
     "exception": false,
     "start_time": "2024-02-26T19:26:11.864960",
     "status": "completed"
    },
    "tags": []
   },
   "outputs": [
    {
     "data": {
      "text/html": [
       "<div>\n",
       "<style scoped>\n",
       "    .dataframe tbody tr th:only-of-type {\n",
       "        vertical-align: middle;\n",
       "    }\n",
       "\n",
       "    .dataframe tbody tr th {\n",
       "        vertical-align: top;\n",
       "    }\n",
       "\n",
       "    .dataframe thead th {\n",
       "        text-align: right;\n",
       "    }\n",
       "</style>\n",
       "<table border=\"1\" class=\"dataframe\">\n",
       "  <thead>\n",
       "    <tr style=\"text-align: right;\">\n",
       "      <th></th>\n",
       "      <th>fastingbloodsugar</th>\n",
       "      <th>avg_glucose_level</th>\n",
       "      <th>glucose_category</th>\n",
       "      <th>fasting_diabetes</th>\n",
       "    </tr>\n",
       "  </thead>\n",
       "  <tbody>\n",
       "    <tr>\n",
       "      <th>0</th>\n",
       "      <td>0.0</td>\n",
       "      <td>228.69</td>\n",
       "      <td>Diabetes</td>\n",
       "      <td>1.0</td>\n",
       "    </tr>\n",
       "    <tr>\n",
       "      <th>1</th>\n",
       "      <td>0.0</td>\n",
       "      <td>202.21</td>\n",
       "      <td>Diabetes</td>\n",
       "      <td>1.0</td>\n",
       "    </tr>\n",
       "    <tr>\n",
       "      <th>2</th>\n",
       "      <td>0.0</td>\n",
       "      <td>105.92</td>\n",
       "      <td>Prediabetes</td>\n",
       "      <td>1.0</td>\n",
       "    </tr>\n",
       "    <tr>\n",
       "      <th>3</th>\n",
       "      <td>1.0</td>\n",
       "      <td>171.23</td>\n",
       "      <td>Diabetes</td>\n",
       "      <td>1.0</td>\n",
       "    </tr>\n",
       "    <tr>\n",
       "      <th>4</th>\n",
       "      <td>0.0</td>\n",
       "      <td>174.12</td>\n",
       "      <td>Diabetes</td>\n",
       "      <td>1.0</td>\n",
       "    </tr>\n",
       "    <tr>\n",
       "      <th>...</th>\n",
       "      <td>...</td>\n",
       "      <td>...</td>\n",
       "      <td>...</td>\n",
       "      <td>...</td>\n",
       "    </tr>\n",
       "    <tr>\n",
       "      <th>5105</th>\n",
       "      <td>NaN</td>\n",
       "      <td>83.75</td>\n",
       "      <td>Normal</td>\n",
       "      <td>0.0</td>\n",
       "    </tr>\n",
       "    <tr>\n",
       "      <th>5106</th>\n",
       "      <td>NaN</td>\n",
       "      <td>125.20</td>\n",
       "      <td>Diabetes</td>\n",
       "      <td>1.0</td>\n",
       "    </tr>\n",
       "    <tr>\n",
       "      <th>5107</th>\n",
       "      <td>NaN</td>\n",
       "      <td>82.99</td>\n",
       "      <td>Normal</td>\n",
       "      <td>0.0</td>\n",
       "    </tr>\n",
       "    <tr>\n",
       "      <th>5108</th>\n",
       "      <td>NaN</td>\n",
       "      <td>166.29</td>\n",
       "      <td>Diabetes</td>\n",
       "      <td>1.0</td>\n",
       "    </tr>\n",
       "    <tr>\n",
       "      <th>5109</th>\n",
       "      <td>NaN</td>\n",
       "      <td>85.28</td>\n",
       "      <td>Normal</td>\n",
       "      <td>0.0</td>\n",
       "    </tr>\n",
       "  </tbody>\n",
       "</table>\n",
       "<p>5110 rows × 4 columns</p>\n",
       "</div>"
      ],
      "text/plain": [
       "      fastingbloodsugar  avg_glucose_level glucose_category  fasting_diabetes\n",
       "0                   0.0             228.69         Diabetes               1.0\n",
       "1                   0.0             202.21         Diabetes               1.0\n",
       "2                   0.0             105.92      Prediabetes               1.0\n",
       "3                   1.0             171.23         Diabetes               1.0\n",
       "4                   0.0             174.12         Diabetes               1.0\n",
       "...                 ...                ...              ...               ...\n",
       "5105                NaN              83.75           Normal               0.0\n",
       "5106                NaN             125.20         Diabetes               1.0\n",
       "5107                NaN              82.99           Normal               0.0\n",
       "5108                NaN             166.29         Diabetes               1.0\n",
       "5109                NaN              85.28           Normal               0.0\n",
       "\n",
       "[5110 rows x 4 columns]"
      ]
     },
     "execution_count": 42,
     "metadata": {},
     "output_type": "execute_result"
    }
   ],
   "source": [
    "\n",
    "#acording to the first dataframe we know that 0,1 > 120 mg/dl , 0 it means the fasting blood sugar level is below 120 mg/dL.\n",
    "#If the value is 1 (true), it means the fasting blood sugar level is equal to or above 120 mg/dL. \n",
    "#(0 = false , 1 = true) \n",
    "\n",
    "def fasting_diabetes_condition(category):\n",
    "    if category in ['Diabetes', 'Prediabetes']:\n",
    "        return 1.0\n",
    "    else:\n",
    "        return 0.0\n",
    "\n",
    "diabetes['fasting_diabetes'] = diabetes['glucose_category'].apply(fasting_diabetes_condition)\n",
    "diabetes"
   ]
  },
  {
   "cell_type": "code",
   "execution_count": 43,
   "id": "d8833a76",
   "metadata": {
    "execution": {
     "iopub.execute_input": "2024-02-26T19:26:12.012757Z",
     "iopub.status.busy": "2024-02-26T19:26:12.011366Z",
     "iopub.status.idle": "2024-02-26T19:26:12.030493Z",
     "shell.execute_reply": "2024-02-26T19:26:12.029085Z"
    },
    "papermill": {
     "duration": 0.062595,
     "end_time": "2024-02-26T19:26:12.033357",
     "exception": false,
     "start_time": "2024-02-26T19:26:11.970762",
     "status": "completed"
    },
    "tags": []
   },
   "outputs": [
    {
     "data": {
      "text/html": [
       "<div>\n",
       "<style scoped>\n",
       "    .dataframe tbody tr th:only-of-type {\n",
       "        vertical-align: middle;\n",
       "    }\n",
       "\n",
       "    .dataframe tbody tr th {\n",
       "        vertical-align: top;\n",
       "    }\n",
       "\n",
       "    .dataframe thead th {\n",
       "        text-align: right;\n",
       "    }\n",
       "</style>\n",
       "<table border=\"1\" class=\"dataframe\">\n",
       "  <thead>\n",
       "    <tr style=\"text-align: right;\">\n",
       "      <th></th>\n",
       "      <th>avg_glucose_level</th>\n",
       "      <th>glucose_category</th>\n",
       "      <th>fasting_diabetes</th>\n",
       "    </tr>\n",
       "  </thead>\n",
       "  <tbody>\n",
       "    <tr>\n",
       "      <th>0</th>\n",
       "      <td>228.69</td>\n",
       "      <td>Diabetes</td>\n",
       "      <td>1.0</td>\n",
       "    </tr>\n",
       "    <tr>\n",
       "      <th>1</th>\n",
       "      <td>202.21</td>\n",
       "      <td>Diabetes</td>\n",
       "      <td>1.0</td>\n",
       "    </tr>\n",
       "    <tr>\n",
       "      <th>2</th>\n",
       "      <td>105.92</td>\n",
       "      <td>Prediabetes</td>\n",
       "      <td>1.0</td>\n",
       "    </tr>\n",
       "    <tr>\n",
       "      <th>3</th>\n",
       "      <td>171.23</td>\n",
       "      <td>Diabetes</td>\n",
       "      <td>1.0</td>\n",
       "    </tr>\n",
       "    <tr>\n",
       "      <th>4</th>\n",
       "      <td>174.12</td>\n",
       "      <td>Diabetes</td>\n",
       "      <td>1.0</td>\n",
       "    </tr>\n",
       "    <tr>\n",
       "      <th>...</th>\n",
       "      <td>...</td>\n",
       "      <td>...</td>\n",
       "      <td>...</td>\n",
       "    </tr>\n",
       "    <tr>\n",
       "      <th>5105</th>\n",
       "      <td>83.75</td>\n",
       "      <td>Normal</td>\n",
       "      <td>0.0</td>\n",
       "    </tr>\n",
       "    <tr>\n",
       "      <th>5106</th>\n",
       "      <td>125.20</td>\n",
       "      <td>Diabetes</td>\n",
       "      <td>1.0</td>\n",
       "    </tr>\n",
       "    <tr>\n",
       "      <th>5107</th>\n",
       "      <td>82.99</td>\n",
       "      <td>Normal</td>\n",
       "      <td>0.0</td>\n",
       "    </tr>\n",
       "    <tr>\n",
       "      <th>5108</th>\n",
       "      <td>166.29</td>\n",
       "      <td>Diabetes</td>\n",
       "      <td>1.0</td>\n",
       "    </tr>\n",
       "    <tr>\n",
       "      <th>5109</th>\n",
       "      <td>85.28</td>\n",
       "      <td>Normal</td>\n",
       "      <td>0.0</td>\n",
       "    </tr>\n",
       "  </tbody>\n",
       "</table>\n",
       "<p>5110 rows × 3 columns</p>\n",
       "</div>"
      ],
      "text/plain": [
       "      avg_glucose_level glucose_category  fasting_diabetes\n",
       "0                228.69         Diabetes               1.0\n",
       "1                202.21         Diabetes               1.0\n",
       "2                105.92      Prediabetes               1.0\n",
       "3                171.23         Diabetes               1.0\n",
       "4                174.12         Diabetes               1.0\n",
       "...                 ...              ...               ...\n",
       "5105              83.75           Normal               0.0\n",
       "5106             125.20         Diabetes               1.0\n",
       "5107              82.99           Normal               0.0\n",
       "5108             166.29         Diabetes               1.0\n",
       "5109              85.28           Normal               0.0\n",
       "\n",
       "[5110 rows x 3 columns]"
      ]
     },
     "execution_count": 43,
     "metadata": {},
     "output_type": "execute_result"
    }
   ],
   "source": [
    "#i want to drop the column who has Nan  \n",
    "diabetes.drop('fastingbloodsugar',axis=1, inplace=True)\n",
    "diabetes\n"
   ]
  },
  {
   "cell_type": "markdown",
   "id": "a2706df7",
   "metadata": {
    "papermill": {
     "duration": 0.038789,
     "end_time": "2024-02-26T19:26:12.110885",
     "exception": false,
     "start_time": "2024-02-26T19:26:12.072096",
     "status": "completed"
    },
    "tags": []
   },
   "source": [
    "<div style=\"border-radius: 10px; border: 2px solid #6A5ACD; padding: 15px; background-color: #87CEEB; font-size: 100%; text-align: left;\">\n",
    "    <font size=\"+1\" color=\"#2E8B57\"><b>💞🏥Vamos a crear un nuevo dataFrame llamdo \"Diabetes\" </b></font>\n",
    "\n",
    "**Visualización:**"
   ]
  },
  {
   "cell_type": "code",
   "execution_count": 44,
   "id": "235277d7",
   "metadata": {
    "execution": {
     "iopub.execute_input": "2024-02-26T19:26:12.193781Z",
     "iopub.status.busy": "2024-02-26T19:26:12.192501Z",
     "iopub.status.idle": "2024-02-26T19:26:12.645750Z",
     "shell.execute_reply": "2024-02-26T19:26:12.644521Z"
    },
    "papermill": {
     "duration": 0.49825,
     "end_time": "2024-02-26T19:26:12.649120",
     "exception": false,
     "start_time": "2024-02-26T19:26:12.150870",
     "status": "completed"
    },
    "tags": []
   },
   "outputs": [
    {
     "data": {
      "image/png": "[encoded data removed]",
      "text/plain": [
       "<Figure size 640x480 with 2 Axes>"
      ]
     },
     "metadata": {},
     "output_type": "display_data"
    }
   ],
   "source": [
    "import matplotlib.pyplot as plt\n",
    "import pandas as pd\n",
    "\n",
    "df1 = pd.DataFrame(diabetes)\n",
    "\n",
    "grouped = df1.groupby('glucose_category').mean()\n",
    "\n",
    "\n",
    "fig, ax1 = plt.subplots()\n",
    "\n",
    "ax1.bar(grouped.index, grouped['avg_glucose_level'], color='blue', alpha=0.5, label='Avg Glucose Level')\n",
    "ax1.set_ylabel('Avg Glucose Level', color='blue')\n",
    "ax1.tick_params(axis='y', labelcolor='blue')\n",
    "ax2 = ax1.twinx()\n",
    "\n",
    "\n",
    "ax2.scatter(grouped.index, grouped['fasting_diabetes'], color='red', marker='o', label='Fasting Diabetes')\n",
    "ax2.set_ylabel('Fasting Diabetes', color='red')\n",
    "ax2.tick_params(axis='y', labelcolor='red')\n",
    "\n",
    "\n",
    "\n",
    "\n",
    "\n",
    "plt.title('Combo Chart with diabetes Data')\n",
    "plt.xlabel('Glucose Categories')\n",
    "\n",
    "\n",
    "plt.show()"
   ]
  },
  {
   "cell_type": "markdown",
   "id": "84a15ba1",
   "metadata": {
    "papermill": {
     "duration": 0.039429,
     "end_time": "2024-02-26T19:26:12.728680",
     "exception": false,
     "start_time": "2024-02-26T19:26:12.689251",
     "status": "completed"
    },
    "tags": []
   },
   "source": [
    "<div style=\"border-radius: 10px; border: 2px solid #6A5ACD; padding: 15px; background-color: #87CEEB; font-size: 100%; text-align: left;\">\n",
    "    <font size=\"+1\" color=\"#2E8B57\"><b>💞🏥 Aqui vamos a crear un nuevo dataFrame llamdo \"df3\" </b></font>\n",
    "\n",
    "**Explication: Analizando las columnas 'Tipo de residencia', 'Orígenes' y 'Estado civil' provenientes de dos dataframes distintos, podemos prever qué país tiene una mayor incidencia de problemas cardiovasculares y establecer una relación con el estado laboral (empleo o desempleo), estado civil (soltero o en pareja), entorno (urbano o rural) y los orígenes de los pacientes (etc)...**"
   ]
  },
  {
   "cell_type": "code",
   "execution_count": 45,
   "id": "035193f9",
   "metadata": {
    "execution": {
     "iopub.execute_input": "2024-02-26T19:26:12.811578Z",
     "iopub.status.busy": "2024-02-26T19:26:12.810270Z",
     "iopub.status.idle": "2024-02-26T19:26:12.815931Z",
     "shell.execute_reply": "2024-02-26T19:26:12.814769Z"
    },
    "papermill": {
     "duration": 0.050812,
     "end_time": "2024-02-26T19:26:12.818911",
     "exception": false,
     "start_time": "2024-02-26T19:26:12.768099",
     "status": "completed"
    },
    "tags": []
   },
   "outputs": [],
   "source": [
    "#idea 2 \n",
    "#2  residence type and origins  and ever_marriage (we can predict wich ountry has patients with most cardio problems and relate it to leurs  status (working or jobless , single or taken , urban or rural and the origins) )\n"
   ]
  },
  {
   "cell_type": "markdown",
   "id": "e9a1aa8e",
   "metadata": {
    "execution": {
     "iopub.execute_input": "2024-01-19T20:55:55.616106Z",
     "iopub.status.busy": "2024-01-19T20:55:55.615605Z",
     "iopub.status.idle": "2024-01-19T20:55:55.629129Z",
     "shell.execute_reply": "2024-01-19T20:55:55.627701Z",
     "shell.execute_reply.started": "2024-01-19T20:55:55.616070Z"
    },
    "papermill": {
     "duration": 0.03949,
     "end_time": "2024-02-26T19:26:12.899380",
     "exception": false,
     "start_time": "2024-02-26T19:26:12.859890",
     "status": "completed"
    },
    "tags": []
   },
   "source": [
    "df2.columns.tolist()"
   ]
  },
  {
   "cell_type": "code",
   "execution_count": 46,
   "id": "35faa1f5",
   "metadata": {
    "execution": {
     "iopub.execute_input": "2024-02-26T19:26:12.983061Z",
     "iopub.status.busy": "2024-02-26T19:26:12.982226Z",
     "iopub.status.idle": "2024-02-26T19:26:13.002018Z",
     "shell.execute_reply": "2024-02-26T19:26:13.000608Z"
    },
    "papermill": {
     "duration": 0.065701,
     "end_time": "2024-02-26T19:26:13.005091",
     "exception": false,
     "start_time": "2024-02-26T19:26:12.939390",
     "status": "completed"
    },
    "tags": []
   },
   "outputs": [
    {
     "data": {
      "text/html": [
       "<div>\n",
       "<style scoped>\n",
       "    .dataframe tbody tr th:only-of-type {\n",
       "        vertical-align: middle;\n",
       "    }\n",
       "\n",
       "    .dataframe tbody tr th {\n",
       "        vertical-align: top;\n",
       "    }\n",
       "\n",
       "    .dataframe thead th {\n",
       "        text-align: right;\n",
       "    }\n",
       "</style>\n",
       "<table border=\"1\" class=\"dataframe\">\n",
       "  <thead>\n",
       "    <tr style=\"text-align: right;\">\n",
       "      <th></th>\n",
       "      <th>target</th>\n",
       "      <th>Origins</th>\n",
       "      <th>smoking_status</th>\n",
       "      <th>Residence_type</th>\n",
       "      <th>work_type</th>\n",
       "      <th>ever_married</th>\n",
       "      <th>gender_transform</th>\n",
       "    </tr>\n",
       "  </thead>\n",
       "  <tbody>\n",
       "    <tr>\n",
       "      <th>0</th>\n",
       "      <td>Presence of Heart Disease</td>\n",
       "      <td>Switzerland</td>\n",
       "      <td>formerly smoked</td>\n",
       "      <td>Urban</td>\n",
       "      <td>Private</td>\n",
       "      <td>Yes</td>\n",
       "      <td>Hombre</td>\n",
       "    </tr>\n",
       "    <tr>\n",
       "      <th>1</th>\n",
       "      <td>Absence of Heart Disease</td>\n",
       "      <td>Japan</td>\n",
       "      <td>never smoked</td>\n",
       "      <td>Rural</td>\n",
       "      <td>Self-employed</td>\n",
       "      <td>Yes</td>\n",
       "      <td>Mujer</td>\n",
       "    </tr>\n",
       "    <tr>\n",
       "      <th>2</th>\n",
       "      <td>Absence of Heart Disease</td>\n",
       "      <td>South Korea</td>\n",
       "      <td>never smoked</td>\n",
       "      <td>Rural</td>\n",
       "      <td>Private</td>\n",
       "      <td>Yes</td>\n",
       "      <td>Hombre</td>\n",
       "    </tr>\n",
       "    <tr>\n",
       "      <th>3</th>\n",
       "      <td>Presence of Heart Disease</td>\n",
       "      <td>South Korea</td>\n",
       "      <td>smokes</td>\n",
       "      <td>Urban</td>\n",
       "      <td>Private</td>\n",
       "      <td>Yes</td>\n",
       "      <td>Mujer</td>\n",
       "    </tr>\n",
       "    <tr>\n",
       "      <th>4</th>\n",
       "      <td>Presence of Heart Disease</td>\n",
       "      <td>Italy</td>\n",
       "      <td>never smoked</td>\n",
       "      <td>Rural</td>\n",
       "      <td>Self-employed</td>\n",
       "      <td>Yes</td>\n",
       "      <td>Mujer</td>\n",
       "    </tr>\n",
       "  </tbody>\n",
       "</table>\n",
       "</div>"
      ],
      "text/plain": [
       "                      target      Origins   smoking_status Residence_type  \\\n",
       "0  Presence of Heart Disease  Switzerland  formerly smoked          Urban   \n",
       "1   Absence of Heart Disease        Japan     never smoked          Rural   \n",
       "2   Absence of Heart Disease  South Korea     never smoked          Rural   \n",
       "3  Presence of Heart Disease  South Korea           smokes          Urban   \n",
       "4  Presence of Heart Disease        Italy     never smoked          Rural   \n",
       "\n",
       "       work_type ever_married gender_transform  \n",
       "0        Private          Yes           Hombre  \n",
       "1  Self-employed          Yes            Mujer  \n",
       "2        Private          Yes           Hombre  \n",
       "3        Private          Yes            Mujer  \n",
       "4  Self-employed          Yes            Mujer  "
      ]
     },
     "execution_count": 46,
     "metadata": {},
     "output_type": "execute_result"
    }
   ],
   "source": [
    "df3 = pd.concat([df[['target','Origins']], df2[['smoking_status', 'Residence_type','work_type','ever_married','gender_transform']]], axis=1)\n",
    "df3.head()\n"
   ]
  },
  {
   "cell_type": "markdown",
   "id": "8b23f6e2",
   "metadata": {
    "papermill": {
     "duration": 0.039381,
     "end_time": "2024-02-26T19:26:13.084901",
     "exception": false,
     "start_time": "2024-02-26T19:26:13.045520",
     "status": "completed"
    },
    "tags": []
   },
   "source": [
    "<div style=\"border-radius: 10px; border: 2px solid #6A5ACD; padding: 15px; background-color: #87CEEB; font-size: 100%; text-align: left;\">\n",
    "    <font size=\"+1\" color=\"#2E8B57\"><b>💞🏥¿Cuantos hombres y mujers estan casd@s en este data frame ?</b></font>\n",
    "\n",
    "**Respuesta:  taken: 3353 - single :1757**\n",
    "\n",
    "**Explicación:  el código cuenta y muestra la cantidad de personas que están casadas (\"Yes\" en 'ever_married') y la cantidad de personas que no están casadas (\"No\" en 'ever_married') dentro del DataFrame 'df3'.**"
   ]
  },
  {
   "cell_type": "code",
   "execution_count": 47,
   "id": "1377f9ca",
   "metadata": {
    "execution": {
     "iopub.execute_input": "2024-02-26T19:26:13.168722Z",
     "iopub.status.busy": "2024-02-26T19:26:13.168243Z",
     "iopub.status.idle": "2024-02-26T19:26:13.178656Z",
     "shell.execute_reply": "2024-02-26T19:26:13.177125Z"
    },
    "papermill": {
     "duration": 0.056263,
     "end_time": "2024-02-26T19:26:13.181273",
     "exception": false,
     "start_time": "2024-02-26T19:26:13.125010",
     "status": "completed"
    },
    "tags": []
   },
   "outputs": [
    {
     "name": "stdout",
     "output_type": "stream",
     "text": [
      "taken: 3353\n",
      "single: 1757\n"
     ]
    }
   ],
   "source": [
    "\n",
    "num_yes = (df3['ever_married'] == \"Yes\").sum()\n",
    "num_nos = (df3['ever_married'] == \"No\").sum()\n",
    "\n",
    "print(f\"taken: {num_yes}\")\n",
    "print(f\"single: {num_nos}\")"
   ]
  },
  {
   "cell_type": "markdown",
   "id": "d4bc05b6",
   "metadata": {
    "papermill": {
     "duration": 0.040276,
     "end_time": "2024-02-26T19:26:13.261693",
     "exception": false,
     "start_time": "2024-02-26T19:26:13.221417",
     "status": "completed"
    },
    "tags": []
   },
   "source": [
    "<div style=\"border-radius: 10px; border: 2px solid #6A5ACD; padding: 15px; background-color: #87CEEB; font-size: 100%; text-align: left;\">\n",
    "    <font size=\"+1\" color=\"#2E8B57\"><b>💞🏥¿Cuant@s personas fuman en este data frame ?</b></font>\n",
    "\n",
    "**Respuesta:  789**\n",
    "\n",
    "**Explicación:  el código cuenta y muestra la cantidad de personas que fuman dentro del DataFrame 'df3'.**"
   ]
  },
  {
   "cell_type": "code",
   "execution_count": 48,
   "id": "caaa86c9",
   "metadata": {
    "execution": {
     "iopub.execute_input": "2024-02-26T19:26:13.345825Z",
     "iopub.status.busy": "2024-02-26T19:26:13.344966Z",
     "iopub.status.idle": "2024-02-26T19:26:13.354017Z",
     "shell.execute_reply": "2024-02-26T19:26:13.353138Z"
    },
    "papermill": {
     "duration": 0.053758,
     "end_time": "2024-02-26T19:26:13.356385",
     "exception": false,
     "start_time": "2024-02-26T19:26:13.302627",
     "status": "completed"
    },
    "tags": []
   },
   "outputs": [
    {
     "data": {
      "text/plain": [
       "789"
      ]
     },
     "execution_count": 48,
     "metadata": {},
     "output_type": "execute_result"
    }
   ],
   "source": [
    "smokers_number = (df3['smoking_status'] == \"smokes\").sum()\n",
    "smokers_number"
   ]
  },
  {
   "cell_type": "code",
   "execution_count": 49,
   "id": "5ab891b7",
   "metadata": {
    "execution": {
     "iopub.execute_input": "2024-02-26T19:26:13.441151Z",
     "iopub.status.busy": "2024-02-26T19:26:13.440520Z",
     "iopub.status.idle": "2024-02-26T19:26:13.452991Z",
     "shell.execute_reply": "2024-02-26T19:26:13.451863Z"
    },
    "papermill": {
     "duration": 0.057128,
     "end_time": "2024-02-26T19:26:13.455873",
     "exception": false,
     "start_time": "2024-02-26T19:26:13.398745",
     "status": "completed"
    },
    "tags": []
   },
   "outputs": [
    {
     "data": {
      "text/plain": [
       "(2116, 2994)"
      ]
     },
     "execution_count": 49,
     "metadata": {},
     "output_type": "execute_result"
    }
   ],
   "source": [
    "#another check\n",
    "lali=(df3['gender_transform']==\"Hombre\").sum()\n",
    "lali2=(df3['gender_transform']==\"Mujer\").sum()\n",
    "lali,lali2\n"
   ]
  },
  {
   "cell_type": "markdown",
   "id": "b1330e1f",
   "metadata": {
    "papermill": {
     "duration": 0.041158,
     "end_time": "2024-02-26T19:26:13.538471",
     "exception": false,
     "start_time": "2024-02-26T19:26:13.497313",
     "status": "completed"
    },
    "tags": []
   },
   "source": [
    "<div style=\"border-radius: 10px; border: 2px solid #6A5ACD; padding: 15px; background-color: #87CEEB; font-size: 100%; text-align: left;\">\n",
    "    <font size=\"+1\" color=\"#2E8B57\"><b>💞🏥¿Cuantas  Mujeres fuman en este data frame ?</b></font>\n",
    "\n",
    "**Respuesta:  el numero de mujeres que fuman es: 452**\n",
    "\n",
    "**Explicación:  el código cuenta y muestra la cantidad de Mujers que fuman dentro del DataFrame 'df3'.**"
   ]
  },
  {
   "cell_type": "code",
   "execution_count": 50,
   "id": "375a1bcc",
   "metadata": {
    "execution": {
     "iopub.execute_input": "2024-02-26T19:26:13.623638Z",
     "iopub.status.busy": "2024-02-26T19:26:13.622480Z",
     "iopub.status.idle": "2024-02-26T19:26:13.632913Z",
     "shell.execute_reply": "2024-02-26T19:26:13.631848Z"
    },
    "papermill": {
     "duration": 0.055776,
     "end_time": "2024-02-26T19:26:13.635797",
     "exception": false,
     "start_time": "2024-02-26T19:26:13.580021",
     "status": "completed"
    },
    "tags": []
   },
   "outputs": [
    {
     "name": "stdout",
     "output_type": "stream",
     "text": [
      "el numero de mujeres que fuman es: 452\n"
     ]
    }
   ],
   "source": [
    "#how many  females smoke \n",
    "female_smokers = df3[(df3['gender_transform'] == 'Mujer') & (df3['smoking_status'] == 'smokes')]\n",
    "\n",
    "count_mujeres_smokers = len(female_smokers)\n",
    "\n",
    "print(f\"el numero de mujeres que fuman es: {count_mujeres_smokers}\")\n"
   ]
  },
  {
   "cell_type": "markdown",
   "id": "fa55b0f6",
   "metadata": {
    "papermill": {
     "duration": 0.04036,
     "end_time": "2024-02-26T19:26:13.716704",
     "exception": false,
     "start_time": "2024-02-26T19:26:13.676344",
     "status": "completed"
    },
    "tags": []
   },
   "source": [
    "<div style=\"border-radius: 10px; border: 2px solid #6A5ACD; padding: 15px; background-color: #87CEEB; font-size: 100%; text-align: left;\">\n",
    "    <font size=\"+1\" color=\"#2E8B57\"><b>💞🏥¿Cuantas  Mujeres fuman en este data frame(pero ahora con condicion que sean cassads) ?</b></font>\n",
    "\n",
    "**Respuesta:  el numero de mujeres que son casadas y fuman es : 339**\n",
    "\n",
    "**Explicación:  el código cuenta y muestra la cantidad de Mujers casadas que fuman dentro del DataFrame 'df3'.**"
   ]
  },
  {
   "cell_type": "code",
   "execution_count": 51,
   "id": "8b318feb",
   "metadata": {
    "execution": {
     "iopub.execute_input": "2024-02-26T19:26:13.801147Z",
     "iopub.status.busy": "2024-02-26T19:26:13.800010Z",
     "iopub.status.idle": "2024-02-26T19:26:13.811683Z",
     "shell.execute_reply": "2024-02-26T19:26:13.810739Z"
    },
    "papermill": {
     "duration": 0.057421,
     "end_time": "2024-02-26T19:26:13.814457",
     "exception": false,
     "start_time": "2024-02-26T19:26:13.757036",
     "status": "completed"
    },
    "tags": []
   },
   "outputs": [
    {
     "name": "stdout",
     "output_type": "stream",
     "text": [
      "el numero de mujeres que son casadas y fuman es : 339\n"
     ]
    }
   ],
   "source": [
    "Female_smokers_married = df3[(df3['gender_transform'] == 'Mujer') & \n",
    "                           (df3['smoking_status'] == 'smokes') &\n",
    "                           (df3['ever_married'] == 'Yes')]\n",
    "\n",
    "count_female_smokers_married = len(Female_smokers_married)\n",
    "\n",
    "print(f\"el numero de mujeres que son casadas y fuman es : {count_female_smokers_married}\")"
   ]
  },
  {
   "cell_type": "markdown",
   "id": "e9fd11de",
   "metadata": {
    "papermill": {
     "duration": 0.040823,
     "end_time": "2024-02-26T19:26:13.896963",
     "exception": false,
     "start_time": "2024-02-26T19:26:13.856140",
     "status": "completed"
    },
    "tags": []
   },
   "source": [
    "<div style=\"border-radius: 10px; border: 2px solid #6A5ACD; padding: 15px; background-color: #87CEEB; font-size: 100%; text-align: left;\">\n",
    "    <font size=\"+1\" color=\"#2E8B57\"><b>💞🏥¿Cuantos  hombres fuman en este data frame?</b></font>\n",
    "\n",
    "**Respuesta:  el numero de hombres que fuman es: 337**\n",
    "\n",
    "**Explicación:  el código cuenta y muestra la cantidad de Hombres  que fuman dentro del DataFrame 'df3'.**"
   ]
  },
  {
   "cell_type": "code",
   "execution_count": 52,
   "id": "b389228c",
   "metadata": {
    "execution": {
     "iopub.execute_input": "2024-02-26T19:26:13.983127Z",
     "iopub.status.busy": "2024-02-26T19:26:13.982286Z",
     "iopub.status.idle": "2024-02-26T19:26:13.993008Z",
     "shell.execute_reply": "2024-02-26T19:26:13.991629Z"
    },
    "papermill": {
     "duration": 0.057401,
     "end_time": "2024-02-26T19:26:13.995886",
     "exception": false,
     "start_time": "2024-02-26T19:26:13.938485",
     "status": "completed"
    },
    "tags": []
   },
   "outputs": [
    {
     "name": "stdout",
     "output_type": "stream",
     "text": [
      "el numero de hombres que fuman es: 337\n"
     ]
    }
   ],
   "source": [
    "#how many  Males smoke \n",
    "Males_smokers = df3[(df3['gender_transform'] == 'Hombre') & (df3['smoking_status'] == 'smokes')]\n",
    "\n",
    "# Get the count of Mujeres who smoke\n",
    "count_hombres_smokers = len(Males_smokers)\n",
    "\n",
    "print(f\"el numero de hombres que fuman es: {count_hombres_smokers}\")\n"
   ]
  },
  {
   "cell_type": "markdown",
   "id": "a8374b8e",
   "metadata": {
    "papermill": {
     "duration": 0.040913,
     "end_time": "2024-02-26T19:26:14.078675",
     "exception": false,
     "start_time": "2024-02-26T19:26:14.037762",
     "status": "completed"
    },
    "tags": []
   },
   "source": [
    "<div style=\"border-radius: 10px; border: 2px solid #6A5ACD; padding: 15px; background-color: #87CEEB; font-size: 100%; text-align: left;\">\n",
    "    <font size=\"+1\" color=\"#2E8B57\"><b>💞🏥¿Cuantos  hombres fuman en este data frame pero casados?</b></font>\n",
    "\n",
    "**Respuesta:  el numero de hombres que fuman y casdos  son : 271**\n",
    "\n",
    "**Explicación:  el código cuenta y muestra la cantidad de Hombres  que fuman y casdos dentro del DataFrame 'df3'.**"
   ]
  },
  {
   "cell_type": "code",
   "execution_count": 53,
   "id": "e1f4780f",
   "metadata": {
    "execution": {
     "iopub.execute_input": "2024-02-26T19:26:14.166769Z",
     "iopub.status.busy": "2024-02-26T19:26:14.165887Z",
     "iopub.status.idle": "2024-02-26T19:26:14.178636Z",
     "shell.execute_reply": "2024-02-26T19:26:14.177075Z"
    },
    "papermill": {
     "duration": 0.060278,
     "end_time": "2024-02-26T19:26:14.181454",
     "exception": false,
     "start_time": "2024-02-26T19:26:14.121176",
     "status": "completed"
    },
    "tags": []
   },
   "outputs": [
    {
     "name": "stdout",
     "output_type": "stream",
     "text": [
      "The number of male smokers who are married is: 271\n"
     ]
    }
   ],
   "source": [
    "male_smokers_married = df3[(df3['gender_transform'] == 'Hombre') & \n",
    "                           (df3['smoking_status'] == 'smokes') &\n",
    "                           (df3['ever_married'] == 'Yes')]\n",
    "\n",
    "count_male_smokers_married = len(male_smokers_married)\n",
    "\n",
    "print(f\"The number of male smokers who are married is: {count_male_smokers_married}\")"
   ]
  },
  {
   "cell_type": "markdown",
   "id": "1d1cf2b4",
   "metadata": {
    "papermill": {
     "duration": 0.040843,
     "end_time": "2024-02-26T19:26:14.263590",
     "exception": false,
     "start_time": "2024-02-26T19:26:14.222747",
     "status": "completed"
    },
    "tags": []
   },
   "source": [
    "<div style=\"border-radius: 10px; border: 2px solid #6A5ACD; padding: 15px; background-color: #87CEEB; font-size: 100%; text-align: left;\">\n",
    "    <font size=\"+1\" color=\"#2E8B57\"><b>💞🏥¿Cuantos  hombres fuman y viven in Italia en zonas urbanas en este data frame ?</b></font>\n",
    "\n",
    "**Respuesta:  El número de hombres fumadores que viven en zonas urbanas en Italia es: 8**\n"
   ]
  },
  {
   "cell_type": "code",
   "execution_count": 54,
   "id": "b68804de",
   "metadata": {
    "execution": {
     "iopub.execute_input": "2024-02-26T19:26:14.349226Z",
     "iopub.status.busy": "2024-02-26T19:26:14.348707Z",
     "iopub.status.idle": "2024-02-26T19:26:14.362414Z",
     "shell.execute_reply": "2024-02-26T19:26:14.361085Z"
    },
    "papermill": {
     "duration": 0.061087,
     "end_time": "2024-02-26T19:26:14.366081",
     "exception": false,
     "start_time": "2024-02-26T19:26:14.304994",
     "status": "completed"
    },
    "tags": []
   },
   "outputs": [
    {
     "name": "stdout",
     "output_type": "stream",
     "text": [
      "El número de hombres fumadores que viven en zonas urbanas en Italia es: 8\n"
     ]
    }
   ],
   "source": [
    "#i want to know how many males  who smoke lives in urban in Italy \n",
    "\n",
    "\n",
    "idea = df3[(df3['gender_transform'] == 'Hombre') & \n",
    "                           (df3['smoking_status'] == 'smokes') &\n",
    "                           (df3['Residence_type']=='Urban')&\n",
    "                            (df3['Origins'] == 'Italy') ]\n",
    "\n",
    "p = len(idea)\n",
    "print(f\"El número de hombres fumadores que viven en zonas urbanas en Italia es: {p}\")"
   ]
  },
  {
   "cell_type": "markdown",
   "id": "2ed13b39",
   "metadata": {
    "papermill": {
     "duration": 0.040575,
     "end_time": "2024-02-26T19:26:14.449898",
     "exception": false,
     "start_time": "2024-02-26T19:26:14.409323",
     "status": "completed"
    },
    "tags": []
   },
   "source": [
    "<div style=\"border-radius: 10px; border: 2px solid #6A5ACD; padding: 15px; background-color: #87CEEB; font-size: 100%; text-align: left;\">\n",
    "    <font size=\"+1\" color=\"#2E8B57\"><b>💞🏥 Estudio de un caso especial de un  hombre que fuma y vive en un zona urbana en italia pero no tiene ningun problema de corazon  </b></font>\n",
    "\n",
    "**Respuesta:  El número de hombres fumadores que viven en zonas urbanas en Italia y no tiene problemas de corzaon es: 1**\n"
   ]
  },
  {
   "cell_type": "code",
   "execution_count": 55,
   "id": "b2ebf878",
   "metadata": {
    "execution": {
     "iopub.execute_input": "2024-02-26T19:26:14.534915Z",
     "iopub.status.busy": "2024-02-26T19:26:14.533731Z",
     "iopub.status.idle": "2024-02-26T19:26:14.550195Z",
     "shell.execute_reply": "2024-02-26T19:26:14.548752Z"
    },
    "papermill": {
     "duration": 0.061505,
     "end_time": "2024-02-26T19:26:14.552932",
     "exception": false,
     "start_time": "2024-02-26T19:26:14.491427",
     "status": "completed"
    },
    "tags": []
   },
   "outputs": [
    {
     "name": "stdout",
     "output_type": "stream",
     "text": [
      "El número de hombres fumadores que viven en zonas urbanas en Italia y no tiene problemas de corzaon es: 1\n"
     ]
    }
   ],
   "source": [
    "# special case  \n",
    "dea = df3[(df3['gender_transform'] == 'Hombre') & \n",
    "                           (df3['smoking_status'] == 'smokes') &\n",
    "                           (df3['Residence_type']=='Urban')&\n",
    "                            (df3['Origins'] == 'Italy') &\n",
    "                            (df3['target'] == 'Absence of Heart Disease') \n",
    "                            ]\n",
    "\n",
    "p = len(dea)\n",
    "print(f\"El número de hombres fumadores que viven en zonas urbanas en Italia y no tiene problemas de corzaon es: {p}\")"
   ]
  },
  {
   "cell_type": "code",
   "execution_count": 56,
   "id": "ab3bf074",
   "metadata": {
    "execution": {
     "iopub.execute_input": "2024-02-26T19:26:14.638269Z",
     "iopub.status.busy": "2024-02-26T19:26:14.637052Z",
     "iopub.status.idle": "2024-02-26T19:26:14.642431Z",
     "shell.execute_reply": "2024-02-26T19:26:14.641486Z"
    },
    "papermill": {
     "duration": 0.050842,
     "end_time": "2024-02-26T19:26:14.644813",
     "exception": false,
     "start_time": "2024-02-26T19:26:14.593971",
     "status": "completed"
    },
    "tags": []
   },
   "outputs": [],
   "source": [
    "#idea3"
   ]
  },
  {
   "cell_type": "code",
   "execution_count": 57,
   "id": "eb7c8c6c",
   "metadata": {
    "execution": {
     "iopub.execute_input": "2024-02-26T19:26:14.729358Z",
     "iopub.status.busy": "2024-02-26T19:26:14.728066Z",
     "iopub.status.idle": "2024-02-26T19:26:14.742405Z",
     "shell.execute_reply": "2024-02-26T19:26:14.741016Z"
    },
    "papermill": {
     "duration": 0.060258,
     "end_time": "2024-02-26T19:26:14.745674",
     "exception": false,
     "start_time": "2024-02-26T19:26:14.685416",
     "status": "completed"
    },
    "tags": []
   },
   "outputs": [
    {
     "name": "stdout",
     "output_type": "stream",
     "text": [
      "El número de hombres fumadores que viven en zonas urbanas y trabajan en el sectore privado es: 124\n"
     ]
    }
   ],
   "source": [
    "idea4 = df3[(df3['gender_transform'] == 'Hombre') & \n",
    "                           (df3['smoking_status'] == 'smokes') &\n",
    "                           (df3['Residence_type']=='Urban')&\n",
    "                           (df3['work_type']== 'Private')]\n",
    "\n",
    "p = len(idea4)\n",
    "print(f\"El número de hombres fumadores que viven en zonas urbanas y trabajan en el sectore privado es: {p}\")"
   ]
  },
  {
   "cell_type": "code",
   "execution_count": 58,
   "id": "dd4d9af4",
   "metadata": {
    "execution": {
     "iopub.execute_input": "2024-02-26T19:26:14.833345Z",
     "iopub.status.busy": "2024-02-26T19:26:14.832903Z",
     "iopub.status.idle": "2024-02-26T19:26:14.845109Z",
     "shell.execute_reply": "2024-02-26T19:26:14.843728Z"
    },
    "papermill": {
     "duration": 0.059696,
     "end_time": "2024-02-26T19:26:14.848528",
     "exception": false,
     "start_time": "2024-02-26T19:26:14.788832",
     "status": "completed"
    },
    "tags": []
   },
   "outputs": [
    {
     "name": "stdout",
     "output_type": "stream",
     "text": [
      "El número de hombres fumadores que viven en zonas urbanas  es: 183\n"
     ]
    }
   ],
   "source": [
    "idea5= df3[(df3['gender_transform'] == 'Hombre') & \n",
    "                           (df3['smoking_status'] == 'smokes') &\n",
    "                           (df3['Residence_type']=='Urban')]\n",
    "\n",
    "p = len(idea5)\n",
    "print(f\"El número de hombres fumadores que viven en zonas urbanas  es: {p}\")"
   ]
  }
 ],
 "metadata": {
  "kaggle": {
   "accelerator": "none",
   "dataSources": [
    {
     "datasetId": 4328668,
     "sourceId": 7437419,
     "sourceType": "datasetVersion"
    }
   ],
   "dockerImageVersionId": 30635,
   "isGpuEnabled": false,
   "isInternetEnabled": false,
   "language": "python",
   "sourceType": "notebook"
  },
  "kernelspec": {
   "display_name": "Python 3",
   "language": "python",
   "name": "python3"
  },
  "language_info": {
   "codemirror_mode": {
    "name": "ipython",
    "version": 3
   },
   "file_extension": ".py",
   "mimetype": "text/x-python",
   "name": "python",
   "nbconvert_exporter": "python",
   "pygments_lexer": "ipython3",
   "version": "3.10.12"
  },
  "papermill": {
   "default_parameters": {},
   "duration": 20.813804,
   "end_time": "2024-02-26T19:26:15.814281",
   "environment_variables": {},
   "exception": null,
   "input_path": "__notebook__.ipynb",
   "output_path": "__notebook__.ipynb",
   "parameters": {},
   "start_time": "2024-02-26T19:25:55.000477",
   "version": "2.4.0"
  }
 },
 "nbformat": 4,
 "nbformat_minor": 5
}
